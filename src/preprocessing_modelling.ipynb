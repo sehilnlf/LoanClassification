{
 "cells": [
  {
   "cell_type": "code",
   "execution_count": 1,
   "metadata": {},
   "outputs": [],
   "source": [
    "import numpy as np\n",
    "import pandas as pd\n",
    "import matplotlib.pyplot as plt\n",
    "import seaborn as sns\n",
    "import os\n",
    "\n",
    "%matplotlib inline"
   ]
  },
  {
   "cell_type": "code",
   "execution_count": 2,
   "metadata": {},
   "outputs": [
    {
     "data": {
      "text/html": [
       "<div>\n",
       "<style scoped>\n",
       "    .dataframe tbody tr th:only-of-type {\n",
       "        vertical-align: middle;\n",
       "    }\n",
       "\n",
       "    .dataframe tbody tr th {\n",
       "        vertical-align: top;\n",
       "    }\n",
       "\n",
       "    .dataframe thead th {\n",
       "        text-align: right;\n",
       "    }\n",
       "</style>\n",
       "<table border=\"1\" class=\"dataframe\">\n",
       "  <thead>\n",
       "    <tr style=\"text-align: right;\">\n",
       "      <th></th>\n",
       "      <th>State</th>\n",
       "      <th>NAICS</th>\n",
       "      <th>NoEmp</th>\n",
       "      <th>NewExist</th>\n",
       "      <th>MIS_Status</th>\n",
       "      <th>SBA_GrPortion</th>\n",
       "      <th>RealEstate</th>\n",
       "    </tr>\n",
       "  </thead>\n",
       "  <tbody>\n",
       "    <tr>\n",
       "      <th>0</th>\n",
       "      <td>in</td>\n",
       "      <td>45</td>\n",
       "      <td>4</td>\n",
       "      <td>2.0</td>\n",
       "      <td>P I F</td>\n",
       "      <td>0.80</td>\n",
       "      <td>0</td>\n",
       "    </tr>\n",
       "    <tr>\n",
       "      <th>1</th>\n",
       "      <td>in</td>\n",
       "      <td>62</td>\n",
       "      <td>7</td>\n",
       "      <td>1.0</td>\n",
       "      <td>P I F</td>\n",
       "      <td>0.75</td>\n",
       "      <td>0</td>\n",
       "    </tr>\n",
       "    <tr>\n",
       "      <th>2</th>\n",
       "      <td>ct</td>\n",
       "      <td>33</td>\n",
       "      <td>19</td>\n",
       "      <td>1.0</td>\n",
       "      <td>P I F</td>\n",
       "      <td>0.75</td>\n",
       "      <td>0</td>\n",
       "    </tr>\n",
       "    <tr>\n",
       "      <th>3</th>\n",
       "      <td>fl</td>\n",
       "      <td>81</td>\n",
       "      <td>1</td>\n",
       "      <td>2.0</td>\n",
       "      <td>P I F</td>\n",
       "      <td>0.80</td>\n",
       "      <td>0</td>\n",
       "    </tr>\n",
       "    <tr>\n",
       "      <th>4</th>\n",
       "      <td>nc</td>\n",
       "      <td>81</td>\n",
       "      <td>1</td>\n",
       "      <td>2.0</td>\n",
       "      <td>P I F</td>\n",
       "      <td>0.80</td>\n",
       "      <td>0</td>\n",
       "    </tr>\n",
       "  </tbody>\n",
       "</table>\n",
       "</div>"
      ],
      "text/plain": [
       "  State  NAICS  NoEmp  NewExist MIS_Status  SBA_GrPortion  RealEstate\n",
       "0    in     45      4       2.0      P I F           0.80           0\n",
       "1    in     62      7       1.0      P I F           0.75           0\n",
       "2    ct     33     19       1.0      P I F           0.75           0\n",
       "3    fl     81      1       2.0      P I F           0.80           0\n",
       "4    nc     81      1       2.0      P I F           0.80           0"
      ]
     },
     "execution_count": 2,
     "metadata": {},
     "output_type": "execute_result"
    }
   ],
   "source": [
    "SBA = pd.read_csv(\"../data/SBA_cleaned.csv\", na_values='nan', index_col=None)\n",
    "SBA.head()"
   ]
  },
  {
   "cell_type": "code",
   "execution_count": 3,
   "metadata": {},
   "outputs": [
    {
     "data": {
      "text/plain": [
       "MIS_Status\n",
       "P I F     391134\n",
       "CHGOFF     97149\n",
       "Name: count, dtype: int64"
      ]
     },
     "execution_count": 3,
     "metadata": {},
     "output_type": "execute_result"
    }
   ],
   "source": [
    "# Count the target variable\n",
    "SBA['MIS_Status'].value_counts()"
   ]
  },
  {
   "cell_type": "code",
   "execution_count": 4,
   "metadata": {},
   "outputs": [
    {
     "data": {
      "text/html": [
       "<div>\n",
       "<style scoped>\n",
       "    .dataframe tbody tr th:only-of-type {\n",
       "        vertical-align: middle;\n",
       "    }\n",
       "\n",
       "    .dataframe tbody tr th {\n",
       "        vertical-align: top;\n",
       "    }\n",
       "\n",
       "    .dataframe thead th {\n",
       "        text-align: right;\n",
       "    }\n",
       "</style>\n",
       "<table border=\"1\" class=\"dataframe\">\n",
       "  <thead>\n",
       "    <tr style=\"text-align: right;\">\n",
       "      <th></th>\n",
       "      <th>NAICS</th>\n",
       "      <th>NoEmp</th>\n",
       "      <th>NewExist</th>\n",
       "      <th>SBA_GrPortion</th>\n",
       "      <th>RealEstate</th>\n",
       "    </tr>\n",
       "  </thead>\n",
       "  <tbody>\n",
       "    <tr>\n",
       "      <th>count</th>\n",
       "      <td>488283.000000</td>\n",
       "      <td>488283.000000</td>\n",
       "      <td>488283.000000</td>\n",
       "      <td>488283.000000</td>\n",
       "      <td>488283.000000</td>\n",
       "    </tr>\n",
       "    <tr>\n",
       "      <th>mean</th>\n",
       "      <td>50.965858</td>\n",
       "      <td>9.991984</td>\n",
       "      <td>1.287745</td>\n",
       "      <td>0.683989</td>\n",
       "      <td>0.137588</td>\n",
       "    </tr>\n",
       "    <tr>\n",
       "      <th>std</th>\n",
       "      <td>17.645562</td>\n",
       "      <td>66.539363</td>\n",
       "      <td>0.452712</td>\n",
       "      <td>0.175399</td>\n",
       "      <td>0.344468</td>\n",
       "    </tr>\n",
       "    <tr>\n",
       "      <th>min</th>\n",
       "      <td>11.000000</td>\n",
       "      <td>0.000000</td>\n",
       "      <td>1.000000</td>\n",
       "      <td>0.028140</td>\n",
       "      <td>0.000000</td>\n",
       "    </tr>\n",
       "    <tr>\n",
       "      <th>25%</th>\n",
       "      <td>42.000000</td>\n",
       "      <td>2.000000</td>\n",
       "      <td>1.000000</td>\n",
       "      <td>0.500000</td>\n",
       "      <td>0.000000</td>\n",
       "    </tr>\n",
       "    <tr>\n",
       "      <th>50%</th>\n",
       "      <td>51.000000</td>\n",
       "      <td>4.000000</td>\n",
       "      <td>1.000000</td>\n",
       "      <td>0.750000</td>\n",
       "      <td>0.000000</td>\n",
       "    </tr>\n",
       "    <tr>\n",
       "      <th>75%</th>\n",
       "      <td>62.000000</td>\n",
       "      <td>9.000000</td>\n",
       "      <td>2.000000</td>\n",
       "      <td>0.850000</td>\n",
       "      <td>0.000000</td>\n",
       "    </tr>\n",
       "    <tr>\n",
       "      <th>max</th>\n",
       "      <td>92.000000</td>\n",
       "      <td>9999.000000</td>\n",
       "      <td>2.000000</td>\n",
       "      <td>1.000000</td>\n",
       "      <td>1.000000</td>\n",
       "    </tr>\n",
       "  </tbody>\n",
       "</table>\n",
       "</div>"
      ],
      "text/plain": [
       "               NAICS          NoEmp       NewExist  SBA_GrPortion  \\\n",
       "count  488283.000000  488283.000000  488283.000000  488283.000000   \n",
       "mean       50.965858       9.991984       1.287745       0.683989   \n",
       "std        17.645562      66.539363       0.452712       0.175399   \n",
       "min        11.000000       0.000000       1.000000       0.028140   \n",
       "25%        42.000000       2.000000       1.000000       0.500000   \n",
       "50%        51.000000       4.000000       1.000000       0.750000   \n",
       "75%        62.000000       9.000000       2.000000       0.850000   \n",
       "max        92.000000    9999.000000       2.000000       1.000000   \n",
       "\n",
       "          RealEstate  \n",
       "count  488283.000000  \n",
       "mean        0.137588  \n",
       "std         0.344468  \n",
       "min         0.000000  \n",
       "25%         0.000000  \n",
       "50%         0.000000  \n",
       "75%         0.000000  \n",
       "max         1.000000  "
      ]
     },
     "execution_count": 4,
     "metadata": {},
     "output_type": "execute_result"
    }
   ],
   "source": [
    "SBA.describe()"
   ]
  },
  {
   "cell_type": "code",
   "execution_count": 5,
   "metadata": {},
   "outputs": [
    {
     "data": {
      "image/png": "[encoded data removed]",
      "text/plain": [
       "<Figure size 1500x500 with 2 Axes>"
      ]
     },
     "metadata": {},
     "output_type": "display_data"
    }
   ],
   "source": [
    "# Box plot for NoEmp and SBA_GrPortion\n",
    "fig, ax = plt.subplots(1, 2, figsize=(15, 5))\n",
    "sns.boxplot(x='MIS_Status', y='NoEmp', data=SBA, ax=ax[0])\n",
    "sns.boxplot(x='MIS_Status', y='SBA_GrPortion', data=SBA, ax=ax[1])\n",
    "plt.show()"
   ]
  },
  {
   "cell_type": "code",
   "execution_count": 6,
   "metadata": {},
   "outputs": [],
   "source": [
    "# MinMaxScaler for NoEmp and SBA_GrPortion\n",
    "from sklearn.preprocessing import MinMaxScaler\n",
    "scaler = MinMaxScaler()\n",
    "SBA[['NoEmp', 'SBA_GrPortion']] = scaler.fit_transform(SBA[['NoEmp', 'SBA_GrPortion']])"
   ]
  },
  {
   "cell_type": "code",
   "execution_count": 7,
   "metadata": {},
   "outputs": [],
   "source": [
    "def outlier(datacolumn):\n",
    "    sorted(datacolumn)\n",
    "    Q1, Q3 = np.percentile(datacolumn, [25, 75])\n",
    "    IQR = Q3 - Q1\n",
    "    lower_range = Q1 - (1.5 * IQR)\n",
    "    upper_range = Q3 + (1.5 * IQR)\n",
    "    return lower_range, upper_range"
   ]
  },
  {
   "cell_type": "code",
   "execution_count": 8,
   "metadata": {},
   "outputs": [],
   "source": [
    "# Remove outliers for NoEmp and SBA_GrPortion\n",
    "low_NoEmp, up_NoEmp = outlier(SBA['NoEmp'])\n",
    "low_SBA_GrPortion, up_SBA_GrPortion = outlier(SBA['SBA_GrPortion'])\n",
    "SBA = SBA[(SBA['NoEmp'] > low_NoEmp) & (SBA['NoEmp'] < up_NoEmp)]\n",
    "SBA = SBA[(SBA['SBA_GrPortion'] > low_SBA_GrPortion) & (SBA['SBA_GrPortion'] < up_SBA_GrPortion)]"
   ]
  },
  {
   "cell_type": "code",
   "execution_count": 9,
   "metadata": {},
   "outputs": [
    {
     "data": {
      "text/plain": [
       "MIS_Status\n",
       "P I F     341719\n",
       "CHGOFF     91620\n",
       "Name: count, dtype: int64"
      ]
     },
     "execution_count": 9,
     "metadata": {},
     "output_type": "execute_result"
    }
   ],
   "source": [
    "SBA['MIS_Status'].value_counts()"
   ]
  },
  {
   "cell_type": "code",
   "execution_count": 10,
   "metadata": {},
   "outputs": [],
   "source": [
    "seed = 500\n",
    "# Take 50000 samples for each value of MIS_Status\n",
    "SBA_1 = SBA[SBA['MIS_Status'] == \"P I F\"].sample(n=5000, random_state=seed)\n",
    "SBA_0 = SBA[SBA['MIS_Status'] == \"CHGOFF\"].sample(n=5000, random_state=seed)\n",
    "SBA = pd.concat([SBA_0, SBA_1], axis=0)"
   ]
  },
  {
   "cell_type": "code",
   "execution_count": 11,
   "metadata": {},
   "outputs": [],
   "source": [
    "# Label encoding for MIS_Status before target encoding for state\n",
    "from sklearn.preprocessing import LabelEncoder\n",
    "le = LabelEncoder()\n",
    "SBA['MIS_Status'] = le.fit_transform(SBA['MIS_Status'])\n",
    "# P I F: 1, CHGOFF: 0"
   ]
  },
  {
   "cell_type": "code",
   "execution_count": 12,
   "metadata": {},
   "outputs": [
    {
     "data": {
      "text/html": [
       "<div>\n",
       "<style scoped>\n",
       "    .dataframe tbody tr th:only-of-type {\n",
       "        vertical-align: middle;\n",
       "    }\n",
       "\n",
       "    .dataframe tbody tr th {\n",
       "        vertical-align: top;\n",
       "    }\n",
       "\n",
       "    .dataframe thead th {\n",
       "        text-align: right;\n",
       "    }\n",
       "</style>\n",
       "<table border=\"1\" class=\"dataframe\">\n",
       "  <thead>\n",
       "    <tr style=\"text-align: right;\">\n",
       "      <th></th>\n",
       "      <th>State</th>\n",
       "      <th>NAICS</th>\n",
       "      <th>NoEmp</th>\n",
       "      <th>NewExist</th>\n",
       "      <th>MIS_Status</th>\n",
       "      <th>SBA_GrPortion</th>\n",
       "      <th>RealEstate</th>\n",
       "    </tr>\n",
       "  </thead>\n",
       "  <tbody>\n",
       "    <tr>\n",
       "      <th>195550</th>\n",
       "      <td>ca</td>\n",
       "      <td>44</td>\n",
       "      <td>0.0001</td>\n",
       "      <td>2.0</td>\n",
       "      <td>0</td>\n",
       "      <td>0.742761</td>\n",
       "      <td>0</td>\n",
       "    </tr>\n",
       "    <tr>\n",
       "      <th>142477</th>\n",
       "      <td>ca</td>\n",
       "      <td>54</td>\n",
       "      <td>0.0002</td>\n",
       "      <td>1.0</td>\n",
       "      <td>0</td>\n",
       "      <td>0.485523</td>\n",
       "      <td>0</td>\n",
       "    </tr>\n",
       "    <tr>\n",
       "      <th>452616</th>\n",
       "      <td>wi</td>\n",
       "      <td>23</td>\n",
       "      <td>0.0001</td>\n",
       "      <td>1.0</td>\n",
       "      <td>0</td>\n",
       "      <td>0.485523</td>\n",
       "      <td>0</td>\n",
       "    </tr>\n",
       "    <tr>\n",
       "      <th>455118</th>\n",
       "      <td>nh</td>\n",
       "      <td>62</td>\n",
       "      <td>0.0003</td>\n",
       "      <td>1.0</td>\n",
       "      <td>0</td>\n",
       "      <td>0.845657</td>\n",
       "      <td>0</td>\n",
       "    </tr>\n",
       "    <tr>\n",
       "      <th>389698</th>\n",
       "      <td>ky</td>\n",
       "      <td>23</td>\n",
       "      <td>0.0010</td>\n",
       "      <td>2.0</td>\n",
       "      <td>0</td>\n",
       "      <td>0.742761</td>\n",
       "      <td>0</td>\n",
       "    </tr>\n",
       "  </tbody>\n",
       "</table>\n",
       "</div>"
      ],
      "text/plain": [
       "       State  NAICS   NoEmp  NewExist  MIS_Status  SBA_GrPortion  RealEstate\n",
       "195550    ca     44  0.0001       2.0           0       0.742761           0\n",
       "142477    ca     54  0.0002       1.0           0       0.485523           0\n",
       "452616    wi     23  0.0001       1.0           0       0.485523           0\n",
       "455118    nh     62  0.0003       1.0           0       0.845657           0\n",
       "389698    ky     23  0.0010       2.0           0       0.742761           0"
      ]
     },
     "execution_count": 12,
     "metadata": {},
     "output_type": "execute_result"
    }
   ],
   "source": [
    "SBA.head()"
   ]
  },
  {
   "cell_type": "code",
   "execution_count": 13,
   "metadata": {},
   "outputs": [],
   "source": [
    "from sklearn import base\n",
    "from sklearn.model_selection import KFold\n",
    "class KFoldTargetEncoderTrain(base.BaseEstimator,\n",
    "                               base.TransformerMixin):\n",
    "    def __init__(self,colnames,targetName,\n",
    "                  n_fold=5, verbosity=True,\n",
    "                  discardOriginal_col=False):\n",
    "        self.colnames = colnames\n",
    "        self.targetName = targetName\n",
    "        self.n_fold = n_fold\n",
    "        self.verbosity = verbosity\n",
    "        self.discardOriginal_col = discardOriginal_col\n",
    "    def fit(self, X, y=None):\n",
    "        return self\n",
    "    def transform(self,X):\n",
    "        mean_of_target = X[self.targetName].mean()\n",
    "        kf = KFold(n_splits = self.n_fold,\n",
    "                   shuffle = True, random_state=2023)\n",
    "        col_mean_name = self.colnames + '_' + 'Kfold_Target_Enc'\n",
    "        X[col_mean_name] = np.nan\n",
    "        for tr_ind, val_ind in kf.split(X):\n",
    "            X_tr, X_val = X.iloc[tr_ind], X.iloc[val_ind]\n",
    "            X.loc[X.index[val_ind], col_mean_name] = X_val[self.colnames].map(X_tr.groupby(self.colnames)\n",
    "                                     [self.targetName].mean())\n",
    "            X[col_mean_name].fillna(mean_of_target, inplace = True)\n",
    "        if self.verbosity:\n",
    "            encoded_feature = X[col_mean_name].values\n",
    "            print('Correlation between the new feature, {} and, {} is {}.'.format(col_mean_name,self.targetName,                    \n",
    "                   np.corrcoef(X[self.targetName].values,\n",
    "                               encoded_feature)[0][1]))\n",
    "        if self.discardOriginal_col:\n",
    "            X = X.drop(self.targetName, axis=1)\n",
    "        return X"
   ]
  },
  {
   "cell_type": "code",
   "execution_count": 14,
   "metadata": {},
   "outputs": [
    {
     "name": "stdout",
     "output_type": "stream",
     "text": [
      "Correlation between the new feature, State_Kfold_Target_Enc and, MIS_Status is 0.13841004812935978.\n"
     ]
    }
   ],
   "source": [
    "targeState = KFoldTargetEncoderTrain('State','MIS_Status',n_fold=10)\n",
    "SBA = targeState.fit_transform(SBA)\n",
    "SBA.drop(['State'], axis=1, inplace=True)"
   ]
  },
  {
   "cell_type": "code",
   "execution_count": 15,
   "metadata": {},
   "outputs": [
    {
     "name": "stdout",
     "output_type": "stream",
     "text": [
      "Correlation between the new feature, NAICS_Kfold_Target_Enc and, MIS_Status is 0.12204395266298472.\n"
     ]
    }
   ],
   "source": [
    "targetNaics = KFoldTargetEncoderTrain('NAICS','MIS_Status',n_fold=10)\n",
    "SBA = targetNaics.fit_transform(SBA)\n",
    "SBAdrop = SBA.drop(['NAICS'], axis=1, inplace=True)"
   ]
  },
  {
   "cell_type": "code",
   "execution_count": 16,
   "metadata": {},
   "outputs": [],
   "source": [
    "X = SBA.drop(['MIS_Status'], axis=1)\n",
    "y = SBA['MIS_Status']"
   ]
  },
  {
   "cell_type": "code",
   "execution_count": 17,
   "metadata": {},
   "outputs": [],
   "source": [
    "# Split the data into train and test\n",
    "from sklearn.model_selection import train_test_split\n",
    "X_train, X_test, y_train, y_test = train_test_split(X, y, test_size=0.25, random_state=100)"
   ]
  },
  {
   "cell_type": "code",
   "execution_count": 18,
   "metadata": {},
   "outputs": [],
   "source": [
    "from sklearn.metrics import accuracy_score, confusion_matrix, classification_report, roc_auc_score, roc_curve, auc\n",
    "from sklearn.model_selection import cross_val_score"
   ]
  },
  {
   "cell_type": "code",
   "execution_count": 19,
   "metadata": {},
   "outputs": [
    {
     "name": "stdout",
     "output_type": "stream",
     "text": [
      "Best k value: 7\n",
      "Accuracy for best k value: 0.624\n",
      "Classification Report for Best k value (7):\n",
      "              precision    recall  f1-score   support\n",
      "\n",
      "           0       0.61      0.65      0.63      1238\n",
      "           1       0.64      0.60      0.62      1262\n",
      "\n",
      "    accuracy                           0.62      2500\n",
      "   macro avg       0.62      0.62      0.62      2500\n",
      "weighted avg       0.62      0.62      0.62      2500\n",
      "\n"
     ]
    },
    {
     "data": {
      "image/png": "[encoded data removed]",
      "text/plain": [
       "<Figure size 800x600 with 1 Axes>"
      ]
     },
     "metadata": {},
     "output_type": "display_data"
    }
   ],
   "source": [
    "np.seed = 500\n",
    "from sklearn.neighbors import KNeighborsClassifier\n",
    "\n",
    "# Define the number of base classifiers in the ensemble\n",
    "num_classifiers = 7\n",
    "\n",
    "k_values = list(range(1, 16))\n",
    "ensemble_train_accuracies = []\n",
    "ensemble_test_accuracies = []\n",
    "\n",
    "predictions = {}\n",
    "classification_reports = {}\n",
    "\n",
    "for k in k_values:\n",
    "    # Create an empty list to store the base classifiers\n",
    "    classifiers = []\n",
    "\n",
    "    # Train the base classifiers on different subsets of the training data\n",
    "    for i in range(num_classifiers):\n",
    "        classifier = KNeighborsClassifier(n_neighbors=k)\n",
    "        subset_indices = np.random.choice(len(X_train), size=int(0.75 * len(X_train)), replace=False)\n",
    "        subset_features = X_train.iloc[subset_indices] \n",
    "        subset_targets = y_train.iloc[subset_indices]\n",
    "        classifier.fit(subset_features, subset_targets)\n",
    "        classifiers.append(classifier)\n",
    "\n",
    "    # Make predictions using each base classifier and calculate their weights based on accuracy\n",
    "    weights = []\n",
    "    train_predictions = []\n",
    "    test_predictions = []\n",
    "\n",
    "    for classifier in classifiers:\n",
    "        train_pred = classifier.predict(X_train)\n",
    "        test_pred = classifier.predict(X_test)\n",
    "        train_accuracy = accuracy_score(y_train, train_pred)\n",
    "        test_accuracy = accuracy_score(y_test, test_pred)\n",
    "        weight = train_accuracy / sum(train_accuracy for _ in classifiers)\n",
    "        weights.append(weight)\n",
    "        train_predictions.append(train_pred)\n",
    "        test_predictions.append(test_pred)\n",
    "\n",
    "    # Combine the predictions using weighted voting for training set\n",
    "    ensemble_train_predictions = np.zeros_like(train_predictions[0], dtype=np.float64)\n",
    "\n",
    "    for i in range(len(classifiers)):\n",
    "        ensemble_train_predictions += weights[i] * train_predictions[i]\n",
    "\n",
    "    ensemble_train_predictions = np.round(ensemble_train_predictions)\n",
    "\n",
    "    # Combine the predictions using weighted voting for test set\n",
    "    ensemble_test_predictions = np.zeros_like(test_predictions[0], dtype=np.float64)\n",
    "\n",
    "    for i in range(len(classifiers)):\n",
    "        ensemble_test_predictions += weights[i] * test_predictions[i]\n",
    "\n",
    "    ensemble_test_predictions = np.round(ensemble_test_predictions)\n",
    "\n",
    "    # Store the predictions in a dictionary\n",
    "    predictions[k] = ensemble_test_predictions\n",
    "    \n",
    "    # Evaluate the ensemble's accuracy for training and test sets\n",
    "    ensemble_train_accuracy = accuracy_score(y_train, ensemble_train_predictions)\n",
    "    ensemble_test_accuracy = accuracy_score(y_test, ensemble_test_predictions)\n",
    "    ensemble_train_accuracies.append(ensemble_train_accuracy)\n",
    "    ensemble_test_accuracies.append(ensemble_test_accuracy)\n",
    "\n",
    "    # Store the classification report for the current k value\n",
    "    report = classification_report(y_test, ensemble_test_predictions)\n",
    "    classification_reports[k] = report\n",
    "\n",
    "# Best k value for the ensemble model based on test accuracy\n",
    "best_k = k_values[ensemble_test_accuracies.index(max(ensemble_test_accuracies))]\n",
    "print(f'Best k value: {best_k}')\n",
    "print(f'Accuracy for best k value: {max(ensemble_test_accuracies)}')\n",
    "\n",
    "# Print the classification report for the best k value\n",
    "best_k_report = classification_reports[best_k]\n",
    "print(f'Classification Report for Best k value ({best_k}):')\n",
    "print(best_k_report)\n",
    "\n",
    "# Plot the ensemble accuracies for different k values\n",
    "plt.figure(figsize=(8, 6))\n",
    "plt.plot(k_values, ensemble_train_accuracies, marker='o', label='Train Accuracy')\n",
    "plt.plot(k_values, ensemble_test_accuracies, marker='o', label='Test Accuracy')\n",
    "plt.xlabel('k')\n",
    "plt.ylabel('Accuracy')\n",
    "plt.title('Ensemble Learning Accuracy for Different k Values')\n",
    "plt.legend()\n",
    "plt.show()"
   ]
  }
 ],
 "metadata": {
  "kernelspec": {
   "display_name": "Python 3",
   "language": "python",
   "name": "python3"
  },
  "language_info": {
   "codemirror_mode": {
    "name": "ipython",
    "version": 3
   },
   "file_extension": ".py",
   "mimetype": "text/x-python",
   "name": "python",
   "nbconvert_exporter": "python",
   "pygments_lexer": "ipython3",
   "version": "3.11.4"
  },
  "orig_nbformat": 4
 },
 "nbformat": 4,
 "nbformat_minor": 2
}
