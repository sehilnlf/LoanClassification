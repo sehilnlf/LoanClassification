{
 "cells": [
  {
   "attachments": {},
   "cell_type": "markdown",
   "metadata": {},
   "source": [
    "# Should this loan be approved or not?"
   ]
  },
  {
   "cell_type": "markdown",
   "metadata": {},
   "source": [
    "### Import Data & Library"
   ]
  },
  {
   "cell_type": "code",
   "execution_count": 1,
   "metadata": {
    "vscode": {
     "languageId": "shellscript"
    }
   },
   "outputs": [],
   "source": [
    "%%capture\n",
    "!pip install numpy pandas matplotlib seaborn"
   ]
  },
  {
   "cell_type": "code",
   "execution_count": 2,
   "metadata": {},
   "outputs": [],
   "source": [
    "import numpy as np\n",
    "import pandas as pd\n",
    "import matplotlib.pyplot as plt\n",
    "import seaborn as sns\n",
    "\n",
    "%matplotlib inline"
   ]
  },
  {
   "cell_type": "code",
   "execution_count": 3,
   "metadata": {},
   "outputs": [],
   "source": [
    "pd.set_option('display.max_columns', None)"
   ]
  },
  {
   "cell_type": "code",
   "execution_count": 4,
   "metadata": {},
   "outputs": [
    {
     "name": "stderr",
     "output_type": "stream",
     "text": [
      "C:\\Users\\dnb02\\AppData\\Local\\Temp\\ipykernel_16424\\2910655126.py:1: DtypeWarning: Columns (9) have mixed types. Specify dtype option on import or set low_memory=False.\n",
      "  SBA = pd.read_csv(\"../data/SBAnational.csv\", na_values='nan')\n"
     ]
    },
    {
     "data": {
      "text/html": [
       "<div>\n",
       "<style scoped>\n",
       "    .dataframe tbody tr th:only-of-type {\n",
       "        vertical-align: middle;\n",
       "    }\n",
       "\n",
       "    .dataframe tbody tr th {\n",
       "        vertical-align: top;\n",
       "    }\n",
       "\n",
       "    .dataframe thead th {\n",
       "        text-align: right;\n",
       "    }\n",
       "</style>\n",
       "<table border=\"1\" class=\"dataframe\">\n",
       "  <thead>\n",
       "    <tr style=\"text-align: right;\">\n",
       "      <th></th>\n",
       "      <th>LoanNr_ChkDgt</th>\n",
       "      <th>Name</th>\n",
       "      <th>City</th>\n",
       "      <th>State</th>\n",
       "      <th>Zip</th>\n",
       "      <th>Bank</th>\n",
       "      <th>BankState</th>\n",
       "      <th>NAICS</th>\n",
       "      <th>ApprovalDate</th>\n",
       "      <th>ApprovalFY</th>\n",
       "      <th>Term</th>\n",
       "      <th>NoEmp</th>\n",
       "      <th>NewExist</th>\n",
       "      <th>CreateJob</th>\n",
       "      <th>RetainedJob</th>\n",
       "      <th>FranchiseCode</th>\n",
       "      <th>UrbanRural</th>\n",
       "      <th>RevLineCr</th>\n",
       "      <th>LowDoc</th>\n",
       "      <th>ChgOffDate</th>\n",
       "      <th>DisbursementDate</th>\n",
       "      <th>DisbursementGross</th>\n",
       "      <th>BalanceGross</th>\n",
       "      <th>MIS_Status</th>\n",
       "      <th>ChgOffPrinGr</th>\n",
       "      <th>GrAppv</th>\n",
       "      <th>SBA_Appv</th>\n",
       "    </tr>\n",
       "  </thead>\n",
       "  <tbody>\n",
       "    <tr>\n",
       "      <th>0</th>\n",
       "      <td>1000014003</td>\n",
       "      <td>ABC HOBBYCRAFT</td>\n",
       "      <td>EVANSVILLE</td>\n",
       "      <td>IN</td>\n",
       "      <td>47711</td>\n",
       "      <td>FIFTH THIRD BANK</td>\n",
       "      <td>OH</td>\n",
       "      <td>451120</td>\n",
       "      <td>28-Feb-97</td>\n",
       "      <td>1997</td>\n",
       "      <td>84</td>\n",
       "      <td>4</td>\n",
       "      <td>2.0</td>\n",
       "      <td>0</td>\n",
       "      <td>0</td>\n",
       "      <td>1</td>\n",
       "      <td>0</td>\n",
       "      <td>N</td>\n",
       "      <td>Y</td>\n",
       "      <td>NaN</td>\n",
       "      <td>28-Feb-99</td>\n",
       "      <td>$60,000.00</td>\n",
       "      <td>$0.00</td>\n",
       "      <td>P I F</td>\n",
       "      <td>$0.00</td>\n",
       "      <td>$60,000.00</td>\n",
       "      <td>$48,000.00</td>\n",
       "    </tr>\n",
       "    <tr>\n",
       "      <th>1</th>\n",
       "      <td>1000024006</td>\n",
       "      <td>LANDMARK BAR &amp; GRILLE (THE)</td>\n",
       "      <td>NEW PARIS</td>\n",
       "      <td>IN</td>\n",
       "      <td>46526</td>\n",
       "      <td>1ST SOURCE BANK</td>\n",
       "      <td>IN</td>\n",
       "      <td>722410</td>\n",
       "      <td>28-Feb-97</td>\n",
       "      <td>1997</td>\n",
       "      <td>60</td>\n",
       "      <td>2</td>\n",
       "      <td>2.0</td>\n",
       "      <td>0</td>\n",
       "      <td>0</td>\n",
       "      <td>1</td>\n",
       "      <td>0</td>\n",
       "      <td>N</td>\n",
       "      <td>Y</td>\n",
       "      <td>NaN</td>\n",
       "      <td>31-May-97</td>\n",
       "      <td>$40,000.00</td>\n",
       "      <td>$0.00</td>\n",
       "      <td>P I F</td>\n",
       "      <td>$0.00</td>\n",
       "      <td>$40,000.00</td>\n",
       "      <td>$32,000.00</td>\n",
       "    </tr>\n",
       "    <tr>\n",
       "      <th>2</th>\n",
       "      <td>1000034009</td>\n",
       "      <td>WHITLOCK DDS, TODD M.</td>\n",
       "      <td>BLOOMINGTON</td>\n",
       "      <td>IN</td>\n",
       "      <td>47401</td>\n",
       "      <td>GRANT COUNTY STATE BANK</td>\n",
       "      <td>IN</td>\n",
       "      <td>621210</td>\n",
       "      <td>28-Feb-97</td>\n",
       "      <td>1997</td>\n",
       "      <td>180</td>\n",
       "      <td>7</td>\n",
       "      <td>1.0</td>\n",
       "      <td>0</td>\n",
       "      <td>0</td>\n",
       "      <td>1</td>\n",
       "      <td>0</td>\n",
       "      <td>N</td>\n",
       "      <td>N</td>\n",
       "      <td>NaN</td>\n",
       "      <td>31-Dec-97</td>\n",
       "      <td>$287,000.00</td>\n",
       "      <td>$0.00</td>\n",
       "      <td>P I F</td>\n",
       "      <td>$0.00</td>\n",
       "      <td>$287,000.00</td>\n",
       "      <td>$215,250.00</td>\n",
       "    </tr>\n",
       "    <tr>\n",
       "      <th>3</th>\n",
       "      <td>1000044001</td>\n",
       "      <td>BIG BUCKS PAWN &amp; JEWELRY, LLC</td>\n",
       "      <td>BROKEN ARROW</td>\n",
       "      <td>OK</td>\n",
       "      <td>74012</td>\n",
       "      <td>1ST NATL BK &amp; TR CO OF BROKEN</td>\n",
       "      <td>OK</td>\n",
       "      <td>0</td>\n",
       "      <td>28-Feb-97</td>\n",
       "      <td>1997</td>\n",
       "      <td>60</td>\n",
       "      <td>2</td>\n",
       "      <td>1.0</td>\n",
       "      <td>0</td>\n",
       "      <td>0</td>\n",
       "      <td>1</td>\n",
       "      <td>0</td>\n",
       "      <td>N</td>\n",
       "      <td>Y</td>\n",
       "      <td>NaN</td>\n",
       "      <td>30-Jun-97</td>\n",
       "      <td>$35,000.00</td>\n",
       "      <td>$0.00</td>\n",
       "      <td>P I F</td>\n",
       "      <td>$0.00</td>\n",
       "      <td>$35,000.00</td>\n",
       "      <td>$28,000.00</td>\n",
       "    </tr>\n",
       "    <tr>\n",
       "      <th>4</th>\n",
       "      <td>1000054004</td>\n",
       "      <td>ANASTASIA CONFECTIONS, INC.</td>\n",
       "      <td>ORLANDO</td>\n",
       "      <td>FL</td>\n",
       "      <td>32801</td>\n",
       "      <td>FLORIDA BUS. DEVEL CORP</td>\n",
       "      <td>FL</td>\n",
       "      <td>0</td>\n",
       "      <td>28-Feb-97</td>\n",
       "      <td>1997</td>\n",
       "      <td>240</td>\n",
       "      <td>14</td>\n",
       "      <td>1.0</td>\n",
       "      <td>7</td>\n",
       "      <td>7</td>\n",
       "      <td>1</td>\n",
       "      <td>0</td>\n",
       "      <td>N</td>\n",
       "      <td>N</td>\n",
       "      <td>NaN</td>\n",
       "      <td>14-May-97</td>\n",
       "      <td>$229,000.00</td>\n",
       "      <td>$0.00</td>\n",
       "      <td>P I F</td>\n",
       "      <td>$0.00</td>\n",
       "      <td>$229,000.00</td>\n",
       "      <td>$229,000.00</td>\n",
       "    </tr>\n",
       "  </tbody>\n",
       "</table>\n",
       "</div>"
      ],
      "text/plain": [
       "   LoanNr_ChkDgt                           Name          City State    Zip  \\\n",
       "0     1000014003                 ABC HOBBYCRAFT    EVANSVILLE    IN  47711   \n",
       "1     1000024006    LANDMARK BAR & GRILLE (THE)     NEW PARIS    IN  46526   \n",
       "2     1000034009          WHITLOCK DDS, TODD M.   BLOOMINGTON    IN  47401   \n",
       "3     1000044001  BIG BUCKS PAWN & JEWELRY, LLC  BROKEN ARROW    OK  74012   \n",
       "4     1000054004    ANASTASIA CONFECTIONS, INC.       ORLANDO    FL  32801   \n",
       "\n",
       "                            Bank BankState   NAICS ApprovalDate ApprovalFY  \\\n",
       "0               FIFTH THIRD BANK        OH  451120    28-Feb-97       1997   \n",
       "1                1ST SOURCE BANK        IN  722410    28-Feb-97       1997   \n",
       "2        GRANT COUNTY STATE BANK        IN  621210    28-Feb-97       1997   \n",
       "3  1ST NATL BK & TR CO OF BROKEN        OK       0    28-Feb-97       1997   \n",
       "4        FLORIDA BUS. DEVEL CORP        FL       0    28-Feb-97       1997   \n",
       "\n",
       "   Term  NoEmp  NewExist  CreateJob  RetainedJob  FranchiseCode  UrbanRural  \\\n",
       "0    84      4       2.0          0            0              1           0   \n",
       "1    60      2       2.0          0            0              1           0   \n",
       "2   180      7       1.0          0            0              1           0   \n",
       "3    60      2       1.0          0            0              1           0   \n",
       "4   240     14       1.0          7            7              1           0   \n",
       "\n",
       "  RevLineCr LowDoc ChgOffDate DisbursementDate DisbursementGross BalanceGross  \\\n",
       "0         N      Y        NaN        28-Feb-99       $60,000.00        $0.00    \n",
       "1         N      Y        NaN        31-May-97       $40,000.00        $0.00    \n",
       "2         N      N        NaN        31-Dec-97      $287,000.00        $0.00    \n",
       "3         N      Y        NaN        30-Jun-97       $35,000.00        $0.00    \n",
       "4         N      N        NaN        14-May-97      $229,000.00        $0.00    \n",
       "\n",
       "  MIS_Status ChgOffPrinGr        GrAppv      SBA_Appv  \n",
       "0      P I F       $0.00    $60,000.00    $48,000.00   \n",
       "1      P I F       $0.00    $40,000.00    $32,000.00   \n",
       "2      P I F       $0.00   $287,000.00   $215,250.00   \n",
       "3      P I F       $0.00    $35,000.00    $28,000.00   \n",
       "4      P I F       $0.00   $229,000.00   $229,000.00   "
      ]
     },
     "execution_count": 4,
     "metadata": {},
     "output_type": "execute_result"
    }
   ],
   "source": [
    "SBA = pd.read_csv(\"../data/SBAnational.csv\", na_values='nan')\n",
    "SBA.head()"
   ]
  },
  {
   "cell_type": "code",
   "execution_count": 5,
   "metadata": {},
   "outputs": [
    {
     "data": {
      "text/plain": [
       "(899164, 27)"
      ]
     },
     "execution_count": 5,
     "metadata": {},
     "output_type": "execute_result"
    }
   ],
   "source": [
    "SBA.drop_duplicates(keep='first')\n",
    "SBA.shape"
   ]
  },
  {
   "cell_type": "markdown",
   "metadata": {},
   "source": [
    "**Columns**\n",
    "\n",
    "1. LoanNr_ChkDgt     : Identifier\n",
    "2. Name              : Borrower Name\n",
    "3. City              : Borrower City\n",
    "4. State             : Borrower State\n",
    "5. Zip               : Borrower Zip Code\n",
    "6. Bank              : Bank Name\n",
    "7. BankState         : Bank State\n",
    "8. NAICS             : North American industry classification system code.\n",
    "9. ApprovalDate      : Date SBA commitment issued\n",
    "10. ApprovalFY        : Fiscal year of commitment\n",
    "11. Term              : Loan term in months\n",
    "12. NoEmp             : Number of Business Employees\n",
    "13. NewExist          : 1 = Existing business, 2 = New business\n",
    "14. CreateJob         : Number of Jobs Created\n",
    "15. RetainedJob       : Number of jobs retained\n",
    "16. FranchiseCode     : Franchise code, (00000 or 00001) = No franchise\n",
    "17. UrbanRural        : 1 = Urban, 2 = rural, 0 = undefined\n",
    "18. RevLineCr         : Revolving line of credit: Y = Yes, N = No\n",
    "19. LowDoc            : LowDoc Loan Program: Y = Yes, N = No\n",
    "20. ChgOffDate        : The date when a loan is declared to be in default\n",
    "21. DisbursementDate  : Disbursement date\n",
    "22. DisbursementGross : Amount disbursed\n",
    "23. BalanceGross      : Gross amount outstanding\n",
    "24. MIS_Status        : Loan status charged off = CHGOFF, Paid in full = PIF\n",
    "25. ChgOffPrinGr      : Charged-off amount\n",
    "26. GrAppv            : Gross amount of loan approved by bank\n",
    "27. SBA_Appv          : SBA's guaranteed amount of approved loan"
   ]
  },
  {
   "cell_type": "markdown",
   "metadata": {},
   "source": [
    "### Exploratory Data Analysis"
   ]
  },
  {
   "cell_type": "code",
   "execution_count": 6,
   "metadata": {},
   "outputs": [
    {
     "name": "stdout",
     "output_type": "stream",
     "text": [
      "<class 'pandas.core.frame.DataFrame'>\n",
      "RangeIndex: 899164 entries, 0 to 899163\n",
      "Data columns (total 27 columns):\n",
      " #   Column             Non-Null Count   Dtype  \n",
      "---  ------             --------------   -----  \n",
      " 0   LoanNr_ChkDgt      899164 non-null  int64  \n",
      " 1   Name               899150 non-null  object \n",
      " 2   City               899134 non-null  object \n",
      " 3   State              899150 non-null  object \n",
      " 4   Zip                899164 non-null  int64  \n",
      " 5   Bank               897605 non-null  object \n",
      " 6   BankState          897598 non-null  object \n",
      " 7   NAICS              899164 non-null  int64  \n",
      " 8   ApprovalDate       899164 non-null  object \n",
      " 9   ApprovalFY         899164 non-null  object \n",
      " 10  Term               899164 non-null  int64  \n",
      " 11  NoEmp              899164 non-null  int64  \n",
      " 12  NewExist           899028 non-null  float64\n",
      " 13  CreateJob          899164 non-null  int64  \n",
      " 14  RetainedJob        899164 non-null  int64  \n",
      " 15  FranchiseCode      899164 non-null  int64  \n",
      " 16  UrbanRural         899164 non-null  int64  \n",
      " 17  RevLineCr          894636 non-null  object \n",
      " 18  LowDoc             896582 non-null  object \n",
      " 19  ChgOffDate         162699 non-null  object \n",
      " 20  DisbursementDate   896796 non-null  object \n",
      " 21  DisbursementGross  899164 non-null  object \n",
      " 22  BalanceGross       899164 non-null  object \n",
      " 23  MIS_Status         897167 non-null  object \n",
      " 24  ChgOffPrinGr       899164 non-null  object \n",
      " 25  GrAppv             899164 non-null  object \n",
      " 26  SBA_Appv           899164 non-null  object \n",
      "dtypes: float64(1), int64(9), object(17)\n",
      "memory usage: 185.2+ MB\n"
     ]
    }
   ],
   "source": [
    "SBA.info()"
   ]
  },
  {
   "cell_type": "code",
   "execution_count": 7,
   "metadata": {},
   "outputs": [
    {
     "data": {
      "text/html": [
       "<div>\n",
       "<style scoped>\n",
       "    .dataframe tbody tr th:only-of-type {\n",
       "        vertical-align: middle;\n",
       "    }\n",
       "\n",
       "    .dataframe tbody tr th {\n",
       "        vertical-align: top;\n",
       "    }\n",
       "\n",
       "    .dataframe thead th {\n",
       "        text-align: right;\n",
       "    }\n",
       "</style>\n",
       "<table border=\"1\" class=\"dataframe\">\n",
       "  <thead>\n",
       "    <tr style=\"text-align: right;\">\n",
       "      <th></th>\n",
       "      <th>LoanNr_ChkDgt</th>\n",
       "      <th>Zip</th>\n",
       "      <th>NAICS</th>\n",
       "      <th>Term</th>\n",
       "      <th>NoEmp</th>\n",
       "      <th>NewExist</th>\n",
       "      <th>CreateJob</th>\n",
       "      <th>RetainedJob</th>\n",
       "      <th>FranchiseCode</th>\n",
       "      <th>UrbanRural</th>\n",
       "    </tr>\n",
       "  </thead>\n",
       "  <tbody>\n",
       "    <tr>\n",
       "      <th>count</th>\n",
       "      <td>8.991640e+05</td>\n",
       "      <td>899164.000000</td>\n",
       "      <td>899164.000000</td>\n",
       "      <td>899164.000000</td>\n",
       "      <td>899164.000000</td>\n",
       "      <td>899028.000000</td>\n",
       "      <td>899164.000000</td>\n",
       "      <td>899164.000000</td>\n",
       "      <td>899164.000000</td>\n",
       "      <td>899164.000000</td>\n",
       "    </tr>\n",
       "    <tr>\n",
       "      <th>mean</th>\n",
       "      <td>4.772612e+09</td>\n",
       "      <td>53804.391241</td>\n",
       "      <td>398660.950146</td>\n",
       "      <td>110.773078</td>\n",
       "      <td>11.411353</td>\n",
       "      <td>1.280404</td>\n",
       "      <td>8.430376</td>\n",
       "      <td>10.797257</td>\n",
       "      <td>2753.725933</td>\n",
       "      <td>0.757748</td>\n",
       "    </tr>\n",
       "    <tr>\n",
       "      <th>std</th>\n",
       "      <td>2.538175e+09</td>\n",
       "      <td>31184.159152</td>\n",
       "      <td>263318.312760</td>\n",
       "      <td>78.857305</td>\n",
       "      <td>74.108196</td>\n",
       "      <td>0.451750</td>\n",
       "      <td>236.688165</td>\n",
       "      <td>237.120600</td>\n",
       "      <td>12758.019136</td>\n",
       "      <td>0.646436</td>\n",
       "    </tr>\n",
       "    <tr>\n",
       "      <th>min</th>\n",
       "      <td>1.000014e+09</td>\n",
       "      <td>0.000000</td>\n",
       "      <td>0.000000</td>\n",
       "      <td>0.000000</td>\n",
       "      <td>0.000000</td>\n",
       "      <td>0.000000</td>\n",
       "      <td>0.000000</td>\n",
       "      <td>0.000000</td>\n",
       "      <td>0.000000</td>\n",
       "      <td>0.000000</td>\n",
       "    </tr>\n",
       "    <tr>\n",
       "      <th>25%</th>\n",
       "      <td>2.589758e+09</td>\n",
       "      <td>27587.000000</td>\n",
       "      <td>235210.000000</td>\n",
       "      <td>60.000000</td>\n",
       "      <td>2.000000</td>\n",
       "      <td>1.000000</td>\n",
       "      <td>0.000000</td>\n",
       "      <td>0.000000</td>\n",
       "      <td>1.000000</td>\n",
       "      <td>0.000000</td>\n",
       "    </tr>\n",
       "    <tr>\n",
       "      <th>50%</th>\n",
       "      <td>4.361439e+09</td>\n",
       "      <td>55410.000000</td>\n",
       "      <td>445310.000000</td>\n",
       "      <td>84.000000</td>\n",
       "      <td>4.000000</td>\n",
       "      <td>1.000000</td>\n",
       "      <td>0.000000</td>\n",
       "      <td>1.000000</td>\n",
       "      <td>1.000000</td>\n",
       "      <td>1.000000</td>\n",
       "    </tr>\n",
       "    <tr>\n",
       "      <th>75%</th>\n",
       "      <td>6.904627e+09</td>\n",
       "      <td>83704.000000</td>\n",
       "      <td>561730.000000</td>\n",
       "      <td>120.000000</td>\n",
       "      <td>10.000000</td>\n",
       "      <td>2.000000</td>\n",
       "      <td>1.000000</td>\n",
       "      <td>4.000000</td>\n",
       "      <td>1.000000</td>\n",
       "      <td>1.000000</td>\n",
       "    </tr>\n",
       "    <tr>\n",
       "      <th>max</th>\n",
       "      <td>9.996003e+09</td>\n",
       "      <td>99999.000000</td>\n",
       "      <td>928120.000000</td>\n",
       "      <td>569.000000</td>\n",
       "      <td>9999.000000</td>\n",
       "      <td>2.000000</td>\n",
       "      <td>8800.000000</td>\n",
       "      <td>9500.000000</td>\n",
       "      <td>99999.000000</td>\n",
       "      <td>2.000000</td>\n",
       "    </tr>\n",
       "  </tbody>\n",
       "</table>\n",
       "</div>"
      ],
      "text/plain": [
       "       LoanNr_ChkDgt            Zip          NAICS           Term  \\\n",
       "count   8.991640e+05  899164.000000  899164.000000  899164.000000   \n",
       "mean    4.772612e+09   53804.391241  398660.950146     110.773078   \n",
       "std     2.538175e+09   31184.159152  263318.312760      78.857305   \n",
       "min     1.000014e+09       0.000000       0.000000       0.000000   \n",
       "25%     2.589758e+09   27587.000000  235210.000000      60.000000   \n",
       "50%     4.361439e+09   55410.000000  445310.000000      84.000000   \n",
       "75%     6.904627e+09   83704.000000  561730.000000     120.000000   \n",
       "max     9.996003e+09   99999.000000  928120.000000     569.000000   \n",
       "\n",
       "               NoEmp       NewExist      CreateJob    RetainedJob  \\\n",
       "count  899164.000000  899028.000000  899164.000000  899164.000000   \n",
       "mean       11.411353       1.280404       8.430376      10.797257   \n",
       "std        74.108196       0.451750     236.688165     237.120600   \n",
       "min         0.000000       0.000000       0.000000       0.000000   \n",
       "25%         2.000000       1.000000       0.000000       0.000000   \n",
       "50%         4.000000       1.000000       0.000000       1.000000   \n",
       "75%        10.000000       2.000000       1.000000       4.000000   \n",
       "max      9999.000000       2.000000    8800.000000    9500.000000   \n",
       "\n",
       "       FranchiseCode     UrbanRural  \n",
       "count  899164.000000  899164.000000  \n",
       "mean     2753.725933       0.757748  \n",
       "std     12758.019136       0.646436  \n",
       "min         0.000000       0.000000  \n",
       "25%         1.000000       0.000000  \n",
       "50%         1.000000       1.000000  \n",
       "75%         1.000000       1.000000  \n",
       "max     99999.000000       2.000000  "
      ]
     },
     "execution_count": 7,
     "metadata": {},
     "output_type": "execute_result"
    }
   ],
   "source": [
    "SBA.describe()"
   ]
  },
  {
   "cell_type": "code",
   "execution_count": 8,
   "metadata": {},
   "outputs": [
    {
     "data": {
      "text/html": [
       "<div>\n",
       "<style scoped>\n",
       "    .dataframe tbody tr th:only-of-type {\n",
       "        vertical-align: middle;\n",
       "    }\n",
       "\n",
       "    .dataframe tbody tr th {\n",
       "        vertical-align: top;\n",
       "    }\n",
       "\n",
       "    .dataframe thead th {\n",
       "        text-align: right;\n",
       "    }\n",
       "</style>\n",
       "<table border=\"1\" class=\"dataframe\">\n",
       "  <thead>\n",
       "    <tr style=\"text-align: right;\">\n",
       "      <th></th>\n",
       "      <th>feature</th>\n",
       "      <th>data_type</th>\n",
       "      <th>null</th>\n",
       "      <th>nulPercentage</th>\n",
       "      <th>unique</th>\n",
       "      <th>uniqueSample</th>\n",
       "    </tr>\n",
       "  </thead>\n",
       "  <tbody>\n",
       "    <tr>\n",
       "      <th>0</th>\n",
       "      <td>LoanNr_ChkDgt</td>\n",
       "      <td>int64</td>\n",
       "      <td>0</td>\n",
       "      <td>0.00</td>\n",
       "      <td>899164</td>\n",
       "      <td>[2390365009, 2868475007, 8604254008, 249452500...</td>\n",
       "    </tr>\n",
       "    <tr>\n",
       "      <th>1</th>\n",
       "      <td>Name</td>\n",
       "      <td>object</td>\n",
       "      <td>14</td>\n",
       "      <td>0.00</td>\n",
       "      <td>779583</td>\n",
       "      <td>[GREAT LAKES LINE-X, CLASSIC APARTMENT RESTORA...</td>\n",
       "    </tr>\n",
       "    <tr>\n",
       "      <th>2</th>\n",
       "      <td>City</td>\n",
       "      <td>object</td>\n",
       "      <td>30</td>\n",
       "      <td>0.00</td>\n",
       "      <td>32581</td>\n",
       "      <td>[CHICAGO, EASTHAMPTON, WINCHESTER, SANTA MARIA...</td>\n",
       "    </tr>\n",
       "    <tr>\n",
       "      <th>3</th>\n",
       "      <td>State</td>\n",
       "      <td>object</td>\n",
       "      <td>14</td>\n",
       "      <td>0.00</td>\n",
       "      <td>51</td>\n",
       "      <td>[WI, OR, TX, AL, LA]</td>\n",
       "    </tr>\n",
       "    <tr>\n",
       "      <th>4</th>\n",
       "      <td>Zip</td>\n",
       "      <td>int64</td>\n",
       "      <td>0</td>\n",
       "      <td>0.00</td>\n",
       "      <td>33611</td>\n",
       "      <td>[57110, 95380, 90807, 16630, 65785]</td>\n",
       "    </tr>\n",
       "    <tr>\n",
       "      <th>5</th>\n",
       "      <td>Bank</td>\n",
       "      <td>object</td>\n",
       "      <td>1559</td>\n",
       "      <td>0.17</td>\n",
       "      <td>5802</td>\n",
       "      <td>[COMMUNITY BANK, CAPITAL ONE NATL ASSOC, SIMMO...</td>\n",
       "    </tr>\n",
       "    <tr>\n",
       "      <th>6</th>\n",
       "      <td>BankState</td>\n",
       "      <td>object</td>\n",
       "      <td>1566</td>\n",
       "      <td>0.17</td>\n",
       "      <td>56</td>\n",
       "      <td>[CA, GA, CO, OH]</td>\n",
       "    </tr>\n",
       "    <tr>\n",
       "      <th>7</th>\n",
       "      <td>NAICS</td>\n",
       "      <td>int64</td>\n",
       "      <td>0</td>\n",
       "      <td>0.00</td>\n",
       "      <td>1312</td>\n",
       "      <td>[443112, 0, 445120]</td>\n",
       "    </tr>\n",
       "    <tr>\n",
       "      <th>8</th>\n",
       "      <td>ApprovalDate</td>\n",
       "      <td>object</td>\n",
       "      <td>0</td>\n",
       "      <td>0.00</td>\n",
       "      <td>9859</td>\n",
       "      <td>[25-Feb-08, 2-May-08, 4-Mar-92, 30-Nov-94, 30-...</td>\n",
       "    </tr>\n",
       "    <tr>\n",
       "      <th>9</th>\n",
       "      <td>ApprovalFY</td>\n",
       "      <td>object</td>\n",
       "      <td>0</td>\n",
       "      <td>0.00</td>\n",
       "      <td>70</td>\n",
       "      <td>[2005, 1996, 2007, 1998]</td>\n",
       "    </tr>\n",
       "    <tr>\n",
       "      <th>10</th>\n",
       "      <td>Term</td>\n",
       "      <td>int64</td>\n",
       "      <td>0</td>\n",
       "      <td>0.00</td>\n",
       "      <td>412</td>\n",
       "      <td>[124, 60, 71, 240, 46]</td>\n",
       "    </tr>\n",
       "    <tr>\n",
       "      <th>11</th>\n",
       "      <td>NoEmp</td>\n",
       "      <td>int64</td>\n",
       "      <td>0</td>\n",
       "      <td>0.00</td>\n",
       "      <td>599</td>\n",
       "      <td>[1, 19, 3089, 2, 15]</td>\n",
       "    </tr>\n",
       "    <tr>\n",
       "      <th>12</th>\n",
       "      <td>NewExist</td>\n",
       "      <td>float64</td>\n",
       "      <td>136</td>\n",
       "      <td>0.02</td>\n",
       "      <td>3</td>\n",
       "      <td>[2.0, 1.0]</td>\n",
       "    </tr>\n",
       "    <tr>\n",
       "      <th>13</th>\n",
       "      <td>CreateJob</td>\n",
       "      <td>int64</td>\n",
       "      <td>0</td>\n",
       "      <td>0.00</td>\n",
       "      <td>246</td>\n",
       "      <td>[0, 1]</td>\n",
       "    </tr>\n",
       "    <tr>\n",
       "      <th>14</th>\n",
       "      <td>RetainedJob</td>\n",
       "      <td>int64</td>\n",
       "      <td>0</td>\n",
       "      <td>0.00</td>\n",
       "      <td>358</td>\n",
       "      <td>[1, 0, 2]</td>\n",
       "    </tr>\n",
       "    <tr>\n",
       "      <th>15</th>\n",
       "      <td>FranchiseCode</td>\n",
       "      <td>int64</td>\n",
       "      <td>0</td>\n",
       "      <td>0.00</td>\n",
       "      <td>2768</td>\n",
       "      <td>[1, 0, 26650]</td>\n",
       "    </tr>\n",
       "    <tr>\n",
       "      <th>16</th>\n",
       "      <td>UrbanRural</td>\n",
       "      <td>int64</td>\n",
       "      <td>0</td>\n",
       "      <td>0.00</td>\n",
       "      <td>3</td>\n",
       "      <td>[2, 0, 1]</td>\n",
       "    </tr>\n",
       "    <tr>\n",
       "      <th>17</th>\n",
       "      <td>RevLineCr</td>\n",
       "      <td>object</td>\n",
       "      <td>4528</td>\n",
       "      <td>0.50</td>\n",
       "      <td>18</td>\n",
       "      <td>[N, Y]</td>\n",
       "    </tr>\n",
       "    <tr>\n",
       "      <th>18</th>\n",
       "      <td>LowDoc</td>\n",
       "      <td>object</td>\n",
       "      <td>2582</td>\n",
       "      <td>0.29</td>\n",
       "      <td>8</td>\n",
       "      <td>[N]</td>\n",
       "    </tr>\n",
       "    <tr>\n",
       "      <th>19</th>\n",
       "      <td>ChgOffDate</td>\n",
       "      <td>object</td>\n",
       "      <td>736465</td>\n",
       "      <td>81.91</td>\n",
       "      <td>6448</td>\n",
       "      <td>[nan]</td>\n",
       "    </tr>\n",
       "    <tr>\n",
       "      <th>20</th>\n",
       "      <td>DisbursementDate</td>\n",
       "      <td>object</td>\n",
       "      <td>2368</td>\n",
       "      <td>0.26</td>\n",
       "      <td>8472</td>\n",
       "      <td>[31-Jul-08, 31-May-01, 31-Oct-05, 31-Aug-07, 3...</td>\n",
       "    </tr>\n",
       "    <tr>\n",
       "      <th>21</th>\n",
       "      <td>DisbursementGross</td>\n",
       "      <td>object</td>\n",
       "      <td>0</td>\n",
       "      <td>0.00</td>\n",
       "      <td>118859</td>\n",
       "      <td>[$129,000.00 , $90,000.00 , $663,020.00 , $84,...</td>\n",
       "    </tr>\n",
       "    <tr>\n",
       "      <th>22</th>\n",
       "      <td>BalanceGross</td>\n",
       "      <td>object</td>\n",
       "      <td>0</td>\n",
       "      <td>0.00</td>\n",
       "      <td>15</td>\n",
       "      <td>[$0.00 ]</td>\n",
       "    </tr>\n",
       "    <tr>\n",
       "      <th>23</th>\n",
       "      <td>MIS_Status</td>\n",
       "      <td>object</td>\n",
       "      <td>1997</td>\n",
       "      <td>0.22</td>\n",
       "      <td>2</td>\n",
       "      <td>[P I F]</td>\n",
       "    </tr>\n",
       "    <tr>\n",
       "      <th>24</th>\n",
       "      <td>ChgOffPrinGr</td>\n",
       "      <td>object</td>\n",
       "      <td>0</td>\n",
       "      <td>0.00</td>\n",
       "      <td>83165</td>\n",
       "      <td>[$0.00 , $20,161.00 , $5,626.00 ]</td>\n",
       "    </tr>\n",
       "    <tr>\n",
       "      <th>25</th>\n",
       "      <td>GrAppv</td>\n",
       "      <td>object</td>\n",
       "      <td>0</td>\n",
       "      <td>0.00</td>\n",
       "      <td>22128</td>\n",
       "      <td>[$10,000.00 , $317,000.00 , $36,100.00 , $62,1...</td>\n",
       "    </tr>\n",
       "    <tr>\n",
       "      <th>26</th>\n",
       "      <td>SBA_Appv</td>\n",
       "      <td>object</td>\n",
       "      <td>0</td>\n",
       "      <td>0.00</td>\n",
       "      <td>38326</td>\n",
       "      <td>[$192,000.00 , $36,900.00 , $10,000.00 , $63,0...</td>\n",
       "    </tr>\n",
       "  </tbody>\n",
       "</table>\n",
       "</div>"
      ],
      "text/plain": [
       "              feature data_type    null  nulPercentage  unique  \\\n",
       "0       LoanNr_ChkDgt     int64       0           0.00  899164   \n",
       "1                Name    object      14           0.00  779583   \n",
       "2                City    object      30           0.00   32581   \n",
       "3               State    object      14           0.00      51   \n",
       "4                 Zip     int64       0           0.00   33611   \n",
       "5                Bank    object    1559           0.17    5802   \n",
       "6           BankState    object    1566           0.17      56   \n",
       "7               NAICS     int64       0           0.00    1312   \n",
       "8        ApprovalDate    object       0           0.00    9859   \n",
       "9          ApprovalFY    object       0           0.00      70   \n",
       "10               Term     int64       0           0.00     412   \n",
       "11              NoEmp     int64       0           0.00     599   \n",
       "12           NewExist   float64     136           0.02       3   \n",
       "13          CreateJob     int64       0           0.00     246   \n",
       "14        RetainedJob     int64       0           0.00     358   \n",
       "15      FranchiseCode     int64       0           0.00    2768   \n",
       "16         UrbanRural     int64       0           0.00       3   \n",
       "17          RevLineCr    object    4528           0.50      18   \n",
       "18             LowDoc    object    2582           0.29       8   \n",
       "19         ChgOffDate    object  736465          81.91    6448   \n",
       "20   DisbursementDate    object    2368           0.26    8472   \n",
       "21  DisbursementGross    object       0           0.00  118859   \n",
       "22       BalanceGross    object       0           0.00      15   \n",
       "23         MIS_Status    object    1997           0.22       2   \n",
       "24       ChgOffPrinGr    object       0           0.00   83165   \n",
       "25             GrAppv    object       0           0.00   22128   \n",
       "26           SBA_Appv    object       0           0.00   38326   \n",
       "\n",
       "                                         uniqueSample  \n",
       "0   [2390365009, 2868475007, 8604254008, 249452500...  \n",
       "1   [GREAT LAKES LINE-X, CLASSIC APARTMENT RESTORA...  \n",
       "2   [CHICAGO, EASTHAMPTON, WINCHESTER, SANTA MARIA...  \n",
       "3                                [WI, OR, TX, AL, LA]  \n",
       "4                 [57110, 95380, 90807, 16630, 65785]  \n",
       "5   [COMMUNITY BANK, CAPITAL ONE NATL ASSOC, SIMMO...  \n",
       "6                                    [CA, GA, CO, OH]  \n",
       "7                                 [443112, 0, 445120]  \n",
       "8   [25-Feb-08, 2-May-08, 4-Mar-92, 30-Nov-94, 30-...  \n",
       "9                            [2005, 1996, 2007, 1998]  \n",
       "10                             [124, 60, 71, 240, 46]  \n",
       "11                               [1, 19, 3089, 2, 15]  \n",
       "12                                         [2.0, 1.0]  \n",
       "13                                             [0, 1]  \n",
       "14                                          [1, 0, 2]  \n",
       "15                                      [1, 0, 26650]  \n",
       "16                                          [2, 0, 1]  \n",
       "17                                             [N, Y]  \n",
       "18                                                [N]  \n",
       "19                                              [nan]  \n",
       "20  [31-Jul-08, 31-May-01, 31-Oct-05, 31-Aug-07, 3...  \n",
       "21  [$129,000.00 , $90,000.00 , $663,020.00 , $84,...  \n",
       "22                                           [$0.00 ]  \n",
       "23                                            [P I F]  \n",
       "24                  [$0.00 , $20,161.00 , $5,626.00 ]  \n",
       "25  [$10,000.00 , $317,000.00 , $36,100.00 , $62,1...  \n",
       "26  [$192,000.00 , $36,900.00 , $10,000.00 , $63,0...  "
      ]
     },
     "execution_count": 8,
     "metadata": {},
     "output_type": "execute_result"
    }
   ],
   "source": [
    "list_item = []\n",
    "for col in SBA.columns:\n",
    "    list_item.append([col, SBA[col].dtype, SBA[col].isna().sum(), round((SBA[col].isna().sum()/len(SBA[col]))*100,2),\n",
    "                      SBA[col].nunique(), list(SBA[col].sample(5).drop_duplicates().values)])\n",
    "\n",
    "dfDesc = pd.DataFrame(columns=['feature', 'data_type', 'null', 'nulPercentage', 'unique', 'uniqueSample'],data=list_item)\n",
    "dfDesc"
   ]
  },
  {
   "attachments": {},
   "cell_type": "markdown",
   "metadata": {},
   "source": [
    "### Feature Selection\n",
    "#### 1. Target feature\n",
    "The `MIS_Status` is the feature explains which borrower cannot repay loans => Our target to predict"
   ]
  },
  {
   "cell_type": "code",
   "execution_count": 9,
   "metadata": {},
   "outputs": [
    {
     "name": "stdout",
     "output_type": "stream",
     "text": [
      "(899164, 27)\n"
     ]
    },
    {
     "data": {
      "text/plain": [
       "MIS_Status\n",
       "P I F     739609\n",
       "CHGOFF    157558\n",
       "Name: count, dtype: int64"
      ]
     },
     "execution_count": 9,
     "metadata": {},
     "output_type": "execute_result"
    }
   ],
   "source": [
    "print(SBA.shape)\n",
    "SBA.value_counts('MIS_Status')"
   ]
  },
  {
   "cell_type": "code",
   "execution_count": 10,
   "metadata": {},
   "outputs": [
    {
     "data": {
      "image/png": "[encoded data removed]",
      "text/plain": [
       "<Figure size 1000x600 with 1 Axes>"
      ]
     },
     "metadata": {},
     "output_type": "display_data"
    }
   ],
   "source": [
    "# Visualize the MIS_Status using pie chart\n",
    "plt.figure(figsize=(10, 6))\n",
    "SBA['MIS_Status'].value_counts().plot(kind='pie', autopct='%1.1f%%', shadow=False, startangle=90)\n",
    "plt.title('MIS_Status')\n",
    "plt.show()\n",
    "# Imbalanced dataset"
   ]
  },
  {
   "attachments": {},
   "cell_type": "markdown",
   "metadata": {},
   "source": [
    "#### 2. Train Features\n",
    "##### 2.1. Borrower and Institusion Information \n",
    "From SBA Data Frame we can make a conclusion that there are seven columns that give personal and instituion information\n",
    "- `LoanNr_ChkDgt` as borrower Identifeir\n",
    "- `Name` as Borrower Name\n",
    "- `City` as Borrower City\n",
    "- `State` as Borrower State\n",
    "- `Zip` as Borrower Zip Code\n",
    "- `Bank` as Bank Name\n",
    "- `BankState` as Bank State\n",
    "- `FranchiseCode` as FranchiseCode\n",
    "- `UrbanRural` as information about business\n",
    "\n",
    "I think only `City` and `State` should be considered since Geography plays a significant role in the field of business."
   ]
  },
  {
   "cell_type": "code",
   "execution_count": 11,
   "metadata": {},
   "outputs": [
    {
     "name": "stdout",
     "output_type": "stream",
     "text": [
      "32581\n",
      "51\n"
     ]
    }
   ],
   "source": [
    "# Count unique values in City and State, alot of unique values in City\n",
    "print(SBA['City'].nunique()) \n",
    "print(SBA['State'].nunique())\n",
    "# A lot of unique values, I don't think it's a good idea to use City and State as features"
   ]
  },
  {
   "cell_type": "markdown",
   "metadata": {},
   "source": [
    "A lot of unique values in City and State, I don't think it's a good idea to use City and State as train features."
   ]
  },
  {
   "attachments": {},
   "cell_type": "markdown",
   "metadata": {},
   "source": [
    "##### 2.2. NAICS (North American industry classification system code)\n",
    "- `NAICS` is a classification system of several types of industries registered in America. \n",
    "\n",
    "The first two digits of `NAICS` explained the type of business industries.\n",
    "\n",
    "The type of industry will affect the company's performance in business. So that this feature will affect the potential of the company."
   ]
  },
  {
   "cell_type": "code",
   "execution_count": 12,
   "metadata": {},
   "outputs": [
    {
     "data": {
      "text/plain": [
       "NAICS\n",
       "0         201948\n",
       "722110     27989\n",
       "722211     19448\n",
       "811111     14585\n",
       "621210     14048\n",
       "           ...  \n",
       "927110         1\n",
       "327410         1\n",
       "314992         1\n",
       "922110         1\n",
       "325192         1\n",
       "Name: count, Length: 1312, dtype: int64"
      ]
     },
     "execution_count": 12,
     "metadata": {},
     "output_type": "execute_result"
    }
   ],
   "source": [
    "SBA['NAICS'].value_counts() # A lot of inappropiate values"
   ]
  },
  {
   "attachments": {},
   "cell_type": "markdown",
   "metadata": {},
   "source": [
    "##### 2.3. Date and Time Feature\n",
    "- `ApprovalDate` : Date SBA commitment issued\n",
    "- `ApprovalFY` : Fiscal year of commitment\n",
    "- `DisbursementDate` : Disbursement date\n",
    "- `ChgOffDate` : The date when a loan is declared to be in default\n",
    "\n",
    "Since these features are used only for additional informations, I think we can drop them.\n",
    "\n",
    "The first three features are in the same period of history. At the time the loan application is requested, we cannot predict how the economic situation will change so these features will not provide any important information.\n",
    "\n",
    "The last feature is just know after a loan is declared to be in default.\n",
    "\n",
    "So these features will not be used as train features."
   ]
  },
  {
   "attachments": {},
   "cell_type": "markdown",
   "metadata": {},
   "source": [
    "##### 2.4. Term\n",
    "The `Term` provides information on how long the loan will take. \n",
    "\n",
    "Concerning the rules of risk management, the longer the duration, the greater the uncertainty that will lead to risk. "
   ]
  },
  {
   "cell_type": "code",
   "execution_count": 13,
   "metadata": {},
   "outputs": [
    {
     "data": {
      "text/plain": [
       "Term\n",
       "84     230162\n",
       "60      89945\n",
       "240     85982\n",
       "120     77654\n",
       "300     44727\n",
       "        ...  \n",
       "438         1\n",
       "382         1\n",
       "367         1\n",
       "374         1\n",
       "429         1\n",
       "Name: count, Length: 412, dtype: int64"
      ]
     },
     "execution_count": 13,
     "metadata": {},
     "output_type": "execute_result"
    }
   ],
   "source": [
    "# Let's count unique values in Term column\n",
    "SBA['Term'].value_counts() # Quite a lot of unique values"
   ]
  },
  {
   "attachments": {},
   "cell_type": "markdown",
   "metadata": {},
   "source": [
    "##### 2.5. Job Columns\n",
    "- `NoEmp` : Number of business employees \n",
    "- `CreateJob` : Number of jobs created\n",
    "- `RetainedJob` : Number of jobs retained\n",
    "\n",
    "Only `NoEmp` should be considered here since it indicates how big the company is, `RetainedJob` can be used to impute NewExist."
   ]
  },
  {
   "cell_type": "code",
   "execution_count": 14,
   "metadata": {},
   "outputs": [
    {
     "data": {
      "text/plain": [
       "<Axes: xlabel='MIS_Status', ylabel='NoEmp'>"
      ]
     },
     "execution_count": 14,
     "metadata": {},
     "output_type": "execute_result"
    },
    {
     "data": {
      "image/png": "[encoded data removed]",
      "text/plain": [
       "<Figure size 640x480 with 1 Axes>"
      ]
     },
     "metadata": {},
     "output_type": "display_data"
    }
   ],
   "source": [
    "sns.boxplot(x=SBA.MIS_Status, y=SBA['NoEmp'])\n",
    "# Seems like companies with a small number of employees are more likely to default"
   ]
  },
  {
   "cell_type": "code",
   "execution_count": 15,
   "metadata": {},
   "outputs": [
    {
     "data": {
      "text/plain": [
       "<Axes: xlabel='MIS_Status', ylabel='CreateJob'>"
      ]
     },
     "execution_count": 15,
     "metadata": {},
     "output_type": "execute_result"
    },
    {
     "data": {
      "image/png": "[encoded data removed]",
      "text/plain": [
       "<Figure size 640x480 with 1 Axes>"
      ]
     },
     "metadata": {},
     "output_type": "display_data"
    }
   ],
   "source": [
    "sns.boxplot(x=SBA.MIS_Status, y=SBA['CreateJob'])"
   ]
  },
  {
   "cell_type": "code",
   "execution_count": 16,
   "metadata": {},
   "outputs": [
    {
     "data": {
      "text/plain": [
       "<Axes: xlabel='MIS_Status', ylabel='RetainedJob'>"
      ]
     },
     "execution_count": 16,
     "metadata": {},
     "output_type": "execute_result"
    },
    {
     "data": {
      "image/png": "[encoded data removed]",
      "text/plain": [
       "<Figure size 640x480 with 1 Axes>"
      ]
     },
     "metadata": {},
     "output_type": "display_data"
    }
   ],
   "source": [
    "sns.boxplot(x=SBA.MIS_Status, y=SBA['RetainedJob'])"
   ]
  },
  {
   "cell_type": "markdown",
   "metadata": {},
   "source": [
    "By looking at the correlation between default and the number of jobs created, the `CreateJob` and `RetainedJob` features will not be included in the modeling."
   ]
  },
  {
   "attachments": {},
   "cell_type": "markdown",
   "metadata": {},
   "source": [
    "##### 2.6. Business conditions: a new or existing business. ( Should be considered )\n",
    "- `NewExist` = 1: Existing business\n",
    "- `NewExist` = 2: New business"
   ]
  },
  {
   "cell_type": "code",
   "execution_count": 17,
   "metadata": {},
   "outputs": [
    {
     "data": {
      "text/plain": [
       "NewExist\n",
       "1.0    644869\n",
       "2.0    253125\n",
       "0.0      1034\n",
       "Name: count, dtype: int64"
      ]
     },
     "execution_count": 17,
     "metadata": {},
     "output_type": "execute_result"
    }
   ],
   "source": [
    "SBA['NewExist'].value_counts() # And 106 nan values"
   ]
  },
  {
   "cell_type": "code",
   "execution_count": 18,
   "metadata": {},
   "outputs": [],
   "source": [
    "# The 0 values of NewExist column are not in the data dictionary\n",
    "# I will consider them as missing values\n",
    "SBA['NewExist'] = SBA['NewExist'].replace(0, np.nan)"
   ]
  },
  {
   "attachments": {},
   "cell_type": "markdown",
   "metadata": {},
   "source": [
    "##### 2.7. Loan Transaction Type\n",
    "- `RevLineCr` : Revolving line of credit which means that if the loan has been paid, the borrower can be able to immediately borrow again.\n",
    "- `LowDoc` : LowDoc Loan Program from the SBA makes applying for a loan of $150,000 or less somewhat easy.\n",
    "\n",
    "https://www.sba7a.loans/\n",
    "\n",
    "Loan type can impact a borrower's financial stability, decision-making, and repayment behavior. Lenders also need to manage risks associated with different transaction types. Both parties should carefully evaluate the loan type before proceeding."
   ]
  },
  {
   "cell_type": "code",
   "execution_count": 19,
   "metadata": {},
   "outputs": [
    {
     "data": {
      "text/plain": [
       "RevLineCr\n",
       "N    420288\n",
       "0    257602\n",
       "Y    201397\n",
       "T     15284\n",
       "1        23\n",
       "R        14\n",
       "`        11\n",
       "2         6\n",
       "C         2\n",
       "3         1\n",
       ",         1\n",
       "7         1\n",
       "A         1\n",
       "5         1\n",
       ".         1\n",
       "4         1\n",
       "-         1\n",
       "Q         1\n",
       "Name: count, dtype: int64"
      ]
     },
     "execution_count": 19,
     "metadata": {},
     "output_type": "execute_result"
    }
   ],
   "source": [
    "# Revolving line of credit: Y = Yes, N = No\n",
    "SBA['RevLineCr'].value_counts() # And there are null values"
   ]
  },
  {
   "cell_type": "code",
   "execution_count": 20,
   "metadata": {},
   "outputs": [
    {
     "data": {
      "image/png": "[encoded data removed]",
      "text/plain": [
       "<Figure size 1000x300 with 2 Axes>"
      ]
     },
     "metadata": {},
     "output_type": "display_data"
    }
   ],
   "source": [
    "filtered_data = SBA[(SBA['RevLineCr'] == 'N') | (SBA['RevLineCr'] == 'Y')]\n",
    "\n",
    "# Create a figure with two subplots for different RevLineCr values\n",
    "fig, axs = plt.subplots(1, 2, figsize=(10, 3))\n",
    "\n",
    "for idx, rev_value in enumerate(['N', 'Y']):\n",
    "    ax = axs[idx]\n",
    "    rev_data = filtered_data[filtered_data['RevLineCr'] == rev_value]\n",
    "    rev_data.groupby('MIS_Status')['RevLineCr'].value_counts().plot(\n",
    "        kind='pie', autopct='%1.1f%%', shadow=False, startangle=90, ax=ax\n",
    "    )\n",
    "    ax.set_title(f'RevLineCr = {rev_value}')\n",
    "\n",
    "plt.tight_layout()\n",
    "plt.show()"
   ]
  },
  {
   "cell_type": "code",
   "execution_count": 21,
   "metadata": {},
   "outputs": [
    {
     "data": {
      "text/plain": [
       "LowDoc\n",
       "N    782822\n",
       "Y    110335\n",
       "0      1491\n",
       "C       758\n",
       "S       603\n",
       "A       497\n",
       "R        75\n",
       "1         1\n",
       "Name: count, dtype: int64"
      ]
     },
     "execution_count": 21,
     "metadata": {},
     "output_type": "execute_result"
    }
   ],
   "source": [
    "# LowDoc: Y = Yes, N = No\n",
    "SBA['LowDoc'].value_counts() # And there are null values"
   ]
  },
  {
   "cell_type": "code",
   "execution_count": 22,
   "metadata": {},
   "outputs": [
    {
     "data": {
      "image/png": "[encoded data removed]",
      "text/plain": [
       "<Figure size 1000x300 with 2 Axes>"
      ]
     },
     "metadata": {},
     "output_type": "display_data"
    }
   ],
   "source": [
    "filtered_data = SBA[(SBA['LowDoc'] == 'N') | (SBA['LowDoc'] == 'Y')]\n",
    "\n",
    "# Create a figure with two subplots for different LowDoc values\n",
    "fig, axs = plt.subplots(1, 2, figsize=(10, 3))\n",
    "\n",
    "for idx, lowd_value in enumerate(['N', 'Y']):\n",
    "    ax = axs[idx]\n",
    "    rev_data = filtered_data[filtered_data['LowDoc'] == lowd_value]\n",
    "    rev_data.groupby('MIS_Status')['LowDoc'].value_counts().plot(\n",
    "        kind='pie', autopct='%1.1f%%', shadow=False, startangle=90, ax=ax\n",
    "    )\n",
    "    ax.set_title(f'LowDoc = {lowd_value}')\n",
    "\n",
    "plt.tight_layout()\n",
    "plt.show()"
   ]
  },
  {
   "attachments": {},
   "cell_type": "markdown",
   "metadata": {},
   "source": [
    "##### 2.8. Amount \n",
    "- `DisbursementGross `: Amount disbursed, the total amount that was transferred to the customer before the default was declared.\n",
    "- `BalanceGross `: Gross amount outstanding\n",
    "- `ChgOffPrinGr` : Charged-off amount\n",
    "- `GrAppv `: Gross amount of loan approved by bank\n",
    "- `SBA_Appv `: SBA's guaranteed amount of approved loan\n",
    "\n",
    "*** \n",
    "Drop `DisbursementGross`, `BalanceGross`, and `ChgOffPrinGr`\n",
    "\n",
    "Since `DisbursementGross`, `BalanceGross`, and `ChgOffPrinGr` only explain the balance of the loan and not used for loan approval, so these features can be ignored.\n",
    "\n",
    "Columns `DisbursementGross`, `BalanceGross` and `ChgOffPrinGr` contain information that is important after default is declared, so we can't use these columns for predicting default risks. We delete them.\n",
    "\n",
    "***\n",
    "Drop `GrAppv` and `SBA_Appv` and  add `SBA_GrPortion`\n",
    "\n",
    "We find that the portion of the loan guaranteed by the SBA is more important than individual value. So we will drop `GrAppv` and `SBA_Appv` and add `SBA_GrPortion` (the ratio of the amount of the loan SBA guarantees and the gross amount approved by the bank (`SBA_Appv`/`GrAppv`))"
   ]
  },
  {
   "cell_type": "code",
   "execution_count": 23,
   "metadata": {},
   "outputs": [
    {
     "data": {
      "text/html": [
       "<div>\n",
       "<style scoped>\n",
       "    .dataframe tbody tr th:only-of-type {\n",
       "        vertical-align: middle;\n",
       "    }\n",
       "\n",
       "    .dataframe tbody tr th {\n",
       "        vertical-align: top;\n",
       "    }\n",
       "\n",
       "    .dataframe thead th {\n",
       "        text-align: right;\n",
       "    }\n",
       "</style>\n",
       "<table border=\"1\" class=\"dataframe\">\n",
       "  <thead>\n",
       "    <tr style=\"text-align: right;\">\n",
       "      <th></th>\n",
       "      <th>DisbursementGross</th>\n",
       "      <th>BalanceGross</th>\n",
       "      <th>ChgOffPrinGr</th>\n",
       "      <th>GrAppv</th>\n",
       "      <th>SBA_Appv</th>\n",
       "    </tr>\n",
       "  </thead>\n",
       "  <tbody>\n",
       "    <tr>\n",
       "      <th>0</th>\n",
       "      <td>$60,000.00</td>\n",
       "      <td>$0.00</td>\n",
       "      <td>$0.00</td>\n",
       "      <td>$60,000.00</td>\n",
       "      <td>$48,000.00</td>\n",
       "    </tr>\n",
       "    <tr>\n",
       "      <th>1</th>\n",
       "      <td>$40,000.00</td>\n",
       "      <td>$0.00</td>\n",
       "      <td>$0.00</td>\n",
       "      <td>$40,000.00</td>\n",
       "      <td>$32,000.00</td>\n",
       "    </tr>\n",
       "    <tr>\n",
       "      <th>2</th>\n",
       "      <td>$287,000.00</td>\n",
       "      <td>$0.00</td>\n",
       "      <td>$0.00</td>\n",
       "      <td>$287,000.00</td>\n",
       "      <td>$215,250.00</td>\n",
       "    </tr>\n",
       "    <tr>\n",
       "      <th>3</th>\n",
       "      <td>$35,000.00</td>\n",
       "      <td>$0.00</td>\n",
       "      <td>$0.00</td>\n",
       "      <td>$35,000.00</td>\n",
       "      <td>$28,000.00</td>\n",
       "    </tr>\n",
       "    <tr>\n",
       "      <th>4</th>\n",
       "      <td>$229,000.00</td>\n",
       "      <td>$0.00</td>\n",
       "      <td>$0.00</td>\n",
       "      <td>$229,000.00</td>\n",
       "      <td>$229,000.00</td>\n",
       "    </tr>\n",
       "    <tr>\n",
       "      <th>...</th>\n",
       "      <td>...</td>\n",
       "      <td>...</td>\n",
       "      <td>...</td>\n",
       "      <td>...</td>\n",
       "      <td>...</td>\n",
       "    </tr>\n",
       "    <tr>\n",
       "      <th>899159</th>\n",
       "      <td>$70,000.00</td>\n",
       "      <td>$0.00</td>\n",
       "      <td>$0.00</td>\n",
       "      <td>$70,000.00</td>\n",
       "      <td>$56,000.00</td>\n",
       "    </tr>\n",
       "    <tr>\n",
       "      <th>899160</th>\n",
       "      <td>$85,000.00</td>\n",
       "      <td>$0.00</td>\n",
       "      <td>$0.00</td>\n",
       "      <td>$85,000.00</td>\n",
       "      <td>$42,500.00</td>\n",
       "    </tr>\n",
       "    <tr>\n",
       "      <th>899161</th>\n",
       "      <td>$300,000.00</td>\n",
       "      <td>$0.00</td>\n",
       "      <td>$0.00</td>\n",
       "      <td>$300,000.00</td>\n",
       "      <td>$225,000.00</td>\n",
       "    </tr>\n",
       "    <tr>\n",
       "      <th>899162</th>\n",
       "      <td>$75,000.00</td>\n",
       "      <td>$0.00</td>\n",
       "      <td>$46,383.00</td>\n",
       "      <td>$75,000.00</td>\n",
       "      <td>$60,000.00</td>\n",
       "    </tr>\n",
       "    <tr>\n",
       "      <th>899163</th>\n",
       "      <td>$30,000.00</td>\n",
       "      <td>$0.00</td>\n",
       "      <td>$0.00</td>\n",
       "      <td>$30,000.00</td>\n",
       "      <td>$24,000.00</td>\n",
       "    </tr>\n",
       "  </tbody>\n",
       "</table>\n",
       "<p>899164 rows × 5 columns</p>\n",
       "</div>"
      ],
      "text/plain": [
       "       DisbursementGross BalanceGross ChgOffPrinGr        GrAppv      SBA_Appv\n",
       "0            $60,000.00        $0.00        $0.00    $60,000.00    $48,000.00 \n",
       "1            $40,000.00        $0.00        $0.00    $40,000.00    $32,000.00 \n",
       "2           $287,000.00        $0.00        $0.00   $287,000.00   $215,250.00 \n",
       "3            $35,000.00        $0.00        $0.00    $35,000.00    $28,000.00 \n",
       "4           $229,000.00        $0.00        $0.00   $229,000.00   $229,000.00 \n",
       "...                  ...          ...          ...           ...           ...\n",
       "899159       $70,000.00        $0.00        $0.00    $70,000.00    $56,000.00 \n",
       "899160       $85,000.00        $0.00        $0.00    $85,000.00    $42,500.00 \n",
       "899161      $300,000.00        $0.00        $0.00   $300,000.00   $225,000.00 \n",
       "899162       $75,000.00        $0.00   $46,383.00    $75,000.00    $60,000.00 \n",
       "899163       $30,000.00        $0.00        $0.00    $30,000.00    $24,000.00 \n",
       "\n",
       "[899164 rows x 5 columns]"
      ]
     },
     "execution_count": 23,
     "metadata": {},
     "output_type": "execute_result"
    }
   ],
   "source": [
    "SBA[['DisbursementGross', 'BalanceGross', 'ChgOffPrinGr', 'GrAppv','SBA_Appv']]"
   ]
  },
  {
   "cell_type": "code",
   "execution_count": 24,
   "metadata": {},
   "outputs": [],
   "source": [
    "# Cleaning currency columns\n",
    "SBA['GrAppv'] = SBA['GrAppv'].apply(lambda x: float(str(x).replace('$', '').replace(',', '')))\n",
    "SBA['SBA_Appv'] = SBA['SBA_Appv'].apply(lambda x: float(str(x).replace('$', '').replace(',', '')))"
   ]
  },
  {
   "cell_type": "code",
   "execution_count": 25,
   "metadata": {},
   "outputs": [],
   "source": [
    "SBA['SBA_GrPortion'] = SBA['SBA_Appv'] / SBA['GrAppv']"
   ]
  },
  {
   "cell_type": "code",
   "execution_count": 26,
   "metadata": {},
   "outputs": [],
   "source": [
    "# Drop unnecessary columns\n",
    "data = SBA.drop(['LoanNr_ChkDgt', 'Name', 'City', 'State', 'Zip', 'Bank', 'BankState', 'FranchiseCode','UrbanRural', \n",
    "                 'CreateJob', 'ApprovalDate', 'ApprovalFY', 'ChgOffDate', 'DisbursementDate',\n",
    "                 'DisbursementGross', 'BalanceGross', 'ChgOffPrinGr', 'GrAppv', 'SBA_Appv'], axis=1)\n",
    "# RetainedJob is a feature that I can use to impute NewExist\n",
    "# So I will drop them later"
   ]
  },
  {
   "cell_type": "code",
   "execution_count": 27,
   "metadata": {},
   "outputs": [
    {
     "data": {
      "text/html": [
       "<div>\n",
       "<style scoped>\n",
       "    .dataframe tbody tr th:only-of-type {\n",
       "        vertical-align: middle;\n",
       "    }\n",
       "\n",
       "    .dataframe tbody tr th {\n",
       "        vertical-align: top;\n",
       "    }\n",
       "\n",
       "    .dataframe thead th {\n",
       "        text-align: right;\n",
       "    }\n",
       "</style>\n",
       "<table border=\"1\" class=\"dataframe\">\n",
       "  <thead>\n",
       "    <tr style=\"text-align: right;\">\n",
       "      <th></th>\n",
       "      <th>NAICS</th>\n",
       "      <th>Term</th>\n",
       "      <th>NoEmp</th>\n",
       "      <th>NewExist</th>\n",
       "      <th>RetainedJob</th>\n",
       "      <th>RevLineCr</th>\n",
       "      <th>LowDoc</th>\n",
       "      <th>MIS_Status</th>\n",
       "      <th>SBA_GrPortion</th>\n",
       "    </tr>\n",
       "  </thead>\n",
       "  <tbody>\n",
       "    <tr>\n",
       "      <th>0</th>\n",
       "      <td>451120</td>\n",
       "      <td>84</td>\n",
       "      <td>4</td>\n",
       "      <td>2.0</td>\n",
       "      <td>0</td>\n",
       "      <td>N</td>\n",
       "      <td>Y</td>\n",
       "      <td>P I F</td>\n",
       "      <td>0.80</td>\n",
       "    </tr>\n",
       "    <tr>\n",
       "      <th>1</th>\n",
       "      <td>722410</td>\n",
       "      <td>60</td>\n",
       "      <td>2</td>\n",
       "      <td>2.0</td>\n",
       "      <td>0</td>\n",
       "      <td>N</td>\n",
       "      <td>Y</td>\n",
       "      <td>P I F</td>\n",
       "      <td>0.80</td>\n",
       "    </tr>\n",
       "    <tr>\n",
       "      <th>2</th>\n",
       "      <td>621210</td>\n",
       "      <td>180</td>\n",
       "      <td>7</td>\n",
       "      <td>1.0</td>\n",
       "      <td>0</td>\n",
       "      <td>N</td>\n",
       "      <td>N</td>\n",
       "      <td>P I F</td>\n",
       "      <td>0.75</td>\n",
       "    </tr>\n",
       "    <tr>\n",
       "      <th>3</th>\n",
       "      <td>0</td>\n",
       "      <td>60</td>\n",
       "      <td>2</td>\n",
       "      <td>1.0</td>\n",
       "      <td>0</td>\n",
       "      <td>N</td>\n",
       "      <td>Y</td>\n",
       "      <td>P I F</td>\n",
       "      <td>0.80</td>\n",
       "    </tr>\n",
       "    <tr>\n",
       "      <th>4</th>\n",
       "      <td>0</td>\n",
       "      <td>240</td>\n",
       "      <td>14</td>\n",
       "      <td>1.0</td>\n",
       "      <td>7</td>\n",
       "      <td>N</td>\n",
       "      <td>N</td>\n",
       "      <td>P I F</td>\n",
       "      <td>1.00</td>\n",
       "    </tr>\n",
       "  </tbody>\n",
       "</table>\n",
       "</div>"
      ],
      "text/plain": [
       "    NAICS  Term  NoEmp  NewExist  RetainedJob RevLineCr LowDoc MIS_Status  \\\n",
       "0  451120    84      4       2.0            0         N      Y      P I F   \n",
       "1  722410    60      2       2.0            0         N      Y      P I F   \n",
       "2  621210   180      7       1.0            0         N      N      P I F   \n",
       "3       0    60      2       1.0            0         N      Y      P I F   \n",
       "4       0   240     14       1.0            7         N      N      P I F   \n",
       "\n",
       "   SBA_GrPortion  \n",
       "0           0.80  \n",
       "1           0.80  \n",
       "2           0.75  \n",
       "3           0.80  \n",
       "4           1.00  "
      ]
     },
     "execution_count": 27,
     "metadata": {},
     "output_type": "execute_result"
    }
   ],
   "source": [
    "data.head()"
   ]
  },
  {
   "cell_type": "code",
   "execution_count": 28,
   "metadata": {},
   "outputs": [
    {
     "data": {
      "text/plain": [
       "MIS_Status\n",
       "P I F     739609\n",
       "CHGOFF    157558\n",
       "Name: count, dtype: int64"
      ]
     },
     "execution_count": 28,
     "metadata": {},
     "output_type": "execute_result"
    }
   ],
   "source": [
    "data.MIS_Status.value_counts()"
   ]
  },
  {
   "attachments": {},
   "cell_type": "markdown",
   "metadata": {},
   "source": [
    "### Data Cleaning"
   ]
  },
  {
   "cell_type": "code",
   "execution_count": 29,
   "metadata": {},
   "outputs": [
    {
     "data": {
      "text/plain": [
       "(899164, 9)"
      ]
     },
     "execution_count": 29,
     "metadata": {},
     "output_type": "execute_result"
    }
   ],
   "source": [
    "data.shape"
   ]
  },
  {
   "cell_type": "code",
   "execution_count": 30,
   "metadata": {},
   "outputs": [
    {
     "name": "stdout",
     "output_type": "stream",
     "text": [
      "NAICS 0\n",
      "Term 0\n",
      "NoEmp 0\n",
      "NewExist 1170\n",
      "RetainedJob 0\n",
      "RevLineCr 4528\n",
      "LowDoc 2582\n",
      "MIS_Status 1997\n",
      "SBA_GrPortion 0\n"
     ]
    }
   ],
   "source": [
    "# Check for null values\n",
    "for col in data.columns:\n",
    "    print(col, data[col].isnull().sum())"
   ]
  },
  {
   "cell_type": "markdown",
   "metadata": {},
   "source": [
    "#### Target Feature: `MIS_Status`"
   ]
  },
  {
   "cell_type": "code",
   "execution_count": 31,
   "metadata": {},
   "outputs": [],
   "source": [
    "data.dropna(subset=['MIS_Status'], inplace=True)"
   ]
  },
  {
   "cell_type": "markdown",
   "metadata": {},
   "source": [
    "#### Train Features"
   ]
  },
  {
   "cell_type": "code",
   "execution_count": 32,
   "metadata": {},
   "outputs": [
    {
     "data": {
      "text/html": [
       "<div>\n",
       "<style scoped>\n",
       "    .dataframe tbody tr th:only-of-type {\n",
       "        vertical-align: middle;\n",
       "    }\n",
       "\n",
       "    .dataframe tbody tr th {\n",
       "        vertical-align: top;\n",
       "    }\n",
       "\n",
       "    .dataframe thead th {\n",
       "        text-align: right;\n",
       "    }\n",
       "</style>\n",
       "<table border=\"1\" class=\"dataframe\">\n",
       "  <thead>\n",
       "    <tr style=\"text-align: right;\">\n",
       "      <th></th>\n",
       "      <th>feature</th>\n",
       "      <th>data_type</th>\n",
       "      <th>null</th>\n",
       "      <th>nulPct</th>\n",
       "      <th>unique</th>\n",
       "      <th>uniqueSample</th>\n",
       "    </tr>\n",
       "  </thead>\n",
       "  <tbody>\n",
       "    <tr>\n",
       "      <th>0</th>\n",
       "      <td>NAICS</td>\n",
       "      <td>int64</td>\n",
       "      <td>0</td>\n",
       "      <td>0.00</td>\n",
       "      <td>1312</td>\n",
       "      <td>[722211, 484110, 112320, 0, 621111]</td>\n",
       "    </tr>\n",
       "    <tr>\n",
       "      <th>1</th>\n",
       "      <td>Term</td>\n",
       "      <td>int64</td>\n",
       "      <td>0</td>\n",
       "      <td>0.00</td>\n",
       "      <td>412</td>\n",
       "      <td>[300, 84, 240, 120]</td>\n",
       "    </tr>\n",
       "    <tr>\n",
       "      <th>2</th>\n",
       "      <td>NoEmp</td>\n",
       "      <td>int64</td>\n",
       "      <td>0</td>\n",
       "      <td>0.00</td>\n",
       "      <td>598</td>\n",
       "      <td>[17, 2, 5, 10]</td>\n",
       "    </tr>\n",
       "    <tr>\n",
       "      <th>3</th>\n",
       "      <td>NewExist</td>\n",
       "      <td>float64</td>\n",
       "      <td>1162</td>\n",
       "      <td>0.13</td>\n",
       "      <td>2</td>\n",
       "      <td>[1.0, 2.0]</td>\n",
       "    </tr>\n",
       "    <tr>\n",
       "      <th>4</th>\n",
       "      <td>RetainedJob</td>\n",
       "      <td>int64</td>\n",
       "      <td>0</td>\n",
       "      <td>0.00</td>\n",
       "      <td>357</td>\n",
       "      <td>[2, 0, 1]</td>\n",
       "    </tr>\n",
       "    <tr>\n",
       "      <th>5</th>\n",
       "      <td>RevLineCr</td>\n",
       "      <td>object</td>\n",
       "      <td>4520</td>\n",
       "      <td>0.50</td>\n",
       "      <td>18</td>\n",
       "      <td>[N]</td>\n",
       "    </tr>\n",
       "    <tr>\n",
       "      <th>6</th>\n",
       "      <td>LowDoc</td>\n",
       "      <td>object</td>\n",
       "      <td>2578</td>\n",
       "      <td>0.29</td>\n",
       "      <td>8</td>\n",
       "      <td>[N, Y]</td>\n",
       "    </tr>\n",
       "    <tr>\n",
       "      <th>7</th>\n",
       "      <td>MIS_Status</td>\n",
       "      <td>object</td>\n",
       "      <td>0</td>\n",
       "      <td>0.00</td>\n",
       "      <td>2</td>\n",
       "      <td>[P I F]</td>\n",
       "    </tr>\n",
       "    <tr>\n",
       "      <th>8</th>\n",
       "      <td>SBA_GrPortion</td>\n",
       "      <td>float64</td>\n",
       "      <td>0</td>\n",
       "      <td>0.00</td>\n",
       "      <td>14171</td>\n",
       "      <td>[0.85, 0.5, 1.0, 0.9]</td>\n",
       "    </tr>\n",
       "  </tbody>\n",
       "</table>\n",
       "</div>"
      ],
      "text/plain": [
       "         feature data_type  null  nulPct  unique  \\\n",
       "0          NAICS     int64     0    0.00    1312   \n",
       "1           Term     int64     0    0.00     412   \n",
       "2          NoEmp     int64     0    0.00     598   \n",
       "3       NewExist   float64  1162    0.13       2   \n",
       "4    RetainedJob     int64     0    0.00     357   \n",
       "5      RevLineCr    object  4520    0.50      18   \n",
       "6         LowDoc    object  2578    0.29       8   \n",
       "7     MIS_Status    object     0    0.00       2   \n",
       "8  SBA_GrPortion   float64     0    0.00   14171   \n",
       "\n",
       "                          uniqueSample  \n",
       "0  [722211, 484110, 112320, 0, 621111]  \n",
       "1                  [300, 84, 240, 120]  \n",
       "2                       [17, 2, 5, 10]  \n",
       "3                           [1.0, 2.0]  \n",
       "4                            [2, 0, 1]  \n",
       "5                                  [N]  \n",
       "6                               [N, Y]  \n",
       "7                              [P I F]  \n",
       "8                [0.85, 0.5, 1.0, 0.9]  "
      ]
     },
     "execution_count": 32,
     "metadata": {},
     "output_type": "execute_result"
    }
   ],
   "source": [
    "list_item = []\n",
    "for col in data.columns:\n",
    "    list_item.append([col, data[col].dtype, data[col].isna().sum(), round((data[col].isna().sum()/len(data[col]))*100,2),\n",
    "                      data[col].nunique(), list(data[col].sample(5).drop_duplicates().values)])\n",
    "\n",
    "dataDesc = pd.DataFrame(columns=['feature', 'data_type', 'null', 'nulPct', 'unique', 'uniqueSample'],data=list_item)\n",
    "dataDesc"
   ]
  },
  {
   "cell_type": "markdown",
   "metadata": {},
   "source": [
    "##### Create `RealEstate` column based on `Term` column\n",
    "Since the term of loan is a function of the expected life-time of the assets, \n",
    "loans backed by real estate will have terms 20 years or greater (>=240 months). \n",
    "\n",
    "Therefore we decided to create a column named 'RealEstate' based on the column Term. \n",
    "\n",
    "If Term >=240 months then RealEstate = 1 else 0. "
   ]
  },
  {
   "cell_type": "code",
   "execution_count": 33,
   "metadata": {},
   "outputs": [],
   "source": [
    "data['RealEstate'] = data['Term'].apply(lambda x: 1 if x >= 240 else 0)"
   ]
  },
  {
   "cell_type": "markdown",
   "metadata": {},
   "source": [
    "##### Handle `NewExist` column\n",
    "There is the column RetainedJob which is the number of jobs retained.\n",
    "\n",
    "Which means if the retained job is not 0, it is existing company."
   ]
  },
  {
   "cell_type": "code",
   "execution_count": 34,
   "metadata": {},
   "outputs": [
    {
     "data": {
      "text/plain": [
       "0         2\n",
       "1         2\n",
       "2         1\n",
       "3         1\n",
       "4         1\n",
       "         ..\n",
       "899159    1\n",
       "899160    1\n",
       "899161    1\n",
       "899162    1\n",
       "899163    2\n",
       "Name: NewExist, Length: 896273, dtype: int32"
      ]
     },
     "execution_count": 34,
     "metadata": {},
     "output_type": "execute_result"
    }
   ],
   "source": [
    "data.loc[(data['NewExist'].isnull()) & (data['RetainedJob'] != 0), 'NewExist'] = 1\n",
    "data = data.drop(columns=['RetainedJob'])\n",
    "data = data.dropna(subset=['NewExist'])\n",
    "data['NewExist'].astype(int)"
   ]
  },
  {
   "cell_type": "markdown",
   "metadata": {},
   "source": [
    "##### Remove missing and inappropriate values in `LowDoc` and `RevLineCr` columns"
   ]
  },
  {
   "cell_type": "code",
   "execution_count": 35,
   "metadata": {},
   "outputs": [
    {
     "data": {
      "text/plain": [
       "LowDoc\n",
       "N    780230\n",
       "Y    110046\n",
       "Name: count, dtype: int64"
      ]
     },
     "execution_count": 35,
     "metadata": {},
     "output_type": "execute_result"
    }
   ],
   "source": [
    "data['LowDoc'].dropna(inplace=True)\n",
    "data = data[(data.LowDoc == 'Y') | (data.LowDoc == 'N')]\n",
    "data['LowDoc'].value_counts()"
   ]
  },
  {
   "cell_type": "code",
   "execution_count": 36,
   "metadata": {},
   "outputs": [
    {
     "data": {
      "text/plain": [
       "RevLineCr\n",
       "N    414275\n",
       "Y    199701\n",
       "Name: count, dtype: int64"
      ]
     },
     "execution_count": 36,
     "metadata": {},
     "output_type": "execute_result"
    }
   ],
   "source": [
    "data['RevLineCr'].dropna(inplace=True)\n",
    "data = data[(data.RevLineCr == 'Y') | (data.RevLineCr == 'N')]\n",
    "data['RevLineCr'].value_counts()"
   ]
  },
  {
   "cell_type": "markdown",
   "metadata": {},
   "source": [
    "##### Handle `NAICS` column"
   ]
  },
  {
   "cell_type": "code",
   "execution_count": 37,
   "metadata": {},
   "outputs": [],
   "source": [
    "data = data[data['NAICS'].astype(str).apply(len) == 6] # Drop inappropiate values"
   ]
  },
  {
   "cell_type": "code",
   "execution_count": 38,
   "metadata": {},
   "outputs": [],
   "source": [
    "# Join NAICS with similar industry\n",
    "def naics(x):\n",
    "    x = str(x)\n",
    "    x = x[:2]\n",
    "    if (x == '31') | (x == '32') | (x == '33'):\n",
    "        x = '31-33'\n",
    "    elif (x == '44') | (x == '45'):\n",
    "        x = '44-45'\n",
    "    elif (x == '48') | (x == '49'):\n",
    "        x = '48-49'\n",
    "    return x"
   ]
  },
  {
   "cell_type": "code",
   "execution_count": 39,
   "metadata": {},
   "outputs": [],
   "source": [
    "data['NAICS'] = data['NAICS'].apply(naics)"
   ]
  },
  {
   "cell_type": "code",
   "execution_count": 40,
   "metadata": {},
   "outputs": [
    {
     "data": {
      "text/html": [
       "<div>\n",
       "<style scoped>\n",
       "    .dataframe tbody tr th:only-of-type {\n",
       "        vertical-align: middle;\n",
       "    }\n",
       "\n",
       "    .dataframe tbody tr th {\n",
       "        vertical-align: top;\n",
       "    }\n",
       "\n",
       "    .dataframe thead th {\n",
       "        text-align: right;\n",
       "    }\n",
       "</style>\n",
       "<table border=\"1\" class=\"dataframe\">\n",
       "  <thead>\n",
       "    <tr style=\"text-align: right;\">\n",
       "      <th></th>\n",
       "      <th>NAICS</th>\n",
       "      <th>Term</th>\n",
       "      <th>NoEmp</th>\n",
       "      <th>NewExist</th>\n",
       "      <th>RevLineCr</th>\n",
       "      <th>LowDoc</th>\n",
       "      <th>MIS_Status</th>\n",
       "      <th>SBA_GrPortion</th>\n",
       "      <th>RealEstate</th>\n",
       "    </tr>\n",
       "  </thead>\n",
       "  <tbody>\n",
       "    <tr>\n",
       "      <th>0</th>\n",
       "      <td>44-45</td>\n",
       "      <td>84</td>\n",
       "      <td>4</td>\n",
       "      <td>2.0</td>\n",
       "      <td>N</td>\n",
       "      <td>Y</td>\n",
       "      <td>P I F</td>\n",
       "      <td>0.80</td>\n",
       "      <td>0</td>\n",
       "    </tr>\n",
       "    <tr>\n",
       "      <th>1</th>\n",
       "      <td>72</td>\n",
       "      <td>60</td>\n",
       "      <td>2</td>\n",
       "      <td>2.0</td>\n",
       "      <td>N</td>\n",
       "      <td>Y</td>\n",
       "      <td>P I F</td>\n",
       "      <td>0.80</td>\n",
       "      <td>0</td>\n",
       "    </tr>\n",
       "    <tr>\n",
       "      <th>2</th>\n",
       "      <td>62</td>\n",
       "      <td>180</td>\n",
       "      <td>7</td>\n",
       "      <td>1.0</td>\n",
       "      <td>N</td>\n",
       "      <td>N</td>\n",
       "      <td>P I F</td>\n",
       "      <td>0.75</td>\n",
       "      <td>0</td>\n",
       "    </tr>\n",
       "    <tr>\n",
       "      <th>5</th>\n",
       "      <td>31-33</td>\n",
       "      <td>120</td>\n",
       "      <td>19</td>\n",
       "      <td>1.0</td>\n",
       "      <td>N</td>\n",
       "      <td>N</td>\n",
       "      <td>P I F</td>\n",
       "      <td>0.75</td>\n",
       "      <td>0</td>\n",
       "    </tr>\n",
       "    <tr>\n",
       "      <th>7</th>\n",
       "      <td>81</td>\n",
       "      <td>84</td>\n",
       "      <td>1</td>\n",
       "      <td>2.0</td>\n",
       "      <td>N</td>\n",
       "      <td>Y</td>\n",
       "      <td>P I F</td>\n",
       "      <td>0.80</td>\n",
       "      <td>0</td>\n",
       "    </tr>\n",
       "  </tbody>\n",
       "</table>\n",
       "</div>"
      ],
      "text/plain": [
       "   NAICS  Term  NoEmp  NewExist RevLineCr LowDoc MIS_Status  SBA_GrPortion  \\\n",
       "0  44-45    84      4       2.0         N      Y      P I F           0.80   \n",
       "1     72    60      2       2.0         N      Y      P I F           0.80   \n",
       "2     62   180      7       1.0         N      N      P I F           0.75   \n",
       "5  31-33   120     19       1.0         N      N      P I F           0.75   \n",
       "7     81    84      1       2.0         N      Y      P I F           0.80   \n",
       "\n",
       "   RealEstate  \n",
       "0           0  \n",
       "1           0  \n",
       "2           0  \n",
       "5           0  \n",
       "7           0  "
      ]
     },
     "execution_count": 40,
     "metadata": {},
     "output_type": "execute_result"
    }
   ],
   "source": [
    "data.head()"
   ]
  },
  {
   "cell_type": "markdown",
   "metadata": {},
   "source": [
    "### Export .csv file"
   ]
  },
  {
   "cell_type": "code",
   "execution_count": 41,
   "metadata": {},
   "outputs": [],
   "source": [
    "# Export the cleaned data\n",
    "data.to_csv(\"../data/SBA_cleaned.csv\", index=False)"
   ]
  }
 ],
 "metadata": {
  "kernelspec": {
   "display_name": "Python 3",
   "language": "python",
   "name": "python3"
  },
  "language_info": {
   "codemirror_mode": {
    "name": "ipython",
    "version": 3
   },
   "file_extension": ".py",
   "mimetype": "text/x-python",
   "name": "python",
   "nbconvert_exporter": "python",
   "pygments_lexer": "ipython3",
   "version": "3.11.4"
  },
  "orig_nbformat": 4
 },
 "nbformat": 4,
 "nbformat_minor": 2
}
