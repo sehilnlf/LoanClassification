{
 "cells": [
  {
   "attachments": {},
   "cell_type": "markdown",
   "metadata": {},
   "source": [
    "# Should this loan be approved or not?"
   ]
  },
  {
   "cell_type": "code",
   "execution_count": 239,
   "metadata": {
    "vscode": {
     "languageId": "shellscript"
    }
   },
   "outputs": [
    {
     "name": "stdout",
     "output_type": "stream",
     "text": [
      "Requirement already satisfied: numpy in c:\\users\\admin\\appdata\\local\\programs\\python\\python310\\lib\\site-packages (1.24.2)\n",
      "Requirement already satisfied: pandas in c:\\users\\admin\\appdata\\local\\programs\\python\\python310\\lib\\site-packages (2.0.2)\n",
      "Requirement already satisfied: matplotlib in c:\\users\\admin\\appdata\\local\\programs\\python\\python310\\lib\\site-packages (3.7.1)\n",
      "Requirement already satisfied: seaborn in c:\\users\\admin\\appdata\\local\\programs\\python\\python310\\lib\\site-packages (0.12.2)\n",
      "Requirement already satisfied: uszipcode in c:\\users\\admin\\appdata\\local\\programs\\python\\python310\\lib\\site-packages (1.0.1)\n",
      "Requirement already satisfied: tzdata>=2022.1 in c:\\users\\admin\\appdata\\local\\programs\\python\\python310\\lib\\site-packages (from pandas) (2023.3)\n",
      "Requirement already satisfied: pytz>=2020.1 in c:\\users\\admin\\appdata\\local\\programs\\python\\python310\\lib\\site-packages (from pandas) (2023.3)\n",
      "Requirement already satisfied: python-dateutil>=2.8.2 in c:\\users\\admin\\appdata\\roaming\\python\\python310\\site-packages (from pandas) (2.8.2)\n",
      "Requirement already satisfied: contourpy>=1.0.1 in c:\\users\\admin\\appdata\\local\\programs\\python\\python310\\lib\\site-packages (from matplotlib) (1.0.7)\n",
      "Requirement already satisfied: pillow>=6.2.0 in c:\\users\\admin\\appdata\\local\\programs\\python\\python310\\lib\\site-packages (from matplotlib) (9.4.0)\n",
      "Requirement already satisfied: cycler>=0.10 in c:\\users\\admin\\appdata\\local\\programs\\python\\python310\\lib\\site-packages (from matplotlib) (0.11.0)\n",
      "Requirement already satisfied: packaging>=20.0 in c:\\users\\admin\\appdata\\roaming\\python\\python310\\site-packages (from matplotlib) (23.0)\n",
      "Requirement already satisfied: fonttools>=4.22.0 in c:\\users\\admin\\appdata\\local\\programs\\python\\python310\\lib\\site-packages (from matplotlib) (4.39.3)\n",
      "Requirement already satisfied: kiwisolver>=1.0.1 in c:\\users\\admin\\appdata\\local\\programs\\python\\python310\\lib\\site-packages (from matplotlib) (1.4.4)\n",
      "Requirement already satisfied: pyparsing>=2.3.1 in c:\\users\\admin\\appdata\\local\\programs\\python\\python310\\lib\\site-packages (from matplotlib) (3.0.9)\n",
      "Requirement already satisfied: sqlalchemy-mate>=1.4.28.3 in c:\\users\\admin\\appdata\\local\\programs\\python\\python310\\lib\\site-packages (from uszipcode) (1.4.28.4)\n",
      "Requirement already satisfied: pathlib-mate in c:\\users\\admin\\appdata\\local\\programs\\python\\python310\\lib\\site-packages (from uszipcode) (1.2.1)\n",
      "Requirement already satisfied: attrs in c:\\users\\admin\\appdata\\local\\programs\\python\\python310\\lib\\site-packages (from uszipcode) (23.1.0)\n",
      "Requirement already satisfied: haversine>=2.5.0 in c:\\users\\admin\\appdata\\local\\programs\\python\\python310\\lib\\site-packages (from uszipcode) (2.8.0)\n",
      "Requirement already satisfied: SQLAlchemy>=1.4.0 in c:\\users\\admin\\appdata\\local\\programs\\python\\python310\\lib\\site-packages (from uszipcode) (1.4.48)\n",
      "Requirement already satisfied: requests in c:\\users\\admin\\appdata\\local\\programs\\python\\python310\\lib\\site-packages (from uszipcode) (2.31.0)\n",
      "Requirement already satisfied: atomicwrites in c:\\users\\admin\\appdata\\local\\programs\\python\\python310\\lib\\site-packages (from uszipcode) (1.4.1)\n",
      "Requirement already satisfied: fuzzywuzzy in c:\\users\\admin\\appdata\\local\\programs\\python\\python310\\lib\\site-packages (from uszipcode) (0.18.0)\n",
      "Requirement already satisfied: six>=1.5 in c:\\users\\admin\\appdata\\roaming\\python\\python310\\site-packages (from python-dateutil>=2.8.2->pandas) (1.16.0)\n",
      "Requirement already satisfied: greenlet!=0.4.17 in c:\\users\\admin\\appdata\\local\\programs\\python\\python310\\lib\\site-packages (from SQLAlchemy>=1.4.0->uszipcode) (2.0.2)\n",
      "Requirement already satisfied: prettytable in c:\\users\\admin\\appdata\\local\\programs\\python\\python310\\lib\\site-packages (from sqlalchemy-mate>=1.4.28.3->uszipcode) (3.8.0)\n",
      "Requirement already satisfied: charset-normalizer<4,>=2 in c:\\users\\admin\\appdata\\local\\programs\\python\\python310\\lib\\site-packages (from requests->uszipcode) (3.1.0)\n",
      "Requirement already satisfied: idna<4,>=2.5 in c:\\users\\admin\\appdata\\local\\programs\\python\\python310\\lib\\site-packages (from requests->uszipcode) (3.4)\n",
      "Requirement already satisfied: urllib3<3,>=1.21.1 in c:\\users\\admin\\appdata\\local\\programs\\python\\python310\\lib\\site-packages (from requests->uszipcode) (1.26.16)\n",
      "Requirement already satisfied: certifi>=2017.4.17 in c:\\users\\admin\\appdata\\local\\programs\\python\\python310\\lib\\site-packages (from requests->uszipcode) (2023.5.7)\n",
      "Requirement already satisfied: wcwidth in c:\\users\\admin\\appdata\\roaming\\python\\python310\\site-packages (from prettytable->sqlalchemy-mate>=1.4.28.3->uszipcode) (0.2.6)\n"
     ]
    },
    {
     "name": "stderr",
     "output_type": "stream",
     "text": [
      "\n",
      "[notice] A new release of pip is available: 23.0.1 -> 23.1.2\n",
      "[notice] To update, run: python.exe -m pip install --upgrade pip\n"
     ]
    }
   ],
   "source": [
    "%%capture\n",
    "!pip install numpy pandas matplotlib seaborn uszipcode"
   ]
  },
  {
   "cell_type": "code",
   "execution_count": null,
   "metadata": {},
   "outputs": [],
   "source": [
    "import numpy as np\n",
    "import pandas as pd\n",
    "import matplotlib.pyplot as plt\n",
    "import seaborn as sns\n",
    "\n",
    "from uszipcode import SearchEngine\n",
    "search = SearchEngine()\n",
    "\n",
    "%matplotlib inline"
   ]
  },
  {
   "cell_type": "code",
   "execution_count": null,
   "metadata": {},
   "outputs": [
    {
     "ename": "KeyboardInterrupt",
     "evalue": "",
     "output_type": "error",
     "traceback": [
      "\u001b[1;31m---------------------------------------------------------------------------\u001b[0m",
      "\u001b[1;31mKeyboardInterrupt\u001b[0m                         Traceback (most recent call last)",
      "Cell \u001b[1;32mIn[238], line 1\u001b[0m\n\u001b[1;32m----> 1\u001b[0m SBA \u001b[39m=\u001b[39m pd\u001b[39m.\u001b[39;49mread_csv(\u001b[39mr\u001b[39;49m\u001b[39m\"\u001b[39;49m\u001b[39mC:\u001b[39;49m\u001b[39m\\\u001b[39;49m\u001b[39mUsers\u001b[39;49m\u001b[39m\\\u001b[39;49m\u001b[39mADMIN\u001b[39;49m\u001b[39m\\\u001b[39;49m\u001b[39mOneDrive - Hanoi University of Science and Technology\u001b[39;49m\u001b[39m\\\u001b[39;49m\u001b[39mDocuments\u001b[39;49m\u001b[39m\\\u001b[39;49m\u001b[39mSBAnational.csv\u001b[39;49m\u001b[39m\"\u001b[39;49m,index_col\u001b[39m=\u001b[39;49m\u001b[39mNone\u001b[39;49;00m, na_values\u001b[39m=\u001b[39;49m[\u001b[39m'\u001b[39;49m\u001b[39mnan\u001b[39;49m\u001b[39m'\u001b[39;49m])\n\u001b[0;32m      2\u001b[0m SBA\u001b[39m.\u001b[39mhead()\n",
      "File \u001b[1;32mc:\\Users\\ADMIN\\AppData\\Local\\Programs\\Python\\Python310\\lib\\site-packages\\pandas\\io\\parsers\\readers.py:912\u001b[0m, in \u001b[0;36mread_csv\u001b[1;34m(filepath_or_buffer, sep, delimiter, header, names, index_col, usecols, dtype, engine, converters, true_values, false_values, skipinitialspace, skiprows, skipfooter, nrows, na_values, keep_default_na, na_filter, verbose, skip_blank_lines, parse_dates, infer_datetime_format, keep_date_col, date_parser, date_format, dayfirst, cache_dates, iterator, chunksize, compression, thousands, decimal, lineterminator, quotechar, quoting, doublequote, escapechar, comment, encoding, encoding_errors, dialect, on_bad_lines, delim_whitespace, low_memory, memory_map, float_precision, storage_options, dtype_backend)\u001b[0m\n\u001b[0;32m    899\u001b[0m kwds_defaults \u001b[39m=\u001b[39m _refine_defaults_read(\n\u001b[0;32m    900\u001b[0m     dialect,\n\u001b[0;32m    901\u001b[0m     delimiter,\n\u001b[1;32m   (...)\u001b[0m\n\u001b[0;32m    908\u001b[0m     dtype_backend\u001b[39m=\u001b[39mdtype_backend,\n\u001b[0;32m    909\u001b[0m )\n\u001b[0;32m    910\u001b[0m kwds\u001b[39m.\u001b[39mupdate(kwds_defaults)\n\u001b[1;32m--> 912\u001b[0m \u001b[39mreturn\u001b[39;00m _read(filepath_or_buffer, kwds)\n",
      "File \u001b[1;32mc:\\Users\\ADMIN\\AppData\\Local\\Programs\\Python\\Python310\\lib\\site-packages\\pandas\\io\\parsers\\readers.py:583\u001b[0m, in \u001b[0;36m_read\u001b[1;34m(filepath_or_buffer, kwds)\u001b[0m\n\u001b[0;32m    580\u001b[0m     \u001b[39mreturn\u001b[39;00m parser\n\u001b[0;32m    582\u001b[0m \u001b[39mwith\u001b[39;00m parser:\n\u001b[1;32m--> 583\u001b[0m     \u001b[39mreturn\u001b[39;00m parser\u001b[39m.\u001b[39;49mread(nrows)\n",
      "File \u001b[1;32mc:\\Users\\ADMIN\\AppData\\Local\\Programs\\Python\\Python310\\lib\\site-packages\\pandas\\io\\parsers\\readers.py:1704\u001b[0m, in \u001b[0;36mTextFileReader.read\u001b[1;34m(self, nrows)\u001b[0m\n\u001b[0;32m   1697\u001b[0m nrows \u001b[39m=\u001b[39m validate_integer(\u001b[39m\"\u001b[39m\u001b[39mnrows\u001b[39m\u001b[39m\"\u001b[39m, nrows)\n\u001b[0;32m   1698\u001b[0m \u001b[39mtry\u001b[39;00m:\n\u001b[0;32m   1699\u001b[0m     \u001b[39m# error: \"ParserBase\" has no attribute \"read\"\u001b[39;00m\n\u001b[0;32m   1700\u001b[0m     (\n\u001b[0;32m   1701\u001b[0m         index,\n\u001b[0;32m   1702\u001b[0m         columns,\n\u001b[0;32m   1703\u001b[0m         col_dict,\n\u001b[1;32m-> 1704\u001b[0m     ) \u001b[39m=\u001b[39m \u001b[39mself\u001b[39;49m\u001b[39m.\u001b[39;49m_engine\u001b[39m.\u001b[39;49mread(  \u001b[39m# type: ignore[attr-defined]\u001b[39;49;00m\n\u001b[0;32m   1705\u001b[0m         nrows\n\u001b[0;32m   1706\u001b[0m     )\n\u001b[0;32m   1707\u001b[0m \u001b[39mexcept\u001b[39;00m \u001b[39mException\u001b[39;00m:\n\u001b[0;32m   1708\u001b[0m     \u001b[39mself\u001b[39m\u001b[39m.\u001b[39mclose()\n",
      "File \u001b[1;32mc:\\Users\\ADMIN\\AppData\\Local\\Programs\\Python\\Python310\\lib\\site-packages\\pandas\\io\\parsers\\c_parser_wrapper.py:234\u001b[0m, in \u001b[0;36mCParserWrapper.read\u001b[1;34m(self, nrows)\u001b[0m\n\u001b[0;32m    232\u001b[0m \u001b[39mtry\u001b[39;00m:\n\u001b[0;32m    233\u001b[0m     \u001b[39mif\u001b[39;00m \u001b[39mself\u001b[39m\u001b[39m.\u001b[39mlow_memory:\n\u001b[1;32m--> 234\u001b[0m         chunks \u001b[39m=\u001b[39m \u001b[39mself\u001b[39;49m\u001b[39m.\u001b[39;49m_reader\u001b[39m.\u001b[39;49mread_low_memory(nrows)\n\u001b[0;32m    235\u001b[0m         \u001b[39m# destructive to chunks\u001b[39;00m\n\u001b[0;32m    236\u001b[0m         data \u001b[39m=\u001b[39m _concatenate_chunks(chunks)\n",
      "File \u001b[1;32mc:\\Users\\ADMIN\\AppData\\Local\\Programs\\Python\\Python310\\lib\\site-packages\\pandas\\_libs\\parsers.pyx:812\u001b[0m, in \u001b[0;36mpandas._libs.parsers.TextReader.read_low_memory\u001b[1;34m()\u001b[0m\n",
      "File \u001b[1;32mc:\\Users\\ADMIN\\AppData\\Local\\Programs\\Python\\Python310\\lib\\site-packages\\pandas\\_libs\\parsers.pyx:889\u001b[0m, in \u001b[0;36mpandas._libs.parsers.TextReader._read_rows\u001b[1;34m()\u001b[0m\n",
      "File \u001b[1;32mc:\\Users\\ADMIN\\AppData\\Local\\Programs\\Python\\Python310\\lib\\site-packages\\pandas\\_libs\\parsers.pyx:1034\u001b[0m, in \u001b[0;36mpandas._libs.parsers.TextReader._convert_column_data\u001b[1;34m()\u001b[0m\n",
      "File \u001b[1;32mc:\\Users\\ADMIN\\AppData\\Local\\Programs\\Python\\Python310\\lib\\site-packages\\pandas\\_libs\\parsers.pyx:1088\u001b[0m, in \u001b[0;36mpandas._libs.parsers.TextReader._convert_tokens\u001b[1;34m()\u001b[0m\n",
      "File \u001b[1;32mc:\\Users\\ADMIN\\AppData\\Local\\Programs\\Python\\Python310\\lib\\site-packages\\pandas\\_libs\\parsers.pyx:1163\u001b[0m, in \u001b[0;36mpandas._libs.parsers.TextReader._convert_with_dtype\u001b[1;34m()\u001b[0m\n",
      "File \u001b[1;32mc:\\Users\\ADMIN\\AppData\\Local\\Programs\\Python\\Python310\\lib\\site-packages\\pandas\\core\\dtypes\\common.py:1335\u001b[0m, in \u001b[0;36mis_extension_array_dtype\u001b[1;34m(arr_or_dtype)\u001b[0m\n\u001b[0;32m   1326\u001b[0m     \u001b[39m# Note: if other EA dtypes are ever held in HybridBlock, exclude those\u001b[39;00m\n\u001b[0;32m   1327\u001b[0m     \u001b[39m#  here too.\u001b[39;00m\n\u001b[0;32m   1328\u001b[0m     \u001b[39m# NB: need to check DatetimeTZDtype and not is_datetime64tz_dtype\u001b[39;00m\n\u001b[0;32m   1329\u001b[0m     \u001b[39m#  to exclude ArrowTimestampUSDtype\u001b[39;00m\n\u001b[0;32m   1330\u001b[0m     \u001b[39mreturn\u001b[39;00m \u001b[39misinstance\u001b[39m(dtype, ExtensionDtype) \u001b[39mand\u001b[39;00m \u001b[39mnot\u001b[39;00m \u001b[39misinstance\u001b[39m(\n\u001b[0;32m   1331\u001b[0m         dtype, (DatetimeTZDtype, PeriodDtype)\n\u001b[0;32m   1332\u001b[0m     )\n\u001b[1;32m-> 1335\u001b[0m \u001b[39mdef\u001b[39;00m \u001b[39mis_extension_array_dtype\u001b[39m(arr_or_dtype) \u001b[39m-\u001b[39m\u001b[39m>\u001b[39m \u001b[39mbool\u001b[39m:\n\u001b[0;32m   1336\u001b[0m \u001b[39m    \u001b[39m\u001b[39m\"\"\"\u001b[39;00m\n\u001b[0;32m   1337\u001b[0m \u001b[39m    Check if an object is a pandas extension array type.\u001b[39;00m\n\u001b[0;32m   1338\u001b[0m \n\u001b[1;32m   (...)\u001b[0m\n\u001b[0;32m   1378\u001b[0m \u001b[39m    False\u001b[39;00m\n\u001b[0;32m   1379\u001b[0m \u001b[39m    \"\"\"\u001b[39;00m\n\u001b[0;32m   1380\u001b[0m     dtype \u001b[39m=\u001b[39m \u001b[39mgetattr\u001b[39m(arr_or_dtype, \u001b[39m\"\u001b[39m\u001b[39mdtype\u001b[39m\u001b[39m\"\u001b[39m, arr_or_dtype)\n",
      "\u001b[1;31mKeyboardInterrupt\u001b[0m: "
     ]
    }
   ],
   "source": [
    "SBA = pd.read_csv(r\"C:\\Users\\ADMIN\\OneDrive - Hanoi University of Science and Technology\\Documents\\SBAnational.csv\",index_col=None, na_values=['nan'])\n",
    "SBA.head()"
   ]
  },
  {
   "cell_type": "code",
   "execution_count": null,
   "metadata": {},
   "outputs": [
    {
     "name": "stdout",
     "output_type": "stream",
     "text": [
      "(899164, 27)\n"
     ]
    }
   ],
   "source": [
    "SBA.drop_duplicates(keep='first')\n",
    "print(SBA.shape)"
   ]
  },
  {
   "cell_type": "code",
   "execution_count": null,
   "metadata": {},
   "outputs": [
    {
     "name": "stdout",
     "output_type": "stream",
     "text": [
      "<class 'pandas.core.frame.DataFrame'>\n",
      "RangeIndex: 899164 entries, 0 to 899163\n",
      "Data columns (total 27 columns):\n",
      " #   Column             Non-Null Count   Dtype  \n",
      "---  ------             --------------   -----  \n",
      " 0   LoanNr_ChkDgt      899164 non-null  int64  \n",
      " 1   Name               899150 non-null  object \n",
      " 2   City               899134 non-null  object \n",
      " 3   State              899150 non-null  object \n",
      " 4   Zip                899164 non-null  int64  \n",
      " 5   Bank               897605 non-null  object \n",
      " 6   BankState          897598 non-null  object \n",
      " 7   NAICS              899164 non-null  int64  \n",
      " 8   ApprovalDate       899164 non-null  object \n",
      " 9   ApprovalFY         899164 non-null  object \n",
      " 10  Term               899164 non-null  int64  \n",
      " 11  NoEmp              899164 non-null  int64  \n",
      " 12  NewExist           899028 non-null  float64\n",
      " 13  CreateJob          899164 non-null  int64  \n",
      " 14  RetainedJob        899164 non-null  int64  \n",
      " 15  FranchiseCode      899164 non-null  int64  \n",
      " 16  UrbanRural         899164 non-null  int64  \n",
      " 17  RevLineCr          894636 non-null  object \n",
      " 18  LowDoc             896582 non-null  object \n",
      " 19  ChgOffDate         162699 non-null  object \n",
      " 20  DisbursementDate   896796 non-null  object \n",
      " 21  DisbursementGross  899164 non-null  object \n",
      " 22  BalanceGross       899164 non-null  object \n",
      " 23  MIS_Status         897167 non-null  object \n",
      " 24  ChgOffPrinGr       899164 non-null  object \n",
      " 25  GrAppv             899164 non-null  object \n",
      " 26  SBA_Appv           899164 non-null  object \n",
      "dtypes: float64(1), int64(9), object(17)\n",
      "memory usage: 185.2+ MB\n"
     ]
    }
   ],
   "source": [
    "SBA.info()"
   ]
  },
  {
   "cell_type": "code",
   "execution_count": null,
   "metadata": {},
   "outputs": [],
   "source": [
    "def information(df):\n",
    "    list_item = []\n",
    "    for col in df.columns:\n",
    "        # list_item.append([col, df[col].dtype, df[col].isna().sum(), round((df[col].isna().sum()/len(SBA[col]))*100,2),\n",
    "        #                 df[col].nunique(), list(df[col].sample(5).drop_duplicates().values)])\n",
    "\n",
    "        list_item.append([col, df[col].dtype, df[col].isna().sum(), round((df[col].isna().sum()/len(SBA[col]))*100,2),\n",
    "                        df[col].nunique()])\n",
    "    dfDesc = pd.DataFrame(columns=['feature', 'data_type', 'null', 'nulPercentage', 'unique'],data=list_item)\n",
    "    print(dfDesc)"
   ]
  },
  {
   "cell_type": "code",
   "execution_count": null,
   "metadata": {},
   "outputs": [
    {
     "name": "stdout",
     "output_type": "stream",
     "text": [
      "              feature data_type    null  nulPercentage  unique\n",
      "0       LoanNr_ChkDgt     int64       0           0.00  899164\n",
      "1                Name    object      14           0.00  779583\n",
      "2                City    object      30           0.00   32581\n",
      "3               State    object      14           0.00      51\n",
      "4                 Zip     int64       0           0.00   33611\n",
      "5                Bank    object    1559           0.17    5802\n",
      "6           BankState    object    1566           0.17      56\n",
      "7               NAICS     int64       0           0.00    1312\n",
      "8        ApprovalDate    object       0           0.00    9859\n",
      "9          ApprovalFY    object       0           0.00      70\n",
      "10               Term     int64       0           0.00     412\n",
      "11              NoEmp     int64       0           0.00     599\n",
      "12           NewExist   float64     136           0.02       3\n",
      "13          CreateJob     int64       0           0.00     246\n",
      "14        RetainedJob     int64       0           0.00     358\n",
      "15      FranchiseCode     int64       0           0.00    2768\n",
      "16         UrbanRural     int64       0           0.00       3\n",
      "17          RevLineCr    object    4528           0.50      18\n",
      "18             LowDoc    object    2582           0.29       8\n",
      "19         ChgOffDate    object  736465          81.91    6448\n",
      "20   DisbursementDate    object    2368           0.26    8472\n",
      "21  DisbursementGross    object       0           0.00  118859\n",
      "22       BalanceGross    object       0           0.00      15\n",
      "23         MIS_Status    object    1997           0.22       2\n",
      "24       ChgOffPrinGr    object       0           0.00   83165\n",
      "25             GrAppv    object       0           0.00   22128\n",
      "26           SBA_Appv    object       0           0.00   38326\n"
     ]
    }
   ],
   "source": [
    "information(SBA)"
   ]
  },
  {
   "cell_type": "code",
   "execution_count": null,
   "metadata": {},
   "outputs": [
    {
     "data": {
      "text/html": [
       "<div>\n",
       "<style scoped>\n",
       "    .dataframe tbody tr th:only-of-type {\n",
       "        vertical-align: middle;\n",
       "    }\n",
       "\n",
       "    .dataframe tbody tr th {\n",
       "        vertical-align: top;\n",
       "    }\n",
       "\n",
       "    .dataframe thead th {\n",
       "        text-align: right;\n",
       "    }\n",
       "</style>\n",
       "<table border=\"1\" class=\"dataframe\">\n",
       "  <thead>\n",
       "    <tr style=\"text-align: right;\">\n",
       "      <th></th>\n",
       "      <th>feature</th>\n",
       "      <th>data_type</th>\n",
       "      <th>null</th>\n",
       "      <th>nulPercentage</th>\n",
       "      <th>unique</th>\n",
       "      <th>uniqueSample</th>\n",
       "    </tr>\n",
       "  </thead>\n",
       "  <tbody>\n",
       "    <tr>\n",
       "      <th>0</th>\n",
       "      <td>LoanNr_ChkDgt</td>\n",
       "      <td>int64</td>\n",
       "      <td>0</td>\n",
       "      <td>0.00</td>\n",
       "      <td>899164</td>\n",
       "      <td>[6909364008, 9012884010, 5789093003, 769242300...</td>\n",
       "    </tr>\n",
       "    <tr>\n",
       "      <th>1</th>\n",
       "      <td>Name</td>\n",
       "      <td>object</td>\n",
       "      <td>14</td>\n",
       "      <td>0.00</td>\n",
       "      <td>779583</td>\n",
       "      <td>[K.S.N.T. Incorporated, MARLIN MACHINE PRODUCT...</td>\n",
       "    </tr>\n",
       "    <tr>\n",
       "      <th>2</th>\n",
       "      <td>City</td>\n",
       "      <td>object</td>\n",
       "      <td>30</td>\n",
       "      <td>0.00</td>\n",
       "      <td>32581</td>\n",
       "      <td>[CONCORD, NEPTUNE, Elizabethtown, YARMOUTH, HE...</td>\n",
       "    </tr>\n",
       "    <tr>\n",
       "      <th>3</th>\n",
       "      <td>State</td>\n",
       "      <td>object</td>\n",
       "      <td>14</td>\n",
       "      <td>0.00</td>\n",
       "      <td>51</td>\n",
       "      <td>[TX, MT, NV, NC, FL]</td>\n",
       "    </tr>\n",
       "    <tr>\n",
       "      <th>4</th>\n",
       "      <td>Zip</td>\n",
       "      <td>int64</td>\n",
       "      <td>0</td>\n",
       "      <td>0.00</td>\n",
       "      <td>33611</td>\n",
       "      <td>[43130, 91950, 55126, 32541, 11706]</td>\n",
       "    </tr>\n",
       "    <tr>\n",
       "      <th>5</th>\n",
       "      <td>Bank</td>\n",
       "      <td>object</td>\n",
       "      <td>1559</td>\n",
       "      <td>0.17</td>\n",
       "      <td>5802</td>\n",
       "      <td>[SUSQUEHANNA BANK, ZIONS FIRST NATIONAL BANK, ...</td>\n",
       "    </tr>\n",
       "    <tr>\n",
       "      <th>6</th>\n",
       "      <td>BankState</td>\n",
       "      <td>object</td>\n",
       "      <td>1566</td>\n",
       "      <td>0.17</td>\n",
       "      <td>56</td>\n",
       "      <td>[CA, CT, NC, NY]</td>\n",
       "    </tr>\n",
       "    <tr>\n",
       "      <th>7</th>\n",
       "      <td>NAICS</td>\n",
       "      <td>int64</td>\n",
       "      <td>0</td>\n",
       "      <td>0.00</td>\n",
       "      <td>1312</td>\n",
       "      <td>[454110, 442299, 621340, 0, 444220]</td>\n",
       "    </tr>\n",
       "    <tr>\n",
       "      <th>8</th>\n",
       "      <td>ApprovalDate</td>\n",
       "      <td>object</td>\n",
       "      <td>0</td>\n",
       "      <td>0.00</td>\n",
       "      <td>9859</td>\n",
       "      <td>[26-Jul-02, 27-Feb-07, 21-Nov-03, 26-Jan-06, 2...</td>\n",
       "    </tr>\n",
       "    <tr>\n",
       "      <th>9</th>\n",
       "      <td>ApprovalFY</td>\n",
       "      <td>object</td>\n",
       "      <td>0</td>\n",
       "      <td>0.00</td>\n",
       "      <td>70</td>\n",
       "      <td>[2002, 1990, 2004, 2004, 2008]</td>\n",
       "    </tr>\n",
       "    <tr>\n",
       "      <th>10</th>\n",
       "      <td>Term</td>\n",
       "      <td>int64</td>\n",
       "      <td>0</td>\n",
       "      <td>0.00</td>\n",
       "      <td>412</td>\n",
       "      <td>[84, 300, 18, 21, 240]</td>\n",
       "    </tr>\n",
       "    <tr>\n",
       "      <th>11</th>\n",
       "      <td>NoEmp</td>\n",
       "      <td>int64</td>\n",
       "      <td>0</td>\n",
       "      <td>0.00</td>\n",
       "      <td>599</td>\n",
       "      <td>[2, 10, 1, 13, 3]</td>\n",
       "    </tr>\n",
       "    <tr>\n",
       "      <th>12</th>\n",
       "      <td>NewExist</td>\n",
       "      <td>float64</td>\n",
       "      <td>136</td>\n",
       "      <td>0.02</td>\n",
       "      <td>3</td>\n",
       "      <td>[1.0]</td>\n",
       "    </tr>\n",
       "    <tr>\n",
       "      <th>13</th>\n",
       "      <td>CreateJob</td>\n",
       "      <td>int64</td>\n",
       "      <td>0</td>\n",
       "      <td>0.00</td>\n",
       "      <td>246</td>\n",
       "      <td>[0, 2, 4, 15]</td>\n",
       "    </tr>\n",
       "    <tr>\n",
       "      <th>14</th>\n",
       "      <td>RetainedJob</td>\n",
       "      <td>int64</td>\n",
       "      <td>0</td>\n",
       "      <td>0.00</td>\n",
       "      <td>358</td>\n",
       "      <td>[1, 0, 10, 5]</td>\n",
       "    </tr>\n",
       "    <tr>\n",
       "      <th>15</th>\n",
       "      <td>FranchiseCode</td>\n",
       "      <td>int64</td>\n",
       "      <td>0</td>\n",
       "      <td>0.00</td>\n",
       "      <td>2768</td>\n",
       "      <td>[1, 58720]</td>\n",
       "    </tr>\n",
       "    <tr>\n",
       "      <th>16</th>\n",
       "      <td>UrbanRural</td>\n",
       "      <td>int64</td>\n",
       "      <td>0</td>\n",
       "      <td>0.00</td>\n",
       "      <td>3</td>\n",
       "      <td>[1, 2, 0]</td>\n",
       "    </tr>\n",
       "    <tr>\n",
       "      <th>17</th>\n",
       "      <td>RevLineCr</td>\n",
       "      <td>object</td>\n",
       "      <td>4528</td>\n",
       "      <td>0.50</td>\n",
       "      <td>18</td>\n",
       "      <td>[Y, N, 0]</td>\n",
       "    </tr>\n",
       "    <tr>\n",
       "      <th>18</th>\n",
       "      <td>LowDoc</td>\n",
       "      <td>object</td>\n",
       "      <td>2582</td>\n",
       "      <td>0.29</td>\n",
       "      <td>8</td>\n",
       "      <td>[Y, N]</td>\n",
       "    </tr>\n",
       "    <tr>\n",
       "      <th>19</th>\n",
       "      <td>ChgOffDate</td>\n",
       "      <td>object</td>\n",
       "      <td>736465</td>\n",
       "      <td>81.91</td>\n",
       "      <td>6448</td>\n",
       "      <td>[nan, 23-May-11]</td>\n",
       "    </tr>\n",
       "    <tr>\n",
       "      <th>20</th>\n",
       "      <td>DisbursementDate</td>\n",
       "      <td>object</td>\n",
       "      <td>2368</td>\n",
       "      <td>0.26</td>\n",
       "      <td>8472</td>\n",
       "      <td>[31-Oct-95, 30-Apr-97, 16-Jul-91, 31-Aug-97]</td>\n",
       "    </tr>\n",
       "    <tr>\n",
       "      <th>21</th>\n",
       "      <td>DisbursementGross</td>\n",
       "      <td>object</td>\n",
       "      <td>0</td>\n",
       "      <td>0.00</td>\n",
       "      <td>118859</td>\n",
       "      <td>[$300,000.00 , $5,000.00 , $346,500.00 , $31,5...</td>\n",
       "    </tr>\n",
       "    <tr>\n",
       "      <th>22</th>\n",
       "      <td>BalanceGross</td>\n",
       "      <td>object</td>\n",
       "      <td>0</td>\n",
       "      <td>0.00</td>\n",
       "      <td>15</td>\n",
       "      <td>[$0.00 ]</td>\n",
       "    </tr>\n",
       "    <tr>\n",
       "      <th>23</th>\n",
       "      <td>MIS_Status</td>\n",
       "      <td>object</td>\n",
       "      <td>1997</td>\n",
       "      <td>0.22</td>\n",
       "      <td>2</td>\n",
       "      <td>[P I F, CHGOFF]</td>\n",
       "    </tr>\n",
       "    <tr>\n",
       "      <th>24</th>\n",
       "      <td>ChgOffPrinGr</td>\n",
       "      <td>object</td>\n",
       "      <td>0</td>\n",
       "      <td>0.00</td>\n",
       "      <td>83165</td>\n",
       "      <td>[$0.00 ]</td>\n",
       "    </tr>\n",
       "    <tr>\n",
       "      <th>25</th>\n",
       "      <td>GrAppv</td>\n",
       "      <td>object</td>\n",
       "      <td>0</td>\n",
       "      <td>0.00</td>\n",
       "      <td>22128</td>\n",
       "      <td>[$88,900.00 , $56,000.00 , $75,000.00 , $45,91...</td>\n",
       "    </tr>\n",
       "    <tr>\n",
       "      <th>26</th>\n",
       "      <td>SBA_Appv</td>\n",
       "      <td>object</td>\n",
       "      <td>0</td>\n",
       "      <td>0.00</td>\n",
       "      <td>38326</td>\n",
       "      <td>[$17,500.00 , $25,000.00 , $262,500.00 , $337,...</td>\n",
       "    </tr>\n",
       "  </tbody>\n",
       "</table>\n",
       "</div>"
      ],
      "text/plain": [
       "              feature data_type    null  nulPercentage  unique  \\\n",
       "0       LoanNr_ChkDgt     int64       0           0.00  899164   \n",
       "1                Name    object      14           0.00  779583   \n",
       "2                City    object      30           0.00   32581   \n",
       "3               State    object      14           0.00      51   \n",
       "4                 Zip     int64       0           0.00   33611   \n",
       "5                Bank    object    1559           0.17    5802   \n",
       "6           BankState    object    1566           0.17      56   \n",
       "7               NAICS     int64       0           0.00    1312   \n",
       "8        ApprovalDate    object       0           0.00    9859   \n",
       "9          ApprovalFY    object       0           0.00      70   \n",
       "10               Term     int64       0           0.00     412   \n",
       "11              NoEmp     int64       0           0.00     599   \n",
       "12           NewExist   float64     136           0.02       3   \n",
       "13          CreateJob     int64       0           0.00     246   \n",
       "14        RetainedJob     int64       0           0.00     358   \n",
       "15      FranchiseCode     int64       0           0.00    2768   \n",
       "16         UrbanRural     int64       0           0.00       3   \n",
       "17          RevLineCr    object    4528           0.50      18   \n",
       "18             LowDoc    object    2582           0.29       8   \n",
       "19         ChgOffDate    object  736465          81.91    6448   \n",
       "20   DisbursementDate    object    2368           0.26    8472   \n",
       "21  DisbursementGross    object       0           0.00  118859   \n",
       "22       BalanceGross    object       0           0.00      15   \n",
       "23         MIS_Status    object    1997           0.22       2   \n",
       "24       ChgOffPrinGr    object       0           0.00   83165   \n",
       "25             GrAppv    object       0           0.00   22128   \n",
       "26           SBA_Appv    object       0           0.00   38326   \n",
       "\n",
       "                                         uniqueSample  \n",
       "0   [6909364008, 9012884010, 5789093003, 769242300...  \n",
       "1   [K.S.N.T. Incorporated, MARLIN MACHINE PRODUCT...  \n",
       "2   [CONCORD, NEPTUNE, Elizabethtown, YARMOUTH, HE...  \n",
       "3                                [TX, MT, NV, NC, FL]  \n",
       "4                 [43130, 91950, 55126, 32541, 11706]  \n",
       "5   [SUSQUEHANNA BANK, ZIONS FIRST NATIONAL BANK, ...  \n",
       "6                                    [CA, CT, NC, NY]  \n",
       "7                 [454110, 442299, 621340, 0, 444220]  \n",
       "8   [26-Jul-02, 27-Feb-07, 21-Nov-03, 26-Jan-06, 2...  \n",
       "9                      [2002, 1990, 2004, 2004, 2008]  \n",
       "10                             [84, 300, 18, 21, 240]  \n",
       "11                                  [2, 10, 1, 13, 3]  \n",
       "12                                              [1.0]  \n",
       "13                                      [0, 2, 4, 15]  \n",
       "14                                      [1, 0, 10, 5]  \n",
       "15                                         [1, 58720]  \n",
       "16                                          [1, 2, 0]  \n",
       "17                                          [Y, N, 0]  \n",
       "18                                             [Y, N]  \n",
       "19                                   [nan, 23-May-11]  \n",
       "20       [31-Oct-95, 30-Apr-97, 16-Jul-91, 31-Aug-97]  \n",
       "21  [$300,000.00 , $5,000.00 , $346,500.00 , $31,5...  \n",
       "22                                           [$0.00 ]  \n",
       "23                                    [P I F, CHGOFF]  \n",
       "24                                           [$0.00 ]  \n",
       "25  [$88,900.00 , $56,000.00 , $75,000.00 , $45,91...  \n",
       "26  [$17,500.00 , $25,000.00 , $262,500.00 , $337,...  "
      ]
     },
     "execution_count": 180,
     "metadata": {},
     "output_type": "execute_result"
    }
   ],
   "source": [
    "list_item = []\n",
    "for col in SBA.columns:\n",
    "    list_item.append([col, SBA[col].dtype, SBA[col].isna().sum(), round((SBA[col].isna().sum()/len(SBA[col]))*100,2),\n",
    "                      SBA[col].nunique(), list(SBA[col].sample(5).drop_duplicates().values)])\n",
    "\n",
    "dfDesc = pd.DataFrame(columns=['feature', 'data_type', 'null', 'nulPercentage', 'unique', 'uniqueSample'],data=list_item)\n",
    "dfDesc"
   ]
  },
  {
   "attachments": {},
   "cell_type": "markdown",
   "metadata": {},
   "source": [
    "## Data Exploring & Feature Selection\n",
    "### 1. Target Feature\n",
    "The `MIS_Status` is the feature explains which borrower cannot repay loans => Target Feature"
   ]
  },
  {
   "cell_type": "code",
   "execution_count": null,
   "metadata": {},
   "outputs": [
    {
     "name": "stdout",
     "output_type": "stream",
     "text": [
      "(899164, 27)\n"
     ]
    },
    {
     "data": {
      "text/plain": [
       "MIS_Status\n",
       "P I F     739609\n",
       "CHGOFF    157558\n",
       "Name: count, dtype: int64"
      ]
     },
     "execution_count": 181,
     "metadata": {},
     "output_type": "execute_result"
    }
   ],
   "source": [
    "print(SBA.shape)\n",
    "SBA.value_counts('MIS_Status') #Quite imbalanced"
   ]
  },
  {
   "attachments": {},
   "cell_type": "markdown",
   "metadata": {},
   "source": [
    "### 2. Input Feature\n",
    "##### 2.1. Borrower and Institusion Information Feature\n",
    "From SBA Data Frame we can make a conclusion that there are seven columns that give personal and instituion information\n",
    "- `LoanNr_ChkDgt` as borrower Identifeir\n",
    "- `Name` as Borrower Name\n",
    "- `City` as Borrower City\n",
    "- `State` as Borrower State\n",
    "- `Zip` as Borrower Zip Code\n",
    "- `Bank` as Bank Name\n",
    "- `BankState` as Bank State\n",
    "- `FranchiseCode` as FranchiseCode\n",
    "- `UrbanRural` as information about business\n",
    "\n",
    "I think only `City` and `State` should be considered since Geography plays a significant role in the field of business."
   ]
  },
  {
   "attachments": {},
   "cell_type": "markdown",
   "metadata": {},
   "source": [
    "###### **FranchiseCode**"
   ]
  },
  {
   "cell_type": "code",
   "execution_count": null,
   "metadata": {},
   "outputs": [
    {
     "name": "stdout",
     "output_type": "stream",
     "text": [
      "No Franchise\n",
      "MIS_Status\n",
      "P I F     695737\n",
      "CHGOFF    149698\n",
      "Name: count, dtype: int64\n",
      "********************\n",
      "Franchise\n",
      "MIS_Status\n",
      "P I F     43872\n",
      "CHGOFF     7860\n",
      "Name: count, dtype: int64\n"
     ]
    }
   ],
   "source": [
    "SBA.loc[(SBA['FranchiseCode'] == 1), 'FranchiseCode'] = 0\n",
    "SBA.loc[(SBA['FranchiseCode'] != 0), 'FranchiseCode'] = 1\n",
    "\n",
    "# no Franchise \n",
    "print('No Franchise')\n",
    "cond_1 = SBA[(SBA['FranchiseCode'] == 0)] \n",
    "print(cond_1.value_counts('MIS_Status'))\n",
    "\n",
    "print('*'*20)\n",
    "# no Franchise \n",
    "print('Franchise')\n",
    "cond_2 = SBA[(SBA['FranchiseCode'] == 1)] \n",
    "print(cond_2.value_counts('MIS_Status'))\n",
    "# you can see that the rate between 'P I F' and 'CHGOFF' is similar\n",
    "# -> the 'FranchiseCode' feature is not important\n"
   ]
  },
  {
   "attachments": {},
   "cell_type": "markdown",
   "metadata": {},
   "source": [
    "###### **UrbanRural**"
   ]
  },
  {
   "cell_type": "code",
   "execution_count": null,
   "metadata": {},
   "outputs": [
    {
     "data": {
      "text/plain": [
       "UrbanRural\n",
       "1    470654\n",
       "0    323167\n",
       "2    105343\n",
       "Name: count, dtype: int64"
      ]
     },
     "execution_count": 183,
     "metadata": {},
     "output_type": "execute_result"
    }
   ],
   "source": [
    "SBA.value_counts('UrbanRural')\n",
    "# 0 is undefined"
   ]
  },
  {
   "cell_type": "code",
   "execution_count": null,
   "metadata": {},
   "outputs": [
    {
     "name": "stdout",
     "output_type": "stream",
     "text": [
      "Urban\n",
      "MIS_Status\n",
      "P I F     354414\n",
      "CHGOFF    114867\n",
      "Name: count, dtype: int64\n",
      "********************\n",
      "Rural\n",
      "MIS_Status\n",
      "P I F     85347\n",
      "CHGOFF    19713\n",
      "Name: count, dtype: int64\n"
     ]
    }
   ],
   "source": [
    "# Urban\n",
    "print('Urban')\n",
    "cond_3 = SBA[SBA['UrbanRural'] == 1] \n",
    "print(cond_3.value_counts('MIS_Status'))\n",
    "\n",
    "print('*'*20)\n",
    "\n",
    "# Rural\n",
    "print('Rural')\n",
    "cond_4 = SBA[SBA['UrbanRural'] == 2] \n",
    "print(cond_4.value_counts('MIS_Status'))\n",
    "# the ratio is similar and \n",
    "# there are too much undefined value (~ 30%) -> drop this columns"
   ]
  },
  {
   "attachments": {},
   "cell_type": "markdown",
   "metadata": {},
   "source": [
    "##### 2.2. NAICS (North American industry classification system code)\n",
    "- `NAICS` is a classification system of several types of industries registered in America. \n",
    "\n",
    "The first two digits of `NAICS` explained the type of business industries.\n",
    "\n",
    "The type of industry will affect the company's performance in business. So that this feature will affect the potential of the company."
   ]
  },
  {
   "cell_type": "code",
   "execution_count": null,
   "metadata": {},
   "outputs": [
    {
     "data": {
      "text/plain": [
       "NAICS\n",
       "0         201948\n",
       "722110     27989\n",
       "722211     19448\n",
       "811111     14585\n",
       "621210     14048\n",
       "           ...  \n",
       "927110         1\n",
       "327410         1\n",
       "314992         1\n",
       "922110         1\n",
       "325192         1\n",
       "Name: count, Length: 1312, dtype: int64"
      ]
     },
     "execution_count": 185,
     "metadata": {},
     "output_type": "execute_result"
    }
   ],
   "source": [
    "SBA['NAICS'].value_counts() # A lot of inappropriate values"
   ]
  },
  {
   "attachments": {},
   "cell_type": "markdown",
   "metadata": {},
   "source": [
    "##### 2.3. Date and Time Feature\n",
    "- `ApprovalDate` : Date SBA commitment issued\n",
    "- `ApprovalFY` : Fiscal year of commitment\n",
    "- `DisbursementDate` : Disbursement date\n",
    "\n",
    "- `ChgOffDate` : The date when a loan is declared to be in default\n",
    "\n",
    "Since these features are used only for additional informations, I think we can drop them.\n",
    "\n",
    "The first three features are in the same period of history. At the time the loan application is requested, we cannot predict how the economic situation will change so these features will not provide any important information.\n",
    "\n",
    "The last feature is just know after a loan is declared to be in default\n",
    "-> drop"
   ]
  },
  {
   "attachments": {},
   "cell_type": "markdown",
   "metadata": {},
   "source": [
    "##### 2.4. Term\n",
    "The `Term` provides information on how long the loan will take. \n",
    "\n",
    "Concerning the rules of risk management, the longer the duration, the greater the uncertainty that will lead to risk. "
   ]
  },
  {
   "cell_type": "code",
   "execution_count": null,
   "metadata": {},
   "outputs": [
    {
     "data": {
      "text/plain": [
       "Term\n",
       "84     230162\n",
       "60      89945\n",
       "240     85982\n",
       "120     77654\n",
       "300     44727\n",
       "        ...  \n",
       "438         1\n",
       "382         1\n",
       "367         1\n",
       "374         1\n",
       "429         1\n",
       "Name: count, Length: 412, dtype: int64"
      ]
     },
     "execution_count": 186,
     "metadata": {},
     "output_type": "execute_result"
    }
   ],
   "source": [
    "# Let's count unique values in Term column\n",
    "SBA['Term'].value_counts() # Quite a lot of unique values"
   ]
  },
  {
   "attachments": {},
   "cell_type": "markdown",
   "metadata": {},
   "source": [
    "##### 2.5. Job Columns\n",
    "- `NoEmp` : Number of business employees \n",
    "- `CreateJob` : Number of jobs created\n",
    "- `RetainedJob` : Number of jobs retained\n",
    "\n",
    "Only `NoEmp` is useful here since it indicates how big the company is."
   ]
  },
  {
   "cell_type": "code",
   "execution_count": null,
   "metadata": {},
   "outputs": [
    {
     "data": {
      "text/plain": [
       "<Axes: xlabel='MIS_Status', ylabel='NoEmp'>"
      ]
     },
     "execution_count": 187,
     "metadata": {},
     "output_type": "execute_result"
    },
    {
     "data": {
      "image/png": "[encoded data removed]",
      "text/plain": [
       "<Figure size 640x480 with 1 Axes>"
      ]
     },
     "metadata": {},
     "output_type": "display_data"
    }
   ],
   "source": [
    "sns.boxplot(x=SBA.MIS_Status, y=SBA['NoEmp'])\n",
    "# Seems like companies with a small number of employees are more likely to default"
   ]
  },
  {
   "cell_type": "code",
   "execution_count": null,
   "metadata": {},
   "outputs": [
    {
     "data": {
      "text/plain": [
       "<Axes: xlabel='MIS_Status', ylabel='CreateJob'>"
      ]
     },
     "execution_count": 188,
     "metadata": {},
     "output_type": "execute_result"
    },
    {
     "data": {
      "image/png": "[encoded data removed]",
      "text/plain": [
       "<Figure size 640x480 with 1 Axes>"
      ]
     },
     "metadata": {},
     "output_type": "display_data"
    }
   ],
   "source": [
    "sns.boxplot(x=SBA.MIS_Status, y=SBA['CreateJob'])"
   ]
  },
  {
   "cell_type": "code",
   "execution_count": null,
   "metadata": {},
   "outputs": [
    {
     "data": {
      "text/plain": [
       "<Axes: xlabel='MIS_Status', ylabel='RetainedJob'>"
      ]
     },
     "execution_count": 189,
     "metadata": {},
     "output_type": "execute_result"
    },
    {
     "data": {
      "image/png": "[encoded data removed]",
      "text/plain": [
       "<Figure size 640x480 with 1 Axes>"
      ]
     },
     "metadata": {},
     "output_type": "display_data"
    }
   ],
   "source": [
    "sns.boxplot(x=SBA.MIS_Status, y=SBA['RetainedJob'])"
   ]
  },
  {
   "cell_type": "code",
   "execution_count": null,
   "metadata": {},
   "outputs": [],
   "source": [
    "# define outliers function\n",
    "def outliers(data, col):\n",
    "    q1 = data[col].quantile(0.25)\n",
    "    q3 = data[col].quantile(0.75)\n",
    "    iqr = q3 - q1\n",
    "    lower_bound = q1 - (1.5 * iqr)\n",
    "    upper_bound = q3 + (1.5 * iqr)\n",
    "    return data[(data[col] < lower_bound) | (data[col] > upper_bound)]"
   ]
  },
  {
   "cell_type": "code",
   "execution_count": null,
   "metadata": {},
   "outputs": [
    {
     "name": "stdout",
     "output_type": "stream",
     "text": [
      "Percentage of outliers in NoEmp:  10.81 %\n",
      "Percentage of outliers in CreateJob:  16.56 %\n",
      "Percentage of outliers in RetainedJob:  10.08 %\n"
     ]
    }
   ],
   "source": [
    "# Percentage of outliers in all 3 columns\n",
    "print('Percentage of outliers in NoEmp: ', round(len(outliers(SBA, 'NoEmp'))/len(SBA)*100,2), '%')\n",
    "print('Percentage of outliers in CreateJob: ', round(len(outliers(SBA, 'CreateJob'))/len(SBA)*100,2), '%')\n",
    "print('Percentage of outliers in RetainedJob: ', round(len(outliers(SBA, 'RetainedJob'))/len(SBA)*100,2), '%')"
   ]
  },
  {
   "attachments": {},
   "cell_type": "markdown",
   "metadata": {},
   "source": [
    "##### 2.6. Business conditions: a new or existing business.\n",
    "- `NewExist` = 1: Existing business\n",
    "- `NewExist` = 2: New business"
   ]
  },
  {
   "cell_type": "code",
   "execution_count": null,
   "metadata": {},
   "outputs": [
    {
     "data": {
      "text/plain": [
       "NewExist\n",
       "1.0    644869\n",
       "2.0    253125\n",
       "0.0      1034\n",
       "Name: count, dtype: int64"
      ]
     },
     "execution_count": 192,
     "metadata": {},
     "output_type": "execute_result"
    }
   ],
   "source": [
    "SBA['NewExist'].value_counts() # And 106 nan values"
   ]
  },
  {
   "cell_type": "code",
   "execution_count": null,
   "metadata": {},
   "outputs": [],
   "source": [
    "# The 0 values of NewExist column are not in the data dictionary\n",
    "# I will consider them as missing values\n",
    "SBA['NewExist'] = SBA['NewExist'].replace(0, np.nan)"
   ]
  },
  {
   "attachments": {},
   "cell_type": "markdown",
   "metadata": {},
   "source": [
    "##### 2.7. Loan Transaction Type Feature\n",
    "- `RevLineCr` : Revolving line of credit which means that if the loan has been paid, the borrower can be able to immediately borrow again.\n",
    "- `LowDoc` : LowDoc Loan Program means the borrower can borrow with reduced documentation requirements, allowing businesses to apply with minimal paperwork.\n",
    "\n",
    "Loan type can impact a borrower's financial stability, decision-making, and repayment behavior. Lenders also need to manage risks associated with different transaction types. Both parties should carefully evaluate the loan type before proceeding."
   ]
  },
  {
   "attachments": {},
   "cell_type": "markdown",
   "metadata": {},
   "source": [
    "###### **RevLineCr**"
   ]
  },
  {
   "cell_type": "code",
   "execution_count": null,
   "metadata": {},
   "outputs": [
    {
     "data": {
      "text/plain": [
       "RevLineCr\n",
       "N    420288\n",
       "0    257602\n",
       "Y    201397\n",
       "T     15284\n",
       "1        23\n",
       "R        14\n",
       "`        11\n",
       "2         6\n",
       "C         2\n",
       "3         1\n",
       ",         1\n",
       "7         1\n",
       "A         1\n",
       "5         1\n",
       ".         1\n",
       "4         1\n",
       "-         1\n",
       "Q         1\n",
       "Name: count, dtype: int64"
      ]
     },
     "execution_count": 194,
     "metadata": {},
     "output_type": "execute_result"
    }
   ],
   "source": [
    "# Revolving line of credit: Y = Yes, N = No\n",
    "SBA['RevLineCr'].value_counts() # And there are null values"
   ]
  },
  {
   "cell_type": "code",
   "execution_count": null,
   "metadata": {},
   "outputs": [
    {
     "data": {
      "text/plain": [
       "272951"
      ]
     },
     "execution_count": 195,
     "metadata": {},
     "output_type": "execute_result"
    }
   ],
   "source": [
    "SBA[(SBA['RevLineCr'] != 'Y') & (SBA['RevLineCr'] != 'N')]['RevLineCr'].count() # And there are null values\n",
    "# There are 272951 nulls in RevLineCr feature"
   ]
  },
  {
   "cell_type": "code",
   "execution_count": null,
   "metadata": {},
   "outputs": [
    {
     "name": "stdout",
     "output_type": "stream",
     "text": [
      "Y RevLineCr\n",
      "MIS_Status\n",
      "P I F     149670\n",
      "CHGOFF     50990\n",
      "Name: count, dtype: int64\n",
      "********************\n",
      "N RevLineCr\n",
      "MIS_Status\n",
      "P I F     357851\n",
      "CHGOFF     61401\n",
      "Name: count, dtype: int64\n"
     ]
    }
   ],
   "source": [
    "# Y RevLineCr\n",
    "print('Y RevLineCr')\n",
    "cond_1 = SBA[(SBA['RevLineCr'] == 'Y')] \n",
    "print(cond_1.value_counts('MIS_Status'))\n",
    "\n",
    "print('*'*20)\n",
    "\n",
    "# N RevLineCr\n",
    "print('N RevLineCr')\n",
    "cond_2 = SBA[(SBA['RevLineCr'] == 'N')] \n",
    "print(cond_2.value_counts('MIS_Status'))\n",
    "\n",
    "# Loan applications which borrower don't have revolving line of credit\n",
    "# have a significantly higher repayment capacity (~6/1 vs. ~3/1) \n",
    "\n",
    "# We can't find any clear pattern from this data and \n",
    "# there are a lot of NAs in this row \n",
    "# So we decided to delete this column\n"
   ]
  },
  {
   "attachments": {},
   "cell_type": "markdown",
   "metadata": {},
   "source": [
    "###### **LowDoc**"
   ]
  },
  {
   "cell_type": "code",
   "execution_count": null,
   "metadata": {},
   "outputs": [
    {
     "data": {
      "text/plain": [
       "LowDoc\n",
       "N    782822\n",
       "Y    110335\n",
       "0      1491\n",
       "C       758\n",
       "S       603\n",
       "A       497\n",
       "R        75\n",
       "1         1\n",
       "Name: count, dtype: int64"
      ]
     },
     "execution_count": 197,
     "metadata": {},
     "output_type": "execute_result"
    }
   ],
   "source": [
    "# LowDoc: Y = Yes, N = No\n",
    "SBA['LowDoc'].value_counts() # And there are null values"
   ]
  },
  {
   "cell_type": "code",
   "execution_count": null,
   "metadata": {},
   "outputs": [
    {
     "data": {
      "text/plain": [
       "3425"
      ]
     },
     "execution_count": 198,
     "metadata": {},
     "output_type": "execute_result"
    }
   ],
   "source": [
    "# Number of nulls - LowDoc\n",
    "SBA[(SBA['LowDoc'] != 'Y') & (SBA['LowDoc'] != 'N')]['LowDoc'].count() # And there are null values"
   ]
  },
  {
   "cell_type": "code",
   "execution_count": null,
   "metadata": {},
   "outputs": [
    {
     "name": "stdout",
     "output_type": "stream",
     "text": [
      "Y\n",
      "MIS_Status\n",
      "P I F     100267\n",
      "CHGOFF      9904\n",
      "Name: count, dtype: int64\n",
      "********************\n",
      "N\n",
      "MIS_Status\n",
      "P I F     634920\n",
      "CHGOFF    146077\n",
      "Name: count, dtype: int64\n"
     ]
    }
   ],
   "source": [
    "# Y LowDoc \n",
    "print('Y')\n",
    "cond_1 = SBA[(SBA['LowDoc'] == 'Y')] \n",
    "print(cond_1.value_counts('MIS_Status'))\n",
    "\n",
    "print('*'*20)\n",
    "\n",
    "# N LowDoc\n",
    "print('N')\n",
    "cond_2 = SBA[(SBA['LowDoc'] == 'N')] \n",
    "print(cond_2.value_counts('MIS_Status'))\n",
    "\n",
    "# Loan applications under the LowDoc program have a \n",
    "# significantly higher repayment capacity (~10/1 vs ~6/1)\n",
    "# There are about 3425 null values in this feature\n",
    "# We decide to impute this feature"
   ]
  },
  {
   "attachments": {},
   "cell_type": "markdown",
   "metadata": {},
   "source": [
    "##### 2.8. Amount of Loan\n",
    "- `DisbursementGross `: Amount disbursed, tổng số tiền đã được chuyển giao cho khách hàng trước khi default được tuyên bố.\n",
    "- `BalanceGross `: Gross amount outstanding\n",
    "- `ChgOffPrinGr` : Charged-off amount\n",
    "- `GrAppv `: Gross amount of loan approved by bank\n",
    "- `SBA_Appv `: SBA's guaranteed amount of approved loan\n",
    "\n",
    "Since `DisbursementGross`, `BalanceGross`, and `ChgOffPrinGr` only explain the balance of the loan and not used for loan approval, so these features can be ignored.\n",
    "\n",
    "Columns `DisbursementGross`, `BalanceGross` and `ChgOffPrinGr` contain information that is important after default is declared, so we can't use these columns for predicting default risks. We delete them."
   ]
  },
  {
   "cell_type": "code",
   "execution_count": null,
   "metadata": {},
   "outputs": [
    {
     "data": {
      "text/html": [
       "<div>\n",
       "<style scoped>\n",
       "    .dataframe tbody tr th:only-of-type {\n",
       "        vertical-align: middle;\n",
       "    }\n",
       "\n",
       "    .dataframe tbody tr th {\n",
       "        vertical-align: top;\n",
       "    }\n",
       "\n",
       "    .dataframe thead th {\n",
       "        text-align: right;\n",
       "    }\n",
       "</style>\n",
       "<table border=\"1\" class=\"dataframe\">\n",
       "  <thead>\n",
       "    <tr style=\"text-align: right;\">\n",
       "      <th></th>\n",
       "      <th>DisbursementGross</th>\n",
       "      <th>BalanceGross</th>\n",
       "      <th>ChgOffPrinGr</th>\n",
       "      <th>GrAppv</th>\n",
       "      <th>SBA_Appv</th>\n",
       "    </tr>\n",
       "  </thead>\n",
       "  <tbody>\n",
       "    <tr>\n",
       "      <th>0</th>\n",
       "      <td>$60,000.00</td>\n",
       "      <td>$0.00</td>\n",
       "      <td>$0.00</td>\n",
       "      <td>$60,000.00</td>\n",
       "      <td>$48,000.00</td>\n",
       "    </tr>\n",
       "    <tr>\n",
       "      <th>1</th>\n",
       "      <td>$40,000.00</td>\n",
       "      <td>$0.00</td>\n",
       "      <td>$0.00</td>\n",
       "      <td>$40,000.00</td>\n",
       "      <td>$32,000.00</td>\n",
       "    </tr>\n",
       "    <tr>\n",
       "      <th>2</th>\n",
       "      <td>$287,000.00</td>\n",
       "      <td>$0.00</td>\n",
       "      <td>$0.00</td>\n",
       "      <td>$287,000.00</td>\n",
       "      <td>$215,250.00</td>\n",
       "    </tr>\n",
       "    <tr>\n",
       "      <th>3</th>\n",
       "      <td>$35,000.00</td>\n",
       "      <td>$0.00</td>\n",
       "      <td>$0.00</td>\n",
       "      <td>$35,000.00</td>\n",
       "      <td>$28,000.00</td>\n",
       "    </tr>\n",
       "    <tr>\n",
       "      <th>4</th>\n",
       "      <td>$229,000.00</td>\n",
       "      <td>$0.00</td>\n",
       "      <td>$0.00</td>\n",
       "      <td>$229,000.00</td>\n",
       "      <td>$229,000.00</td>\n",
       "    </tr>\n",
       "    <tr>\n",
       "      <th>...</th>\n",
       "      <td>...</td>\n",
       "      <td>...</td>\n",
       "      <td>...</td>\n",
       "      <td>...</td>\n",
       "      <td>...</td>\n",
       "    </tr>\n",
       "    <tr>\n",
       "      <th>899159</th>\n",
       "      <td>$70,000.00</td>\n",
       "      <td>$0.00</td>\n",
       "      <td>$0.00</td>\n",
       "      <td>$70,000.00</td>\n",
       "      <td>$56,000.00</td>\n",
       "    </tr>\n",
       "    <tr>\n",
       "      <th>899160</th>\n",
       "      <td>$85,000.00</td>\n",
       "      <td>$0.00</td>\n",
       "      <td>$0.00</td>\n",
       "      <td>$85,000.00</td>\n",
       "      <td>$42,500.00</td>\n",
       "    </tr>\n",
       "    <tr>\n",
       "      <th>899161</th>\n",
       "      <td>$300,000.00</td>\n",
       "      <td>$0.00</td>\n",
       "      <td>$0.00</td>\n",
       "      <td>$300,000.00</td>\n",
       "      <td>$225,000.00</td>\n",
       "    </tr>\n",
       "    <tr>\n",
       "      <th>899162</th>\n",
       "      <td>$75,000.00</td>\n",
       "      <td>$0.00</td>\n",
       "      <td>$46,383.00</td>\n",
       "      <td>$75,000.00</td>\n",
       "      <td>$60,000.00</td>\n",
       "    </tr>\n",
       "    <tr>\n",
       "      <th>899163</th>\n",
       "      <td>$30,000.00</td>\n",
       "      <td>$0.00</td>\n",
       "      <td>$0.00</td>\n",
       "      <td>$30,000.00</td>\n",
       "      <td>$24,000.00</td>\n",
       "    </tr>\n",
       "  </tbody>\n",
       "</table>\n",
       "<p>899164 rows × 5 columns</p>\n",
       "</div>"
      ],
      "text/plain": [
       "       DisbursementGross BalanceGross ChgOffPrinGr        GrAppv      SBA_Appv\n",
       "0            $60,000.00        $0.00        $0.00    $60,000.00    $48,000.00 \n",
       "1            $40,000.00        $0.00        $0.00    $40,000.00    $32,000.00 \n",
       "2           $287,000.00        $0.00        $0.00   $287,000.00   $215,250.00 \n",
       "3            $35,000.00        $0.00        $0.00    $35,000.00    $28,000.00 \n",
       "4           $229,000.00        $0.00        $0.00   $229,000.00   $229,000.00 \n",
       "...                  ...          ...          ...           ...           ...\n",
       "899159       $70,000.00        $0.00        $0.00    $70,000.00    $56,000.00 \n",
       "899160       $85,000.00        $0.00        $0.00    $85,000.00    $42,500.00 \n",
       "899161      $300,000.00        $0.00        $0.00   $300,000.00   $225,000.00 \n",
       "899162       $75,000.00        $0.00   $46,383.00    $75,000.00    $60,000.00 \n",
       "899163       $30,000.00        $0.00        $0.00    $30,000.00    $24,000.00 \n",
       "\n",
       "[899164 rows x 5 columns]"
      ]
     },
     "execution_count": 200,
     "metadata": {},
     "output_type": "execute_result"
    }
   ],
   "source": [
    "SBA[['DisbursementGross', 'BalanceGross', 'ChgOffPrinGr', 'GrAppv','SBA_Appv']]"
   ]
  },
  {
   "attachments": {},
   "cell_type": "markdown",
   "metadata": {},
   "source": [
    "### 3. Drop all unnecessary features"
   ]
  },
  {
   "cell_type": "code",
   "execution_count": null,
   "metadata": {},
   "outputs": [],
   "source": [
    "# Drop all unnecessary features\n",
    "SBA = SBA.drop(columns = ['LoanNr_ChkDgt', 'Name', 'Bank', 'BankState', 'ApprovalDate',\n",
    "                          'ApprovalFY', 'CreateJob', 'FranchiseCode', 'UrbanRural',\n",
    "                          'RevLineCr', 'ChgOffDate', 'DisbursementDate', 'DisbursementGross', \n",
    "                          'BalanceGross', 'ChgOffPrinGr'])\n",
    "\n",
    "# Since I can use Zip to impute City and State\n",
    "# RetainedJob is a feature that I can use to impute NewExist\n",
    "# So I will drop them later"
   ]
  },
  {
   "cell_type": "code",
   "execution_count": null,
   "metadata": {},
   "outputs": [
    {
     "data": {
      "text/html": [
       "<div>\n",
       "<style scoped>\n",
       "    .dataframe tbody tr th:only-of-type {\n",
       "        vertical-align: middle;\n",
       "    }\n",
       "\n",
       "    .dataframe tbody tr th {\n",
       "        vertical-align: top;\n",
       "    }\n",
       "\n",
       "    .dataframe thead th {\n",
       "        text-align: right;\n",
       "    }\n",
       "</style>\n",
       "<table border=\"1\" class=\"dataframe\">\n",
       "  <thead>\n",
       "    <tr style=\"text-align: right;\">\n",
       "      <th></th>\n",
       "      <th>City</th>\n",
       "      <th>State</th>\n",
       "      <th>Zip</th>\n",
       "      <th>NAICS</th>\n",
       "      <th>Term</th>\n",
       "      <th>NoEmp</th>\n",
       "      <th>NewExist</th>\n",
       "      <th>RetainedJob</th>\n",
       "      <th>LowDoc</th>\n",
       "      <th>MIS_Status</th>\n",
       "      <th>GrAppv</th>\n",
       "      <th>SBA_Appv</th>\n",
       "    </tr>\n",
       "  </thead>\n",
       "  <tbody>\n",
       "    <tr>\n",
       "      <th>0</th>\n",
       "      <td>EVANSVILLE</td>\n",
       "      <td>IN</td>\n",
       "      <td>47711</td>\n",
       "      <td>451120</td>\n",
       "      <td>84</td>\n",
       "      <td>4</td>\n",
       "      <td>2.0</td>\n",
       "      <td>0</td>\n",
       "      <td>Y</td>\n",
       "      <td>P I F</td>\n",
       "      <td>$60,000.00</td>\n",
       "      <td>$48,000.00</td>\n",
       "    </tr>\n",
       "    <tr>\n",
       "      <th>1</th>\n",
       "      <td>NEW PARIS</td>\n",
       "      <td>IN</td>\n",
       "      <td>46526</td>\n",
       "      <td>722410</td>\n",
       "      <td>60</td>\n",
       "      <td>2</td>\n",
       "      <td>2.0</td>\n",
       "      <td>0</td>\n",
       "      <td>Y</td>\n",
       "      <td>P I F</td>\n",
       "      <td>$40,000.00</td>\n",
       "      <td>$32,000.00</td>\n",
       "    </tr>\n",
       "    <tr>\n",
       "      <th>2</th>\n",
       "      <td>BLOOMINGTON</td>\n",
       "      <td>IN</td>\n",
       "      <td>47401</td>\n",
       "      <td>621210</td>\n",
       "      <td>180</td>\n",
       "      <td>7</td>\n",
       "      <td>1.0</td>\n",
       "      <td>0</td>\n",
       "      <td>N</td>\n",
       "      <td>P I F</td>\n",
       "      <td>$287,000.00</td>\n",
       "      <td>$215,250.00</td>\n",
       "    </tr>\n",
       "    <tr>\n",
       "      <th>3</th>\n",
       "      <td>BROKEN ARROW</td>\n",
       "      <td>OK</td>\n",
       "      <td>74012</td>\n",
       "      <td>0</td>\n",
       "      <td>60</td>\n",
       "      <td>2</td>\n",
       "      <td>1.0</td>\n",
       "      <td>0</td>\n",
       "      <td>Y</td>\n",
       "      <td>P I F</td>\n",
       "      <td>$35,000.00</td>\n",
       "      <td>$28,000.00</td>\n",
       "    </tr>\n",
       "    <tr>\n",
       "      <th>4</th>\n",
       "      <td>ORLANDO</td>\n",
       "      <td>FL</td>\n",
       "      <td>32801</td>\n",
       "      <td>0</td>\n",
       "      <td>240</td>\n",
       "      <td>14</td>\n",
       "      <td>1.0</td>\n",
       "      <td>7</td>\n",
       "      <td>N</td>\n",
       "      <td>P I F</td>\n",
       "      <td>$229,000.00</td>\n",
       "      <td>$229,000.00</td>\n",
       "    </tr>\n",
       "  </tbody>\n",
       "</table>\n",
       "</div>"
      ],
      "text/plain": [
       "           City State    Zip   NAICS  Term  NoEmp  NewExist  RetainedJob  \\\n",
       "0    EVANSVILLE    IN  47711  451120    84      4       2.0            0   \n",
       "1     NEW PARIS    IN  46526  722410    60      2       2.0            0   \n",
       "2   BLOOMINGTON    IN  47401  621210   180      7       1.0            0   \n",
       "3  BROKEN ARROW    OK  74012       0    60      2       1.0            0   \n",
       "4       ORLANDO    FL  32801       0   240     14       1.0            7   \n",
       "\n",
       "  LowDoc MIS_Status        GrAppv      SBA_Appv  \n",
       "0      Y      P I F   $60,000.00    $48,000.00   \n",
       "1      Y      P I F   $40,000.00    $32,000.00   \n",
       "2      N      P I F  $287,000.00   $215,250.00   \n",
       "3      Y      P I F   $35,000.00    $28,000.00   \n",
       "4      N      P I F  $229,000.00   $229,000.00   "
      ]
     },
     "execution_count": 202,
     "metadata": {},
     "output_type": "execute_result"
    }
   ],
   "source": [
    "SBA.head()"
   ]
  },
  {
   "cell_type": "code",
   "execution_count": null,
   "metadata": {},
   "outputs": [
    {
     "data": {
      "text/plain": [
       "(899164, 12)"
      ]
     },
     "execution_count": 203,
     "metadata": {},
     "output_type": "execute_result"
    }
   ],
   "source": [
    "SBA.shape"
   ]
  },
  {
   "attachments": {},
   "cell_type": "markdown",
   "metadata": {},
   "source": [
    "## Handling missing values"
   ]
  },
  {
   "cell_type": "code",
   "execution_count": null,
   "metadata": {},
   "outputs": [
    {
     "data": {
      "text/html": [
       "<div>\n",
       "<style scoped>\n",
       "    .dataframe tbody tr th:only-of-type {\n",
       "        vertical-align: middle;\n",
       "    }\n",
       "\n",
       "    .dataframe tbody tr th {\n",
       "        vertical-align: top;\n",
       "    }\n",
       "\n",
       "    .dataframe thead th {\n",
       "        text-align: right;\n",
       "    }\n",
       "</style>\n",
       "<table border=\"1\" class=\"dataframe\">\n",
       "  <thead>\n",
       "    <tr style=\"text-align: right;\">\n",
       "      <th></th>\n",
       "      <th>feature</th>\n",
       "      <th>data_type</th>\n",
       "      <th>null</th>\n",
       "      <th>nulPercentage</th>\n",
       "      <th>unique</th>\n",
       "      <th>uniqueSample</th>\n",
       "    </tr>\n",
       "  </thead>\n",
       "  <tbody>\n",
       "    <tr>\n",
       "      <th>0</th>\n",
       "      <td>City</td>\n",
       "      <td>object</td>\n",
       "      <td>30</td>\n",
       "      <td>0.00</td>\n",
       "      <td>32581</td>\n",
       "      <td>[ST. LOUIS, PINE BLUFF, HADLEY, AUBURN, COON R...</td>\n",
       "    </tr>\n",
       "    <tr>\n",
       "      <th>1</th>\n",
       "      <td>State</td>\n",
       "      <td>object</td>\n",
       "      <td>14</td>\n",
       "      <td>0.00</td>\n",
       "      <td>51</td>\n",
       "      <td>[KS, NY, NJ, ME, AZ]</td>\n",
       "    </tr>\n",
       "    <tr>\n",
       "      <th>2</th>\n",
       "      <td>Zip</td>\n",
       "      <td>int64</td>\n",
       "      <td>0</td>\n",
       "      <td>0.00</td>\n",
       "      <td>33611</td>\n",
       "      <td>[4077, 76903, 64145, 46151, 8106]</td>\n",
       "    </tr>\n",
       "    <tr>\n",
       "      <th>3</th>\n",
       "      <td>NAICS</td>\n",
       "      <td>int64</td>\n",
       "      <td>0</td>\n",
       "      <td>0.00</td>\n",
       "      <td>1312</td>\n",
       "      <td>[722211, 453110, 333513, 422210, 0]</td>\n",
       "    </tr>\n",
       "    <tr>\n",
       "      <th>4</th>\n",
       "      <td>Term</td>\n",
       "      <td>int64</td>\n",
       "      <td>0</td>\n",
       "      <td>0.00</td>\n",
       "      <td>412</td>\n",
       "      <td>[300, 100, 84, 120]</td>\n",
       "    </tr>\n",
       "    <tr>\n",
       "      <th>5</th>\n",
       "      <td>NoEmp</td>\n",
       "      <td>int64</td>\n",
       "      <td>0</td>\n",
       "      <td>0.00</td>\n",
       "      <td>599</td>\n",
       "      <td>[34, 1, 6, 3, 40]</td>\n",
       "    </tr>\n",
       "    <tr>\n",
       "      <th>6</th>\n",
       "      <td>NewExist</td>\n",
       "      <td>float64</td>\n",
       "      <td>1170</td>\n",
       "      <td>0.13</td>\n",
       "      <td>2</td>\n",
       "      <td>[1.0, 2.0]</td>\n",
       "    </tr>\n",
       "    <tr>\n",
       "      <th>7</th>\n",
       "      <td>RetainedJob</td>\n",
       "      <td>int64</td>\n",
       "      <td>0</td>\n",
       "      <td>0.00</td>\n",
       "      <td>358</td>\n",
       "      <td>[0, 4, 10, 60]</td>\n",
       "    </tr>\n",
       "    <tr>\n",
       "      <th>8</th>\n",
       "      <td>LowDoc</td>\n",
       "      <td>object</td>\n",
       "      <td>2582</td>\n",
       "      <td>0.29</td>\n",
       "      <td>8</td>\n",
       "      <td>[N]</td>\n",
       "    </tr>\n",
       "    <tr>\n",
       "      <th>9</th>\n",
       "      <td>MIS_Status</td>\n",
       "      <td>object</td>\n",
       "      <td>1997</td>\n",
       "      <td>0.22</td>\n",
       "      <td>2</td>\n",
       "      <td>[P I F, CHGOFF]</td>\n",
       "    </tr>\n",
       "    <tr>\n",
       "      <th>10</th>\n",
       "      <td>GrAppv</td>\n",
       "      <td>object</td>\n",
       "      <td>0</td>\n",
       "      <td>0.00</td>\n",
       "      <td>22128</td>\n",
       "      <td>[$81,000.00 , $50,000.00 , $61,600.00 , $133,0...</td>\n",
       "    </tr>\n",
       "    <tr>\n",
       "      <th>11</th>\n",
       "      <td>SBA_Appv</td>\n",
       "      <td>object</td>\n",
       "      <td>0</td>\n",
       "      <td>0.00</td>\n",
       "      <td>38326</td>\n",
       "      <td>[$12,500.00 , $7,500.00 , $22,500.00 , $25,000...</td>\n",
       "    </tr>\n",
       "  </tbody>\n",
       "</table>\n",
       "</div>"
      ],
      "text/plain": [
       "        feature data_type  null  nulPercentage  unique  \\\n",
       "0          City    object    30           0.00   32581   \n",
       "1         State    object    14           0.00      51   \n",
       "2           Zip     int64     0           0.00   33611   \n",
       "3         NAICS     int64     0           0.00    1312   \n",
       "4          Term     int64     0           0.00     412   \n",
       "5         NoEmp     int64     0           0.00     599   \n",
       "6      NewExist   float64  1170           0.13       2   \n",
       "7   RetainedJob     int64     0           0.00     358   \n",
       "8        LowDoc    object  2582           0.29       8   \n",
       "9    MIS_Status    object  1997           0.22       2   \n",
       "10       GrAppv    object     0           0.00   22128   \n",
       "11     SBA_Appv    object     0           0.00   38326   \n",
       "\n",
       "                                         uniqueSample  \n",
       "0   [ST. LOUIS, PINE BLUFF, HADLEY, AUBURN, COON R...  \n",
       "1                                [KS, NY, NJ, ME, AZ]  \n",
       "2                   [4077, 76903, 64145, 46151, 8106]  \n",
       "3                 [722211, 453110, 333513, 422210, 0]  \n",
       "4                                 [300, 100, 84, 120]  \n",
       "5                                   [34, 1, 6, 3, 40]  \n",
       "6                                          [1.0, 2.0]  \n",
       "7                                      [0, 4, 10, 60]  \n",
       "8                                                 [N]  \n",
       "9                                     [P I F, CHGOFF]  \n",
       "10  [$81,000.00 , $50,000.00 , $61,600.00 , $133,0...  \n",
       "11  [$12,500.00 , $7,500.00 , $22,500.00 , $25,000...  "
      ]
     },
     "execution_count": 204,
     "metadata": {},
     "output_type": "execute_result"
    }
   ],
   "source": [
    "list_item = []\n",
    "for col in SBA.columns:\n",
    "    list_item.append([col, SBA[col].dtype, SBA[col].isna().sum(), round((SBA[col].isna().sum()/len(SBA[col]))*100,2),\n",
    "                      SBA[col].nunique(), list(SBA[col].sample(5).drop_duplicates().values)])\n",
    "\n",
    "dfDesc = pd.DataFrame(columns=['feature', 'data_type', 'null', 'nulPercentage', 'unique', 'uniqueSample'],data=list_item)\n",
    "dfDesc"
   ]
  },
  {
   "cell_type": "code",
   "execution_count": null,
   "metadata": {},
   "outputs": [
    {
     "name": "stdout",
     "output_type": "stream",
     "text": [
      "City 30\n",
      "State 14\n",
      "Zip 0\n",
      "NAICS 0\n",
      "Term 0\n",
      "NoEmp 0\n",
      "NewExist 1170\n",
      "RetainedJob 0\n",
      "LowDoc 2582\n",
      "MIS_Status 1997\n",
      "GrAppv 0\n",
      "SBA_Appv 0\n"
     ]
    }
   ],
   "source": [
    "# Check for null values\n",
    "for col in SBA.columns:\n",
    "    print(col, SBA[col].isnull().sum())"
   ]
  },
  {
   "attachments": {},
   "cell_type": "markdown",
   "metadata": {},
   "source": [
    "##### Impute LowDoc"
   ]
  },
  {
   "cell_type": "code",
   "execution_count": null,
   "metadata": {},
   "outputs": [
    {
     "name": "stdout",
     "output_type": "stream",
     "text": [
      "Number of invalid values (consist of null values):\n"
     ]
    },
    {
     "data": {
      "text/plain": [
       "6007"
      ]
     },
     "execution_count": 206,
     "metadata": {},
     "output_type": "execute_result"
    }
   ],
   "source": [
    "print('Number of invalid values (consist of null values):')\n",
    "invalid = (SBA['LowDoc'].isnull()) | ((SBA['LowDoc'] != 'Y') & (SBA['LowDoc'] != 'N'))\n",
    "SBA[invalid]['LowDoc'].shape[0]\n",
    "# Because count() don't count null values -> so we can not use count()\n",
    "# After this block, I will call null values by invalid values"
   ]
  },
  {
   "attachments": {},
   "cell_type": "markdown",
   "metadata": {},
   "source": [
    "###### **LowDoc - GrAppv**"
   ]
  },
  {
   "cell_type": "code",
   "execution_count": null,
   "metadata": {},
   "outputs": [],
   "source": [
    "# convert to float - preprocessing before imputing\n",
    "SBA['GrAppv'] = SBA['GrAppv'].replace('[\\$,]', '', regex=True).astype(float)"
   ]
  },
  {
   "cell_type": "code",
   "execution_count": null,
   "metadata": {},
   "outputs": [
    {
     "data": {
      "text/plain": [
       "LowDoc\n",
       "N         292983\n",
       "0           1144\n",
       "C            508\n",
       "A            125\n",
       "S             57\n",
       "Y             16\n",
       "R             11\n",
       "1              1\n",
       "Name: count, dtype: int64"
      ]
     },
     "execution_count": 208,
     "metadata": {},
     "output_type": "execute_result"
    }
   ],
   "source": [
    "# proof assumption: \n",
    "# the borrower have 'GrAppv' > 150000, the value of LowDoc is 'N'\n",
    "SBA[SBA['GrAppv'] > 150000].value_counts(['LowDoc'])\n",
    "# N/Y ~ 300/1"
   ]
  },
  {
   "cell_type": "code",
   "execution_count": null,
   "metadata": {},
   "outputs": [
    {
     "name": "stdout",
     "output_type": "stream",
     "text": [
      "Number of invalid values can be imputed by this assumption: 2238\n",
      "Number of invalid values after imputing: 3769\n"
     ]
    }
   ],
   "source": [
    "# Number of invalid values can be imputed by this assumption\n",
    "invalid = (SBA['LowDoc'].isnull()) | ((SBA['LowDoc'] != 'Y') & (SBA['LowDoc'] != 'N'))\n",
    "cond = (SBA['GrAppv'] > 150000) \n",
    "print(\"Number of invalid values can be imputed by this assumption:\",\n",
    "      SBA[cond & invalid]['LowDoc'].shape[0])\n",
    "\n",
    "# Impute\n",
    "SBA.loc[cond & invalid, 'LowDoc'] = 'N'\n",
    "\n",
    "# Number of invalid values after imputing\n",
    "invalid = (SBA['LowDoc'].isnull()) | ((SBA['LowDoc'] != 'Y') & (SBA['LowDoc'] != 'N'))\n",
    "print(\"Number of invalid values after imputing:\", SBA[invalid]['LowDoc'].shape[0])"
   ]
  },
  {
   "attachments": {},
   "cell_type": "markdown",
   "metadata": {},
   "source": [
    "###### **LowDoc - Term**"
   ]
  },
  {
   "cell_type": "code",
   "execution_count": null,
   "metadata": {},
   "outputs": [
    {
     "name": "stdout",
     "output_type": "stream",
     "text": [
      "Term >= 200\n",
      "LowDoc\n",
      "N    157512\n",
      "Y      3665\n",
      "0        77\n",
      "C        25\n",
      "A         3\n",
      "S         1\n",
      "Name: count, dtype: int64\n"
     ]
    }
   ],
   "source": [
    "# proof assumption:\n",
    "# the borrower have Term >= 200 -> the value of LowDoc is 'N'\n",
    "# Y LowDoc \n",
    "print('Term >= 200')\n",
    "cond_1 = SBA[(SBA['Term'] >= 200)] \n",
    "print(cond_1.value_counts('LowDoc'))\n",
    "# N/Y ~ 52/1"
   ]
  },
  {
   "cell_type": "code",
   "execution_count": null,
   "metadata": {},
   "outputs": [
    {
     "name": "stdout",
     "output_type": "stream",
     "text": [
      "Number of invalid values can be imputed by this assumption: 112\n",
      "Number of invalid values after imputing: 3657\n"
     ]
    }
   ],
   "source": [
    "# Number of invalid values can be imputed by this assumption\n",
    "invalid = (SBA['LowDoc'].isnull()) | ((SBA['LowDoc'] != 'Y') & (SBA['LowDoc'] != 'N'))\n",
    "cond = SBA['Term'] >= 200\n",
    "print(\"Number of invalid values can be imputed by this assumption:\",\n",
    "      SBA[cond & invalid]['LowDoc'].shape[0])\n",
    "\n",
    "# Impute\n",
    "SBA.loc[cond & invalid, 'LowDoc'] = 'N'\n",
    "\n",
    "# Number of invalid values after imputing\n",
    "invalid = (SBA['LowDoc'].isnull()) | ((SBA['LowDoc'] != 'Y') & (SBA['LowDoc'] != 'N'))\n",
    "print(\"Number of invalid values after imputing:\", SBA[invalid]['LowDoc'].shape[0])"
   ]
  },
  {
   "attachments": {},
   "cell_type": "markdown",
   "metadata": {},
   "source": [
    "###### **LowDoc - NoEmp**"
   ]
  },
  {
   "cell_type": "code",
   "execution_count": null,
   "metadata": {},
   "outputs": [
    {
     "name": "stdout",
     "output_type": "stream",
     "text": [
      "NoEmp >= 10\n"
     ]
    },
    {
     "data": {
      "text/plain": [
       "LowDoc\n",
       "N    231476\n",
       "Y     16620\n",
       "0        93\n",
       "C        83\n",
       "S        64\n",
       "A        34\n",
       "R         5\n",
       "Name: count, dtype: int64"
      ]
     },
     "execution_count": 212,
     "metadata": {},
     "output_type": "execute_result"
    }
   ],
   "source": [
    "# proof the assumption\n",
    "# the borrower have NoEmp >= 10 -> the value of LowDoc is 'N'\n",
    "print('NoEmp >= 10')\n",
    "SBA[SBA['NoEmp'] >= 10].value_counts('LowDoc')\n",
    "# N/Y ~ 14"
   ]
  },
  {
   "cell_type": "code",
   "execution_count": null,
   "metadata": {},
   "outputs": [
    {
     "name": "stdout",
     "output_type": "stream",
     "text": [
      "Number of invalid values can be imputed by this assumption: 503\n"
     ]
    },
    {
     "name": "stdout",
     "output_type": "stream",
     "text": [
      "Number of invalid values after imputing: 3154\n"
     ]
    }
   ],
   "source": [
    "# Number of invalid values can be imputed by this assumption\n",
    "invalid = (SBA['LowDoc'].isnull()) | ((SBA['LowDoc'] != 'Y') & (SBA['LowDoc'] != 'N'))\n",
    "cond = (SBA['NoEmp']  >= 10)\n",
    "print(\"Number of invalid values can be imputed by this assumption:\",\n",
    "      SBA[cond & invalid]['LowDoc'].shape[0])\n",
    "\n",
    "# Impute\n",
    "SBA.loc[cond & invalid, 'LowDoc'] = 'N'\n",
    "\n",
    "# Number of invalid values after imputing\n",
    "invalid = (SBA['LowDoc'].isnull()) | ((SBA['LowDoc'] != 'Y') & (SBA['LowDoc'] != 'N'))\n",
    "print(\"Number of invalid values after imputing:\", SBA[invalid]['LowDoc'].shape[0])"
   ]
  },
  {
   "cell_type": "code",
   "execution_count": null,
   "metadata": {},
   "outputs": [
    {
     "data": {
      "text/html": [
       "<div>\n",
       "<style scoped>\n",
       "    .dataframe tbody tr th:only-of-type {\n",
       "        vertical-align: middle;\n",
       "    }\n",
       "\n",
       "    .dataframe tbody tr th {\n",
       "        vertical-align: top;\n",
       "    }\n",
       "\n",
       "    .dataframe thead th {\n",
       "        text-align: right;\n",
       "    }\n",
       "</style>\n",
       "<table border=\"1\" class=\"dataframe\">\n",
       "  <thead>\n",
       "    <tr style=\"text-align: right;\">\n",
       "      <th></th>\n",
       "      <th>City</th>\n",
       "      <th>State</th>\n",
       "      <th>Zip</th>\n",
       "      <th>NAICS</th>\n",
       "      <th>Term</th>\n",
       "      <th>NoEmp</th>\n",
       "      <th>NewExist</th>\n",
       "      <th>RetainedJob</th>\n",
       "      <th>LowDoc</th>\n",
       "      <th>MIS_Status</th>\n",
       "      <th>GrAppv</th>\n",
       "      <th>SBA_Appv</th>\n",
       "    </tr>\n",
       "  </thead>\n",
       "  <tbody>\n",
       "    <tr>\n",
       "      <th>0</th>\n",
       "      <td>EVANSVILLE</td>\n",
       "      <td>IN</td>\n",
       "      <td>47711</td>\n",
       "      <td>451120</td>\n",
       "      <td>84</td>\n",
       "      <td>4</td>\n",
       "      <td>2.0</td>\n",
       "      <td>0</td>\n",
       "      <td>Y</td>\n",
       "      <td>P I F</td>\n",
       "      <td>60000.0</td>\n",
       "      <td>$48,000.00</td>\n",
       "    </tr>\n",
       "    <tr>\n",
       "      <th>1</th>\n",
       "      <td>NEW PARIS</td>\n",
       "      <td>IN</td>\n",
       "      <td>46526</td>\n",
       "      <td>722410</td>\n",
       "      <td>60</td>\n",
       "      <td>2</td>\n",
       "      <td>2.0</td>\n",
       "      <td>0</td>\n",
       "      <td>Y</td>\n",
       "      <td>P I F</td>\n",
       "      <td>40000.0</td>\n",
       "      <td>$32,000.00</td>\n",
       "    </tr>\n",
       "    <tr>\n",
       "      <th>2</th>\n",
       "      <td>BLOOMINGTON</td>\n",
       "      <td>IN</td>\n",
       "      <td>47401</td>\n",
       "      <td>621210</td>\n",
       "      <td>180</td>\n",
       "      <td>7</td>\n",
       "      <td>1.0</td>\n",
       "      <td>0</td>\n",
       "      <td>N</td>\n",
       "      <td>P I F</td>\n",
       "      <td>287000.0</td>\n",
       "      <td>$215,250.00</td>\n",
       "    </tr>\n",
       "    <tr>\n",
       "      <th>3</th>\n",
       "      <td>BROKEN ARROW</td>\n",
       "      <td>OK</td>\n",
       "      <td>74012</td>\n",
       "      <td>0</td>\n",
       "      <td>60</td>\n",
       "      <td>2</td>\n",
       "      <td>1.0</td>\n",
       "      <td>0</td>\n",
       "      <td>Y</td>\n",
       "      <td>P I F</td>\n",
       "      <td>35000.0</td>\n",
       "      <td>$28,000.00</td>\n",
       "    </tr>\n",
       "    <tr>\n",
       "      <th>4</th>\n",
       "      <td>ORLANDO</td>\n",
       "      <td>FL</td>\n",
       "      <td>32801</td>\n",
       "      <td>0</td>\n",
       "      <td>240</td>\n",
       "      <td>14</td>\n",
       "      <td>1.0</td>\n",
       "      <td>7</td>\n",
       "      <td>N</td>\n",
       "      <td>P I F</td>\n",
       "      <td>229000.0</td>\n",
       "      <td>$229,000.00</td>\n",
       "    </tr>\n",
       "  </tbody>\n",
       "</table>\n",
       "</div>"
      ],
      "text/plain": [
       "           City State    Zip   NAICS  Term  NoEmp  NewExist  RetainedJob  \\\n",
       "0    EVANSVILLE    IN  47711  451120    84      4       2.0            0   \n",
       "1     NEW PARIS    IN  46526  722410    60      2       2.0            0   \n",
       "2   BLOOMINGTON    IN  47401  621210   180      7       1.0            0   \n",
       "3  BROKEN ARROW    OK  74012       0    60      2       1.0            0   \n",
       "4       ORLANDO    FL  32801       0   240     14       1.0            7   \n",
       "\n",
       "  LowDoc MIS_Status    GrAppv      SBA_Appv  \n",
       "0      Y      P I F   60000.0   $48,000.00   \n",
       "1      Y      P I F   40000.0   $32,000.00   \n",
       "2      N      P I F  287000.0  $215,250.00   \n",
       "3      Y      P I F   35000.0   $28,000.00   \n",
       "4      N      P I F  229000.0  $229,000.00   "
      ]
     },
     "execution_count": 214,
     "metadata": {},
     "output_type": "execute_result"
    }
   ],
   "source": [
    "# At this stage, I have no idea how to impute other invalid values\n",
    "# So, I will drop others\n",
    "SBA = SBA[(SBA['LowDoc'] == 'Y') | (SBA['LowDoc'] == 'N')]\n",
    "SBA.head()"
   ]
  },
  {
   "cell_type": "code",
   "execution_count": null,
   "metadata": {},
   "outputs": [
    {
     "name": "stdout",
     "output_type": "stream",
     "text": [
      "        feature data_type  null  nulPercentage  unique\n",
      "0          City    object    30           0.00   32502\n",
      "1         State    object    14           0.00      51\n",
      "2           Zip     int64     0           0.00   33588\n",
      "3         NAICS     int64     0           0.00    1311\n",
      "4          Term     int64     0           0.00     412\n",
      "5         NoEmp     int64     0           0.00     599\n",
      "6      NewExist   float64  1166           0.13       2\n",
      "7   RetainedJob     int64     0           0.00     358\n",
      "8        LowDoc    object     0           0.00       2\n",
      "9    MIS_Status    object  1991           0.22       2\n",
      "10       GrAppv   float64     0           0.00   22110\n",
      "11     SBA_Appv    object     0           0.00   38303\n"
     ]
    }
   ],
   "source": [
    "information(SBA)"
   ]
  },
  {
   "attachments": {},
   "cell_type": "markdown",
   "metadata": {},
   "source": [
    "##### Impute City"
   ]
  },
  {
   "cell_type": "code",
   "execution_count": null,
   "metadata": {},
   "outputs": [],
   "source": [
    "# Loop through Zip column and fill in missing values in City and State columns\n",
    "# By using the uszipcode library\n",
    "\n",
    "# Iterate over each row in the DataFrame\n",
    "for index, row in SBA.iterrows():\n",
    "    city = row['City']\n",
    "    state = row['State']\n",
    "    zip_code = row['Zip']\n",
    "\n",
    "    # Check if either City or State is null and Zip is not null\n",
    "    if pd.isnull(city) or pd.isnull(state) and not pd.isnull(zip_code):\n",
    "        # Use the SearchEngine to search for the City and State based on the Zip code\n",
    "        result = search.by_zipcode(zip_code)\n",
    "        \n",
    "        # Check if the result is found\n",
    "        if result is not None:\n",
    "            # If City is null, fill it with the retrieved City value\n",
    "            if pd.isnull(city):\n",
    "                SBA.at[index, 'City'] = result.major_city\n",
    "            \n",
    "            # If State is null, fill it with the retrieved State value\n",
    "            if pd.isnull(state):\n",
    "                SBA.at[index, 'State'] = result.state\n",
    "            \n",
    "        else:\n",
    "            # Drop the row if the Zip code is inappropriate and City or State is null\n",
    "            SBA.drop(index, inplace=True)\n",
    "            \n",
    "SBA = SBA.drop(columns=['Zip'])"
   ]
  },
  {
   "cell_type": "code",
   "execution_count": null,
   "metadata": {},
   "outputs": [
    {
     "data": {
      "text/plain": [
       "(633633, 11)"
      ]
     },
     "execution_count": 217,
     "metadata": {},
     "output_type": "execute_result"
    }
   ],
   "source": [
    "# After checking values in the City column, I found that there are some values that are not cities which has many special characters\n",
    "# I will drop these rows\n",
    "SBA = SBA[SBA['City'].str.contains('^[a-zA-Z]+$', regex=True)]\n",
    "SBA.shape"
   ]
  },
  {
   "attachments": {},
   "cell_type": "markdown",
   "metadata": {},
   "source": [
    "##### NAICS"
   ]
  },
  {
   "cell_type": "code",
   "execution_count": null,
   "metadata": {},
   "outputs": [],
   "source": [
    "SBA['NAICS'] = SBA['NAICS'].apply(lambda x: int(str(x)[:2]) if len(str(x)) == 6 else np.nan)\n",
    "SBA.dropna(subset=['NAICS'], inplace=True)"
   ]
  },
  {
   "attachments": {},
   "cell_type": "markdown",
   "metadata": {},
   "source": [
    "##### NewExist"
   ]
  },
  {
   "cell_type": "code",
   "execution_count": null,
   "metadata": {},
   "outputs": [],
   "source": [
    "# There is the column RetainedJob which is the number of jobs retained\n",
    "# Which means if the retained job is 0, the business is new, else it is existing\n",
    "# By that way of thinking, I will fill the missing values of NewExist column with 1 if RetainedJob is not 0, else 2\n",
    "SBA.loc[(SBA['NewExist'].isnull()) & (SBA['RetainedJob'] != 0), 'NewExist'] = 1\n",
    "SBA.loc[(SBA['NewExist'].isnull()) & (SBA['RetainedJob'] == 0), 'NewExist'] = 2\n",
    "SBA = SBA.drop(columns=['RetainedJob'])"
   ]
  },
  {
   "attachments": {},
   "cell_type": "markdown",
   "metadata": {},
   "source": [
    "##### Currency columns"
   ]
  },
  {
   "cell_type": "code",
   "execution_count": null,
   "metadata": {},
   "outputs": [],
   "source": [
    "# Cleaning currency columns\n",
    "SBA['GrAppv'] = SBA['GrAppv'].apply(lambda x: float(str(x).replace('$', '').replace(',', '')))\n",
    "SBA['SBA_Appv'] = SBA['SBA_Appv'].apply(lambda x: float(str(x).replace('$', '').replace(',', '')))"
   ]
  },
  {
   "attachments": {},
   "cell_type": "markdown",
   "metadata": {},
   "source": [
    "##### MIS_Status"
   ]
  },
  {
   "cell_type": "code",
   "execution_count": null,
   "metadata": {},
   "outputs": [],
   "source": [
    "# I have to drop null values in the MIS_Status column\n",
    "# Since it is the target column\n",
    "SBA.dropna(subset=['MIS_Status'], inplace=True)"
   ]
  },
  {
   "cell_type": "code",
   "execution_count": null,
   "metadata": {},
   "outputs": [
    {
     "name": "stdout",
     "output_type": "stream",
     "text": [
      "(486644, 10)\n"
     ]
    },
    {
     "data": {
      "text/plain": [
       "MIS_Status\n",
       "P I F     390296\n",
       "CHGOFF     96348\n",
       "Name: count, dtype: int64"
      ]
     },
     "execution_count": 222,
     "metadata": {},
     "output_type": "execute_result"
    }
   ],
   "source": [
    "print(SBA.shape)\n",
    "SBA['MIS_Status'].value_counts()"
   ]
  },
  {
   "attachments": {},
   "cell_type": "markdown",
   "metadata": {},
   "source": [
    "# Export Data"
   ]
  },
  {
   "cell_type": "code",
   "execution_count": null,
   "metadata": {},
   "outputs": [
    {
     "name": "stdout",
     "output_type": "stream",
     "text": [
      "      feature data_type  null  nulPercentage  unique\n",
      "0        City    object     0            0.0   16758\n",
      "1       State    object     0            0.0      51\n",
      "2       NAICS   float64     0            0.0      24\n",
      "3        Term     int64     0            0.0     362\n",
      "4       NoEmp     int64     0            0.0     451\n",
      "5    NewExist   float64     0            0.0       2\n",
      "6      LowDoc    object     0            0.0       2\n",
      "7  MIS_Status    object     0            0.0       2\n",
      "8      GrAppv   float64     0            0.0   14267\n",
      "9    SBA_Appv   float64     0            0.0   23764\n"
     ]
    }
   ],
   "source": [
    "information(SBA)"
   ]
  },
  {
   "cell_type": "code",
   "execution_count": null,
   "metadata": {},
   "outputs": [],
   "source": [
    "# Export the cleaned data\n",
    "SBA.to_csv('SBA_cleaned.csv', index=False)"
   ]
  },
  {
   "cell_type": "markdown",
   "metadata": {},
   "source": [
    "# Encode and Remove outliers"
   ]
  },
  {
   "cell_type": "code",
   "execution_count": null,
   "metadata": {},
   "outputs": [],
   "source": [
    "# Encode MIS_Status, Lowdoc\n",
    "SBA['MIS_Status'] = SBA['MIS_Status'].map({'P I F': 0, 'CHGOFF': 1})\n",
    "SBA['LowDoc'] = SBA['LowDoc'].map({'N': 0, 'Y': 1})"
   ]
  },
  {
   "cell_type": "code",
   "execution_count": null,
   "metadata": {},
   "outputs": [],
   "source": [
    "# classification of columns that require one-hot encoding\n",
    "selected_cols = ['City', 'State']\n",
    "Noo_SBA = SBA.drop(selected_cols, axis=1)"
   ]
  },
  {
   "cell_type": "code",
   "execution_count": null,
   "metadata": {},
   "outputs": [
    {
     "data": {
      "image/png": "[encoded data removed]",
      "text/plain": [
       "<Figure size 1200x1600 with 8 Axes>"
      ]
     },
     "metadata": {},
     "output_type": "display_data"
    }
   ],
   "source": [
    "# Plot the distribution of each column\n",
    "columns = Noo_SBA.columns\n",
    "\n",
    "fig, axs = plt.subplots(4, 2, figsize=(12, 16))\n",
    "\n",
    "for i, column in enumerate(columns):\n",
    "    row = i // 2\n",
    "    col = i % 2\n",
    "    sns.boxplot(x=Noo_SBA[column], ax=axs[row, col])\n",
    "    axs[row, col].set_xlabel(column)\n",
    "    axs[row, col].set_title(f'Box Plot of {column}')\n",
    "plt.tight_layout()\n",
    "plt.show()\n",
    "\n"
   ]
  },
  {
   "cell_type": "markdown",
   "metadata": {},
   "source": [
    "<sub> Based on the charts above, we can observe that the data in columns such as GrAppv, SBA_Appv, NoEmp, and Term tends to be skewed."
   ]
  },
  {
   "cell_type": "markdown",
   "metadata": {},
   "source": [
    "</sub>\n",
    "<sub> Therefore, we will use the IQR method to remove outliers. </sub>"
   ]
  },
  {
   "cell_type": "code",
   "execution_count": null,
   "metadata": {},
   "outputs": [],
   "source": [
    "columns = ['NAICS', 'Term', 'SBA_Appv', 'GrAppv', 'NoEmp']\n",
    "\n",
    "for column in columns:\n",
    "\n",
    "    # Calculate the IQR for column\n",
    "    Q1 = SBA[column].quantile(0.25)\n",
    "    Q3 = SBA[column].quantile(0.75)\n",
    "    IQR = Q3 - Q1\n",
    "    lower = Q1 - 1.5*IQR\n",
    "    upper = Q3 + 1.5*IQR\n",
    "    \n",
    "    # Remove outliers in the column\n",
    "    outliers_term = SBA[(SBA[column] < lower) | (SBA[column] > upper)]\n",
    "    SBA = SBA.drop(outliers_term.index)"
   ]
  },
  {
   "cell_type": "code",
   "execution_count": null,
   "metadata": {},
   "outputs": [
    {
     "data": {
      "text/html": [
       "<div>\n",
       "<style scoped>\n",
       "    .dataframe tbody tr th:only-of-type {\n",
       "        vertical-align: middle;\n",
       "    }\n",
       "\n",
       "    .dataframe tbody tr th {\n",
       "        vertical-align: top;\n",
       "    }\n",
       "\n",
       "    .dataframe thead th {\n",
       "        text-align: right;\n",
       "    }\n",
       "</style>\n",
       "<table border=\"1\" class=\"dataframe\">\n",
       "  <thead>\n",
       "    <tr style=\"text-align: right;\">\n",
       "      <th></th>\n",
       "      <th>NAICS</th>\n",
       "      <th>Term</th>\n",
       "      <th>NoEmp</th>\n",
       "      <th>NewExist</th>\n",
       "      <th>LowDoc</th>\n",
       "      <th>MIS_Status</th>\n",
       "      <th>GrAppv</th>\n",
       "      <th>SBA_Appv</th>\n",
       "      <th>City_AAHULUI</th>\n",
       "      <th>City_ABBEVILLE</th>\n",
       "      <th>...</th>\n",
       "      <th>State_SD</th>\n",
       "      <th>State_TN</th>\n",
       "      <th>State_TX</th>\n",
       "      <th>State_UT</th>\n",
       "      <th>State_VA</th>\n",
       "      <th>State_VT</th>\n",
       "      <th>State_WA</th>\n",
       "      <th>State_WI</th>\n",
       "      <th>State_WV</th>\n",
       "      <th>State_WY</th>\n",
       "    </tr>\n",
       "  </thead>\n",
       "  <tbody>\n",
       "    <tr>\n",
       "      <th>0</th>\n",
       "      <td>45.0</td>\n",
       "      <td>84</td>\n",
       "      <td>4</td>\n",
       "      <td>2.0</td>\n",
       "      <td>1</td>\n",
       "      <td>0</td>\n",
       "      <td>60000.0</td>\n",
       "      <td>48000.0</td>\n",
       "      <td>0</td>\n",
       "      <td>0</td>\n",
       "      <td>...</td>\n",
       "      <td>0</td>\n",
       "      <td>0</td>\n",
       "      <td>0</td>\n",
       "      <td>0</td>\n",
       "      <td>0</td>\n",
       "      <td>0</td>\n",
       "      <td>0</td>\n",
       "      <td>0</td>\n",
       "      <td>0</td>\n",
       "      <td>0</td>\n",
       "    </tr>\n",
       "    <tr>\n",
       "      <th>7</th>\n",
       "      <td>81.0</td>\n",
       "      <td>84</td>\n",
       "      <td>1</td>\n",
       "      <td>2.0</td>\n",
       "      <td>1</td>\n",
       "      <td>0</td>\n",
       "      <td>45000.0</td>\n",
       "      <td>36000.0</td>\n",
       "      <td>0</td>\n",
       "      <td>0</td>\n",
       "      <td>...</td>\n",
       "      <td>0</td>\n",
       "      <td>0</td>\n",
       "      <td>0</td>\n",
       "      <td>0</td>\n",
       "      <td>0</td>\n",
       "      <td>0</td>\n",
       "      <td>0</td>\n",
       "      <td>0</td>\n",
       "      <td>0</td>\n",
       "      <td>0</td>\n",
       "    </tr>\n",
       "    <tr>\n",
       "      <th>10</th>\n",
       "      <td>81.0</td>\n",
       "      <td>84</td>\n",
       "      <td>1</td>\n",
       "      <td>2.0</td>\n",
       "      <td>1</td>\n",
       "      <td>0</td>\n",
       "      <td>70000.0</td>\n",
       "      <td>56000.0</td>\n",
       "      <td>0</td>\n",
       "      <td>0</td>\n",
       "      <td>...</td>\n",
       "      <td>0</td>\n",
       "      <td>0</td>\n",
       "      <td>0</td>\n",
       "      <td>0</td>\n",
       "      <td>0</td>\n",
       "      <td>0</td>\n",
       "      <td>0</td>\n",
       "      <td>0</td>\n",
       "      <td>0</td>\n",
       "      <td>0</td>\n",
       "    </tr>\n",
       "    <tr>\n",
       "      <th>30</th>\n",
       "      <td>23.0</td>\n",
       "      <td>84</td>\n",
       "      <td>4</td>\n",
       "      <td>1.0</td>\n",
       "      <td>0</td>\n",
       "      <td>0</td>\n",
       "      <td>35000.0</td>\n",
       "      <td>17500.0</td>\n",
       "      <td>0</td>\n",
       "      <td>0</td>\n",
       "      <td>...</td>\n",
       "      <td>0</td>\n",
       "      <td>0</td>\n",
       "      <td>0</td>\n",
       "      <td>0</td>\n",
       "      <td>0</td>\n",
       "      <td>0</td>\n",
       "      <td>0</td>\n",
       "      <td>0</td>\n",
       "      <td>0</td>\n",
       "      <td>0</td>\n",
       "    </tr>\n",
       "    <tr>\n",
       "      <th>33</th>\n",
       "      <td>45.0</td>\n",
       "      <td>84</td>\n",
       "      <td>2</td>\n",
       "      <td>2.0</td>\n",
       "      <td>0</td>\n",
       "      <td>0</td>\n",
       "      <td>30000.0</td>\n",
       "      <td>22500.0</td>\n",
       "      <td>0</td>\n",
       "      <td>0</td>\n",
       "      <td>...</td>\n",
       "      <td>0</td>\n",
       "      <td>0</td>\n",
       "      <td>0</td>\n",
       "      <td>0</td>\n",
       "      <td>0</td>\n",
       "      <td>0</td>\n",
       "      <td>0</td>\n",
       "      <td>0</td>\n",
       "      <td>0</td>\n",
       "      <td>0</td>\n",
       "    </tr>\n",
       "    <tr>\n",
       "      <th>...</th>\n",
       "      <td>...</td>\n",
       "      <td>...</td>\n",
       "      <td>...</td>\n",
       "      <td>...</td>\n",
       "      <td>...</td>\n",
       "      <td>...</td>\n",
       "      <td>...</td>\n",
       "      <td>...</td>\n",
       "      <td>...</td>\n",
       "      <td>...</td>\n",
       "      <td>...</td>\n",
       "      <td>...</td>\n",
       "      <td>...</td>\n",
       "      <td>...</td>\n",
       "      <td>...</td>\n",
       "      <td>...</td>\n",
       "      <td>...</td>\n",
       "      <td>...</td>\n",
       "      <td>...</td>\n",
       "      <td>...</td>\n",
       "      <td>...</td>\n",
       "    </tr>\n",
       "    <tr>\n",
       "      <th>899136</th>\n",
       "      <td>45.0</td>\n",
       "      <td>72</td>\n",
       "      <td>6</td>\n",
       "      <td>1.0</td>\n",
       "      <td>1</td>\n",
       "      <td>0</td>\n",
       "      <td>75000.0</td>\n",
       "      <td>60000.0</td>\n",
       "      <td>0</td>\n",
       "      <td>0</td>\n",
       "      <td>...</td>\n",
       "      <td>0</td>\n",
       "      <td>0</td>\n",
       "      <td>0</td>\n",
       "      <td>0</td>\n",
       "      <td>0</td>\n",
       "      <td>0</td>\n",
       "      <td>0</td>\n",
       "      <td>0</td>\n",
       "      <td>0</td>\n",
       "      <td>0</td>\n",
       "    </tr>\n",
       "    <tr>\n",
       "      <th>899143</th>\n",
       "      <td>23.0</td>\n",
       "      <td>62</td>\n",
       "      <td>1</td>\n",
       "      <td>2.0</td>\n",
       "      <td>0</td>\n",
       "      <td>1</td>\n",
       "      <td>150000.0</td>\n",
       "      <td>112500.0</td>\n",
       "      <td>0</td>\n",
       "      <td>0</td>\n",
       "      <td>...</td>\n",
       "      <td>0</td>\n",
       "      <td>0</td>\n",
       "      <td>0</td>\n",
       "      <td>0</td>\n",
       "      <td>0</td>\n",
       "      <td>0</td>\n",
       "      <td>0</td>\n",
       "      <td>0</td>\n",
       "      <td>0</td>\n",
       "      <td>0</td>\n",
       "    </tr>\n",
       "    <tr>\n",
       "      <th>899145</th>\n",
       "      <td>23.0</td>\n",
       "      <td>60</td>\n",
       "      <td>5</td>\n",
       "      <td>1.0</td>\n",
       "      <td>0</td>\n",
       "      <td>0</td>\n",
       "      <td>25000.0</td>\n",
       "      <td>12500.0</td>\n",
       "      <td>0</td>\n",
       "      <td>0</td>\n",
       "      <td>...</td>\n",
       "      <td>0</td>\n",
       "      <td>0</td>\n",
       "      <td>0</td>\n",
       "      <td>0</td>\n",
       "      <td>0</td>\n",
       "      <td>0</td>\n",
       "      <td>0</td>\n",
       "      <td>0</td>\n",
       "      <td>0</td>\n",
       "      <td>0</td>\n",
       "    </tr>\n",
       "    <tr>\n",
       "      <th>899149</th>\n",
       "      <td>62.0</td>\n",
       "      <td>108</td>\n",
       "      <td>1</td>\n",
       "      <td>1.0</td>\n",
       "      <td>0</td>\n",
       "      <td>0</td>\n",
       "      <td>169000.0</td>\n",
       "      <td>126750.0</td>\n",
       "      <td>0</td>\n",
       "      <td>0</td>\n",
       "      <td>...</td>\n",
       "      <td>0</td>\n",
       "      <td>0</td>\n",
       "      <td>0</td>\n",
       "      <td>0</td>\n",
       "      <td>0</td>\n",
       "      <td>0</td>\n",
       "      <td>0</td>\n",
       "      <td>0</td>\n",
       "      <td>0</td>\n",
       "      <td>0</td>\n",
       "    </tr>\n",
       "    <tr>\n",
       "      <th>899160</th>\n",
       "      <td>45.0</td>\n",
       "      <td>60</td>\n",
       "      <td>6</td>\n",
       "      <td>1.0</td>\n",
       "      <td>0</td>\n",
       "      <td>0</td>\n",
       "      <td>85000.0</td>\n",
       "      <td>42500.0</td>\n",
       "      <td>0</td>\n",
       "      <td>0</td>\n",
       "      <td>...</td>\n",
       "      <td>0</td>\n",
       "      <td>0</td>\n",
       "      <td>0</td>\n",
       "      <td>0</td>\n",
       "      <td>0</td>\n",
       "      <td>0</td>\n",
       "      <td>0</td>\n",
       "      <td>0</td>\n",
       "      <td>0</td>\n",
       "      <td>0</td>\n",
       "    </tr>\n",
       "  </tbody>\n",
       "</table>\n",
       "<p>312346 rows × 14377 columns</p>\n",
       "</div>"
      ],
      "text/plain": [
       "        NAICS  Term  NoEmp  NewExist  LowDoc  MIS_Status    GrAppv  SBA_Appv  \\\n",
       "0        45.0    84      4       2.0       1           0   60000.0   48000.0   \n",
       "7        81.0    84      1       2.0       1           0   45000.0   36000.0   \n",
       "10       81.0    84      1       2.0       1           0   70000.0   56000.0   \n",
       "30       23.0    84      4       1.0       0           0   35000.0   17500.0   \n",
       "33       45.0    84      2       2.0       0           0   30000.0   22500.0   \n",
       "...       ...   ...    ...       ...     ...         ...       ...       ...   \n",
       "899136   45.0    72      6       1.0       1           0   75000.0   60000.0   \n",
       "899143   23.0    62      1       2.0       0           1  150000.0  112500.0   \n",
       "899145   23.0    60      5       1.0       0           0   25000.0   12500.0   \n",
       "899149   62.0   108      1       1.0       0           0  169000.0  126750.0   \n",
       "899160   45.0    60      6       1.0       0           0   85000.0   42500.0   \n",
       "\n",
       "        City_AAHULUI  City_ABBEVILLE  ...  State_SD  State_TN  State_TX  \\\n",
       "0                  0               0  ...         0         0         0   \n",
       "7                  0               0  ...         0         0         0   \n",
       "10                 0               0  ...         0         0         0   \n",
       "30                 0               0  ...         0         0         0   \n",
       "33                 0               0  ...         0         0         0   \n",
       "...              ...             ...  ...       ...       ...       ...   \n",
       "899136             0               0  ...         0         0         0   \n",
       "899143             0               0  ...         0         0         0   \n",
       "899145             0               0  ...         0         0         0   \n",
       "899149             0               0  ...         0         0         0   \n",
       "899160             0               0  ...         0         0         0   \n",
       "\n",
       "        State_UT  State_VA  State_VT  State_WA  State_WI  State_WV  State_WY  \n",
       "0              0         0         0         0         0         0         0  \n",
       "7              0         0         0         0         0         0         0  \n",
       "10             0         0         0         0         0         0         0  \n",
       "30             0         0         0         0         0         0         0  \n",
       "33             0         0         0         0         0         0         0  \n",
       "...          ...       ...       ...       ...       ...       ...       ...  \n",
       "899136         0         0         0         0         0         0         0  \n",
       "899143         0         0         0         0         0         0         0  \n",
       "899145         0         0         0         0         0         0         0  \n",
       "899149         0         0         0         0         0         0         0  \n",
       "899160         0         0         0         0         0         0         0  \n",
       "\n",
       "[312346 rows x 14377 columns]"
      ]
     },
     "execution_count": 229,
     "metadata": {},
     "output_type": "execute_result"
    }
   ],
   "source": [
    "# Onehot encoding \"City\", \"State\"\n",
    "selected_cols = ['City', 'State']\n",
    "encoded_SBA = pd.get_dummies(SBA[selected_cols], dtype=np.uint8)\n",
    "Noo_SBA = SBA.drop(selected_cols, axis=1)\n",
    "SBA = pd.concat([Noo_SBA, encoded_SBA], axis=1)\n",
    "\n",
    "SBA\n"
   ]
  },
  {
   "cell_type": "code",
   "execution_count": 240,
   "metadata": {},
   "outputs": [],
   "source": [
    "# Export the cleaned data\n",
    "SBA.to_csv('SBA_cleaned.csv', index=False)"
   ]
  }
 ],
 "metadata": {
  "kernelspec": {
   "display_name": "Python 3",
   "language": "python",
   "name": "python3"
  },
  "language_info": {
   "codemirror_mode": {
    "name": "ipython",
    "version": 3
   },
   "file_extension": ".py",
   "mimetype": "text/x-python",
   "name": "python",
   "nbconvert_exporter": "python",
   "pygments_lexer": "ipython3",
   "version": "3.10.8"
  },
  "orig_nbformat": 4
 },
 "nbformat": 4,
 "nbformat_minor": 2
}
